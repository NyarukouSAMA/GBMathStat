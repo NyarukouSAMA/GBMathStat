{
 "metadata": {
  "language_info": {
   "codemirror_mode": {
    "name": "ipython",
    "version": 3
   },
   "file_extension": ".py",
   "mimetype": "text/x-python",
   "name": "python",
   "nbconvert_exporter": "python",
   "pygments_lexer": "ipython3",
   "version": "3.7.3"
  },
  "orig_nbformat": 2,
  "kernelspec": {
   "name": "python373jvsc74a57bd04480e32245891b07b354378c7dbc380a1b3f17ee24171af64af582c25470e498",
   "display_name": "Python 3.7.3 64-bit ('base': conda)"
  }
 },
 "nbformat": 4,
 "nbformat_minor": 2,
 "cells": [
  {
   "source": [
    "### Задача 3\n",
    "\n",
    "В университет на факультет A поступило 100 человек, на факультет B - 90 человек и на факультет C - 45 человек. Вероятность того, что студент с факультета A сдаст первую сессию, равна 0.6. Для студента с факультета B эта вероятность равна 0.7, а для студента с факультета C - 0.8. Случайным образом выбирается студент, сдавший первую сессию. Какое событие наиболее вероятно:\n",
    "\n",
    "1. студент учится на факультете A\n",
    "2. студент учится на факультете B\n",
    "3. студент учится на факультете C"
   ],
   "cell_type": "markdown",
   "metadata": {}
  },
  {
   "source": [
    "Можно определить вероятность того, на каком факультете учиться студент. Кроме того, нам известна условная вероятность сдачи сессий, при условии учебы на определенном факультете нам известна. Тогда, мы можем применить формулу Байса и найти обратную условную вероятность."
   ],
   "cell_type": "markdown",
   "metadata": {}
  },
  {
   "cell_type": "code",
   "execution_count": 1,
   "metadata": {},
   "outputs": [],
   "source": [
    "nA = 100\n",
    "nB = 90\n",
    "nC = 45\n",
    "nSum = nA + nB + nC\n",
    "\n",
    "p_A = nA/nSum\n",
    "p_B = nB/nSum\n",
    "p_C = nC/nSum\n",
    "\n",
    "p_YA = 0.6\n",
    "p_YB = 0.7\n",
    "p_YC = 0.8"
   ]
  },
  {
   "cell_type": "code",
   "execution_count": 2,
   "metadata": {},
   "outputs": [],
   "source": [
    "p_Y = p_YA * p_A + p_YB * p_B + p_YC * p_C"
   ]
  },
  {
   "cell_type": "code",
   "execution_count": 3,
   "metadata": {},
   "outputs": [],
   "source": [
    "p_AY = (p_YA * p_A)/p_Y\n",
    "p_BY = (p_YB * p_B)/p_Y\n",
    "p_CY = (p_YC * p_C)/p_Y"
   ]
  },
  {
   "cell_type": "code",
   "execution_count": 4,
   "metadata": {},
   "outputs": [
    {
     "output_type": "stream",
     "name": "stdout",
     "text": [
      "0.3773584905660377 0.39622641509433965 0.22641509433962265\n"
     ]
    }
   ],
   "source": [
    "print(p_AY, p_BY, p_CY)"
   ]
  },
  {
   "source": [
    "С наибольшей вероятность, студент сдавший экзамен окажется с факультета B."
   ],
   "cell_type": "markdown",
   "metadata": {}
  },
  {
   "source": [
    "### Задача 1\n",
    "\n",
    "Даны значения зарплат из выборки выпускников:\n",
    "\n",
    "100, 80, 75, 77, 89, 33, 45, 25, 65, 17, 30, 230, 24, 57, 55, 70, 75, 65, 84, 90, 150\n",
    "\n",
    "Используя только встроенные питоновские функции и структуры данных (т.е. без библиотек numpy, pandas и др.), посчитайте (несмещённое) среднее квадратичное отклонение для данной выборки."
   ],
   "cell_type": "markdown",
   "metadata": {}
  },
  {
   "cell_type": "code",
   "execution_count": 1,
   "metadata": {},
   "outputs": [],
   "source": [
    "import numpy as np"
   ]
  },
  {
   "cell_type": "code",
   "execution_count": 3,
   "metadata": {},
   "outputs": [],
   "source": [
    "salaryArr = np.array([100, 80, 75, 77, 89, 33, 45, 25, 65, 17, 30, 230, 24, 57, 55, 70, 75, 65, 84, 90, 150])"
   ]
  },
  {
   "cell_type": "code",
   "execution_count": 4,
   "metadata": {},
   "outputs": [
    {
     "output_type": "execute_result",
     "data": {
      "text/plain": [
       "47.347952135531386"
      ]
     },
     "metadata": {},
     "execution_count": 4
    }
   ],
   "source": [
    "np.std(salaryArr, ddof=1)"
   ]
  },
  {
   "cell_type": "code",
   "execution_count": 5,
   "metadata": {},
   "outputs": [],
   "source": [
    "import pandas as pd"
   ]
  },
  {
   "cell_type": "code",
   "execution_count": 6,
   "metadata": {},
   "outputs": [],
   "source": [
    "salaryDF = pd.DataFrame({'salary': salaryArr})"
   ]
  },
  {
   "cell_type": "code",
   "execution_count": 9,
   "metadata": {},
   "outputs": [
    {
     "output_type": "execute_result",
     "data": {
      "text/plain": [
       "47.34795213553139"
      ]
     },
     "metadata": {},
     "execution_count": 9
    }
   ],
   "source": [
    "salaryDF['salary'].std(ddof=1)"
   ]
  },
  {
   "source": [
    "### Задача 2\n",
    "\n",
    "Найдите число выбросов в выборке из задачи 1. Для определения выбросов используйте методику как при построении \"усов\" в boxplot, однако, как и в задаче 1, пользоваться можно только встроенными функциями и структурами данных."
   ],
   "cell_type": "markdown",
   "metadata": {}
  },
  {
   "cell_type": "code",
   "execution_count": 12,
   "metadata": {},
   "outputs": [],
   "source": [
    "q1=np.quantile(salaryArr, 0.25)\n",
    "q3=np.quantile(salaryArr, 0.75)\n",
    "iqr = q3 - q1"
   ]
  },
  {
   "cell_type": "code",
   "execution_count": 22,
   "metadata": {},
   "outputs": [
    {
     "output_type": "execute_result",
     "data": {
      "text/plain": [
       "array([230, 150])"
      ]
     },
     "metadata": {},
     "execution_count": 22
    }
   ],
   "source": [
    "np.append(salaryArr[salaryArr < (q1 - 1.5*iqr)], salaryArr[salaryArr > (q3 + 1.5*iqr)])"
   ]
  },
  {
   "cell_type": "code",
   "execution_count": 24,
   "metadata": {},
   "outputs": [],
   "source": [
    "q1, q3 = salaryDF['salary'].quantile([0.25, 0.75])\n",
    "iqr = q3 - q1\n",
    "\n",
    "bx_rng = (q1 - 1.5 * iqr, q3 + 1.5 * iqr)"
   ]
  },
  {
   "cell_type": "code",
   "execution_count": 25,
   "metadata": {},
   "outputs": [
    {
     "output_type": "execute_result",
     "data": {
      "text/plain": [
       "    salary\n",
       "11     230\n",
       "20     150"
      ],
      "text/html": "<div>\n<style scoped>\n    .dataframe tbody tr th:only-of-type {\n        vertical-align: middle;\n    }\n\n    .dataframe tbody tr th {\n        vertical-align: top;\n    }\n\n    .dataframe thead th {\n        text-align: right;\n    }\n</style>\n<table border=\"1\" class=\"dataframe\">\n  <thead>\n    <tr style=\"text-align: right;\">\n      <th></th>\n      <th>salary</th>\n    </tr>\n  </thead>\n  <tbody>\n    <tr>\n      <th>11</th>\n      <td>230</td>\n    </tr>\n    <tr>\n      <th>20</th>\n      <td>150</td>\n    </tr>\n  </tbody>\n</table>\n</div>"
     },
     "metadata": {},
     "execution_count": 25
    }
   ],
   "source": [
    "salaryDF.loc[(salaryDF['salary'] < bx_rng[0]) | (salaryDF['salary'] > bx_rng[1])]"
   ]
  },
  {
   "cell_type": "code",
   "execution_count": null,
   "metadata": {},
   "outputs": [],
   "source": []
  }
 ]
}