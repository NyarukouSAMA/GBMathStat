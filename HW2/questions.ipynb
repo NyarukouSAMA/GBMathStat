{
 "metadata": {
  "language_info": {
   "codemirror_mode": {
    "name": "ipython",
    "version": 3
   },
   "file_extension": ".py",
   "mimetype": "text/x-python",
   "name": "python",
   "nbconvert_exporter": "python",
   "pygments_lexer": "ipython3",
   "version": 3
  },
  "orig_nbformat": 2
 },
 "nbformat": 4,
 "nbformat_minor": 2,
 "cells": [
  {
   "source": [
    "### Вопрос №1\n",
    "\n",
    "Если мы говорим про сумму, то мы говорим, что вероятность для них $P(X_i,Y_j) = P(X_i)*P(Y_j)$. Значит-ли это, что вероятность разности или произведения двух случайных велечин считаются так-же через произведение?"
   ],
   "cell_type": "markdown",
   "metadata": {}
  },
  {
   "source": [
    "### Вопрос номер 2\n",
    "\n",
    "В примере номер 3 я сначала пробовал через геометрическое распределение. Но практически сразу получил какую-то билеберду... Насколько я понял, мы при помощи такого распределения оцениваем вероятность наступления события A для n повторений, если знаем вероятность наступления события A для одновго повторения. Или я что-то неправильно понял в лекции."
   ],
   "cell_type": "markdown",
   "metadata": {}
  },
  {
   "cell_type": "code",
   "execution_count": null,
   "metadata": {},
   "outputs": [],
   "source": [
    "1"
   ]
  }
 ]
}