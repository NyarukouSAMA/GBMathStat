{
 "cells": [
  {
   "cell_type": "markdown",
   "metadata": {},
   "source": [
    "# Теория вероятностей и математическая статистика\n",
    "\n",
    "## Урок 1\n",
    "\n",
    "## Случайные события. Вероятность события. Условная вероятность. Формула Байеса"
   ]
  },
  {
   "cell_type": "markdown",
   "metadata": {},
   "source": [
    "### Случайные события\n",
    "\n",
    "__Случайное событие__ — любой исход опыта, который может произойти или не произойти.\n",
    "\n",
    "Например,\n",
    "1. При броске двух игральных костей на одной выпало число $1$, а на другой — $2$.\n",
    "2. Клиент банка не вернул кредит.\n",
    "3. Температура воздуха в Москве за последние десять дней не превышала $29$ градусов по Цельсию."
   ]
  },
  {
   "cell_type": "markdown",
   "metadata": {},
   "source": [
    "Пусть $A$ и $B$ — случайные события.\n",
    "* __Сумма__ событий $A + B$ соответствует наступлению хотя бы одного из событий $A$ и $B$. Такое событие иногда называют __объединением__.\n",
    "* __Произведение__ $A \\cdot B$ соответствует наступлению событий $A$ и $B$ одновременно. Такое событие ещё называется __совместным__ (что, вообще, не во всех случаях корректно), потому что мы можем предположить возможность наступления события A и B одновременно, но одновременно они никогда не случаться, например, одновременно на 1 кубике не может выпасть 2 и 5. Это два события, которые мы хотим, что-бы они наступили одновременно, поэтому это произведение, однако эти события несовместны и никогда одновременно не наступят.\n",
    "* __Отрицание__ $\\overline{A}$ соответствует тому, что событие $A$ не наступило. Такое событие также называется __дополнением__."
   ]
  },
  {
   "cell_type": "markdown",
   "metadata": {},
   "source": [
    "Событие называется __достоверным__, если в результате испытания оно обязательно произойдёт. \n",
    "\n",
    "Например,\n",
    "1. На игральной кости выпало число, не превышающее $6$.\n",
    "2. Подбросили монету, и выпал либо орёл, либо решка.\n",
    "3. Монету подбросили стократно, и решка выпала не более $100$ раз.\n",
    "\n",
    "Наоборот, __невозможным событием__ мы называем событие, которое никогда не произойдёт.\n",
    "\n",
    "Например,\n",
    "1. Две игральные кости бросили один раз, и сумма выпавших чисел составила $15$.\n",
    "2. Монету подбросили стократно, и решка выпала $55$ раз, а орёл — $56$."
   ]
  },
  {
   "cell_type": "markdown",
   "metadata": {},
   "source": [
    "__Совместными__ называются события, которые могут произойти вместе. Соответственно, __несовместными__ называются события, которые вместе случиться не могут.\n",
    "\n",
    "Например,\n",
    "* При броске монеты не могут одновременно выпасть орёл и решка.\n",
    "* При броске дротика в круглую мишень можно попасть одновременно в правую половину мишени и в нижнюю половину."
   ]
  },
  {
   "cell_type": "markdown",
   "metadata": {},
   "source": [
    "### Статистическая вероятность\n",
    "\n",
    "__Относительная частота__ случайного события — это отношение количества испытаний, в которых данное событие состоялось, к общему числу испытаний:\n",
    "$$W(A) = \\frac{m}{n},$$\n",
    "где\n",
    "* $m$ — число испытаний, в результате которых произошло событие $A$,\n",
    "* $n$ — общее число испытаний."
   ]
  },
  {
   "cell_type": "markdown",
   "metadata": {},
   "source": [
    "__Пример 1__\n",
    "\n",
    "Смоделируем $60$-кратное подбрасывание игральной кости с помощью функции `randint` из модуля `numpy.random`."
   ]
  },
  {
   "cell_type": "code",
   "execution_count": 1,
   "metadata": {},
   "outputs": [],
   "source": [
    "import numpy as np"
   ]
  },
  {
   "cell_type": "code",
   "execution_count": 13,
   "metadata": {},
   "outputs": [
    {
     "output_type": "stream",
     "name": "stdout",
     "text": [
      "[1 1 4 6 4 6 5 3 6 1 1 4 5 5 5 6 3 5 4 1 5 4 3 6 4 2 6 3 5 1 5 3 3 5 1 5 5\n 4 3 3 3 5 1 2 1 3 2 4 3 6 2 3 6 3 3 3 4 1 5 4]\n"
     ]
    }
   ],
   "source": [
    "n = 60\n",
    "\n",
    "b = np.random.randint(1, 7, size=n)\n",
    "\n",
    "print(b)"
   ]
  },
  {
   "cell_type": "markdown",
   "metadata": {},
   "source": [
    "Событием $A$ будем считать выпадение числа $3$. Сперва найдём его относительную частоту. Вычислим мощность подмножества, где наблюдалось событие $A$, т.е. выпадало число $3$:"
   ]
  },
  {
   "cell_type": "code",
   "execution_count": 27,
   "metadata": {},
   "outputs": [
    {
     "output_type": "execute_result",
     "data": {
      "text/plain": [
       "array([False, False, False, False, False, False, False,  True, False,\n",
       "       False, False, False, False, False, False, False,  True, False,\n",
       "       False, False, False, False,  True, False, False, False, False,\n",
       "        True, False, False, False,  True,  True, False, False, False,\n",
       "       False, False,  True,  True,  True, False, False, False, False,\n",
       "        True, False, False,  True, False, False,  True, False,  True,\n",
       "        True,  True, False, False, False, False])"
      ]
     },
     "metadata": {},
     "execution_count": 27
    }
   ],
   "source": [
    "b == 3"
   ]
  },
  {
   "cell_type": "code",
   "execution_count": 28,
   "metadata": {
    "colab": {},
    "colab_type": "code",
    "id": "R1XSM8SPsFJO"
   },
   "outputs": [
    {
     "output_type": "execute_result",
     "data": {
      "text/plain": [
       "15"
      ]
     },
     "metadata": {},
     "execution_count": 28
    }
   ],
   "source": [
    "m = (b == 3).sum()\n",
    "\n",
    "m"
   ]
  },
  {
   "cell_type": "markdown",
   "metadata": {
    "colab_type": "text",
    "id": "YRkBCTgosFJV"
   },
   "source": [
    "Итак, относительная частота события $A$:"
   ]
  },
  {
   "cell_type": "code",
   "execution_count": 29,
   "metadata": {
    "colab": {
     "base_uri": "https://localhost:8080/",
     "height": 35
    },
    "colab_type": "code",
    "executionInfo": {
     "elapsed": 806,
     "status": "ok",
     "timestamp": 1541495284486,
     "user": {
      "displayName": "Виолетта Гайдак",
      "photoUrl": "",
      "userId": "16983940382840418244"
     },
     "user_tz": -420
    },
    "id": "Lxfgfn5CsFJV",
    "outputId": "ab2e7433-4e27-4fb6-b2ae-477ca212defd"
   },
   "outputs": [
    {
     "output_type": "stream",
     "name": "stdout",
     "text": [
      "1.5e-06\n"
     ]
    }
   ],
   "source": [
    "W = m / n\n",
    "\n",
    "print(W)"
   ]
  },
  {
   "cell_type": "markdown",
   "metadata": {},
   "source": [
    "_Замечание_: здравый смысл подсказывает, что вероятность такого события равна $1 / 6$:"
   ]
  },
  {
   "cell_type": "code",
   "execution_count": 30,
   "metadata": {},
   "outputs": [
    {
     "output_type": "execute_result",
     "data": {
      "text/plain": [
       "0.16666666666666666"
      ]
     },
     "metadata": {},
     "execution_count": 30
    }
   ],
   "source": [
    "1 / 6"
   ]
  },
  {
   "cell_type": "markdown",
   "metadata": {
    "colab_type": "text",
    "id": "xcJc6quGsFJZ"
   },
   "source": [
    "__Пример 2__\n",
    "\n",
    "Разберём более сложный пример. Смоделируем ситуацию, когда бросают две игральные кости одновременно.\n",
    "\n",
    "При этом будем находить частоту случайного события $B$, при котором на первой кости выпало $1$, а на второй — $2$. \n",
    "\n",
    "Проведём для этого $360$ испытаний."
   ]
  },
  {
   "cell_type": "code",
   "execution_count": 31,
   "metadata": {
    "colab": {},
    "colab_type": "code",
    "id": "ZgdkvS6JsFJd"
   },
   "outputs": [],
   "source": [
    "n = 360\n",
    "\n",
    "c = np.random.randint(1, 7, size=n)\n",
    "d = np.random.randint(1, 7, size=n)"
   ]
  },
  {
   "cell_type": "markdown",
   "metadata": {
    "colab_type": "text",
    "id": "ATgZiDOgsFJm"
   },
   "source": [
    "Числа, стоящие на одной позиции в массивах `c` и `d`, будем считать результатами одного эксперимента.\n",
    "\n",
    "Например, в первом испытании на первой игральной кости выпало число `c[0]`, а на второй — `d[0]`."
   ]
  },
  {
   "cell_type": "code",
   "execution_count": 32,
   "metadata": {
    "colab": {
     "base_uri": "https://localhost:8080/",
     "height": 35
    },
    "colab_type": "code",
    "executionInfo": {
     "elapsed": 849,
     "status": "ok",
     "timestamp": 1541495289089,
     "user": {
      "displayName": "Виолетта Гайдак",
      "photoUrl": "",
      "userId": "16983940382840418244"
     },
     "user_tz": -420
    },
    "id": "SkEtXZxHsFJn",
    "outputId": "ea948386-2a77-438b-f79b-d3f4b115bc08"
   },
   "outputs": [
    {
     "output_type": "stream",
     "name": "stdout",
     "text": [
      "2 6\n"
     ]
    }
   ],
   "source": [
    "i = 3\n",
    "\n",
    "print(c[i], d[i])"
   ]
  },
  {
   "cell_type": "markdown",
   "metadata": {
    "colab_type": "text",
    "id": "7iVpKBCasFJs"
   },
   "source": [
    "Посчитаем число случав, когда в одном испытании на первой игральной кости выпало число $1$, а на второй — $2$."
   ]
  },
  {
   "cell_type": "code",
   "execution_count": 33,
   "metadata": {
    "colab": {
     "base_uri": "https://localhost:8080/",
     "height": 35
    },
    "colab_type": "code",
    "executionInfo": {
     "elapsed": 774,
     "status": "ok",
     "timestamp": 1541495290921,
     "user": {
      "displayName": "Виолетта Гайдак",
      "photoUrl": "",
      "userId": "16983940382840418244"
     },
     "user_tz": -420
    },
    "id": "-7KFNSGLsFJu",
    "outputId": "c05d9171-f5d2-4f9c-8dde-c3ea65d76f53"
   },
   "outputs": [
    {
     "output_type": "stream",
     "name": "stdout",
     "text": [
      "5\n"
     ]
    }
   ],
   "source": [
    "m = ((c == 1) & (d == 2)).sum()\n",
    "\n",
    "print(m)"
   ]
  },
  {
   "cell_type": "markdown",
   "metadata": {
    "colab_type": "text",
    "id": "EIbB0Cy6sFJw"
   },
   "source": [
    "Вычислим относительную частоту события $B$:"
   ]
  },
  {
   "cell_type": "code",
   "execution_count": 34,
   "metadata": {
    "colab": {
     "base_uri": "https://localhost:8080/",
     "height": 35
    },
    "colab_type": "code",
    "executionInfo": {
     "elapsed": 854,
     "status": "ok",
     "timestamp": 1541495291841,
     "user": {
      "displayName": "Виолетта Гайдак",
      "photoUrl": "",
      "userId": "16983940382840418244"
     },
     "user_tz": -420
    },
    "id": "yt9Mv6kxsFJx",
    "outputId": "45d75122-df47-4f99-c099-f0b1da1f8ef8"
   },
   "outputs": [
    {
     "output_type": "stream",
     "name": "stdout",
     "text": [
      "0.013888888888888888\n"
     ]
    }
   ],
   "source": [
    "W = m / n\n",
    "\n",
    "print(W)"
   ]
  },
  {
   "cell_type": "markdown",
   "metadata": {},
   "source": [
    "Аналогично, вероятность такого события:"
   ]
  },
  {
   "cell_type": "code",
   "execution_count": 35,
   "metadata": {},
   "outputs": [
    {
     "output_type": "execute_result",
     "data": {
      "text/plain": [
       "0.027777777777777776"
      ]
     },
     "metadata": {},
     "execution_count": 35
    }
   ],
   "source": [
    "1 / 36"
   ]
  },
  {
   "cell_type": "markdown",
   "metadata": {},
   "source": [
    "Как правило, чем больше испытаний мы делаем, тем больше значение частоты «стабилизируется», т.е. приближается к какому-то конкретному значению."
   ]
  },
  {
   "cell_type": "markdown",
   "metadata": {
    "colab_type": "text",
    "id": "Jg88f4D6sFJ0"
   },
   "source": [
    "__Пример 3__\n",
    "\n",
    "Вернёмся к примеру 1 (бросок одного кубика) и посчитаем его относительную частоту при различных значениях $n$."
   ]
  },
  {
   "cell_type": "code",
   "execution_count": 36,
   "metadata": {},
   "outputs": [],
   "source": [
    "def dice_frequency(n: int) -> float:\n",
    "    \"\"\"Относительная частота выпадения значения 3 при броске одного кубика.\n",
    "    \n",
    "    :param n: число испытаний\n",
    "    \"\"\"\n",
    "\n",
    "    b = np.random.randint(1, 7, size=n)\n",
    "    \n",
    "    m = (b == 3).sum()\n",
    "    \n",
    "    return m / n"
   ]
  },
  {
   "cell_type": "code",
   "execution_count": 37,
   "metadata": {},
   "outputs": [],
   "source": [
    "from matplotlib import pyplot as plt\n",
    "from tqdm import trange\n",
    "\n",
    "plt.style.use('seaborn-whitegrid')\n",
    "%config InlineBackend.figure_formats = ['svg']"
   ]
  },
  {
   "cell_type": "code",
   "execution_count": 38,
   "metadata": {},
   "outputs": [
    {
     "output_type": "stream",
     "name": "stderr",
     "text": [
      "100%|██████████| 50/50 [00:06<00:00,  7.72it/s]\n"
     ]
    },
    {
     "output_type": "display_data",
     "data": {
      "text/plain": "<Figure size 432x288 with 1 Axes>",
      "image/svg+xml": "<?xml version=\"1.0\" encoding=\"utf-8\" standalone=\"no\"?>\r\n<!DOCTYPE svg PUBLIC \"-//W3C//DTD SVG 1.1//EN\"\r\n  \"http://www.w3.org/Graphics/SVG/1.1/DTD/svg11.dtd\">\r\n<!-- Created with matplotlib (https://matplotlib.org/) -->\r\n<svg height=\"288.413812pt\" version=\"1.1\" viewBox=\"0 0 379.745312 288.413812\" width=\"379.745312pt\" xmlns=\"http://www.w3.org/2000/svg\" xmlns:xlink=\"http://www.w3.org/1999/xlink\">\r\n <defs>\r\n  <style type=\"text/css\">\r\n*{stroke-linecap:butt;stroke-linejoin:round;}\r\n  </style>\r\n </defs>\r\n <g id=\"figure_1\">\r\n  <g id=\"patch_1\">\r\n   <path d=\"M 0 288.413812 \r\nL 379.745312 288.413812 \r\nL 379.745312 0 \r\nL 0 0 \r\nz\r\n\" style=\"fill:#ffffff;\"/>\r\n  </g>\r\n  <g id=\"axes_1\">\r\n   <g id=\"patch_2\">\r\n    <path d=\"M 37.745313 252.2685 \r\nL 372.545313 252.2685 \r\nL 372.545313 34.8285 \r\nL 37.745313 34.8285 \r\nz\r\n\" style=\"fill:#ffffff;\"/>\r\n   </g>\r\n   <g id=\"line2d_1\">\r\n    <path clip-path=\"url(#pf6f5f26159)\" d=\"M 37.745313 175.562773 \r\nL 372.545313 175.562773 \r\n\" style=\"fill:none;stroke:#000000;stroke-dasharray:3.7,1.6;stroke-dashoffset:0;\"/>\r\n   </g>\r\n   <g id=\"matplotlib.axis_1\">\r\n    <g id=\"xtick_1\">\r\n     <g id=\"line2d_2\">\r\n      <path clip-path=\"url(#pf6f5f26159)\" d=\"M 52.973901 252.2685 \r\nL 52.973901 34.8285 \r\n\" style=\"fill:none;stroke:#cccccc;stroke-linecap:round;stroke-width:0.8;\"/>\r\n     </g>\r\n     <g id=\"line2d_3\"/>\r\n     <g id=\"text_1\">\r\n      <!-- $\\mathdefault{10^{1}}$ -->\r\n      <defs>\r\n       <path d=\"M 37.25 0 \r\nL 28.46875 0 \r\nL 28.46875 56 \r\nQ 25.296875 52.984375 20.140625 49.953125 \r\nQ 14.984375 46.921875 10.890625 45.40625 \r\nL 10.890625 53.90625 \r\nQ 18.265625 57.375 23.78125 62.296875 \r\nQ 29.296875 67.234375 31.59375 71.875 \r\nL 37.25 71.875 \r\nz\r\n\" id=\"ArialMT-49\"/>\r\n       <path d=\"M 4.15625 35.296875 \r\nQ 4.15625 48 6.765625 55.734375 \r\nQ 9.375 63.484375 14.515625 67.671875 \r\nQ 19.671875 71.875 27.484375 71.875 \r\nQ 33.25 71.875 37.59375 69.546875 \r\nQ 41.9375 67.234375 44.765625 62.859375 \r\nQ 47.609375 58.5 49.21875 52.21875 \r\nQ 50.828125 45.953125 50.828125 35.296875 \r\nQ 50.828125 22.703125 48.234375 14.96875 \r\nQ 45.65625 7.234375 40.5 3 \r\nQ 35.359375 -1.21875 27.484375 -1.21875 \r\nQ 17.140625 -1.21875 11.234375 6.203125 \r\nQ 4.15625 15.140625 4.15625 35.296875 \r\nz\r\nM 13.1875 35.296875 \r\nQ 13.1875 17.671875 17.3125 11.828125 \r\nQ 21.4375 6 27.484375 6 \r\nQ 33.546875 6 37.671875 11.859375 \r\nQ 41.796875 17.71875 41.796875 35.296875 \r\nQ 41.796875 52.984375 37.671875 58.78125 \r\nQ 33.546875 64.59375 27.390625 64.59375 \r\nQ 21.34375 64.59375 17.71875 59.46875 \r\nQ 13.1875 52.9375 13.1875 35.296875 \r\nz\r\n\" id=\"ArialMT-48\"/>\r\n      </defs>\r\n      <g style=\"fill:#262626;\" transform=\"translate(45.123901 266.081)scale(0.1 -0.1)\">\r\n       <use transform=\"translate(0 0.99375)\" xlink:href=\"#ArialMT-49\"/>\r\n       <use transform=\"translate(55.615234 0.99375)\" xlink:href=\"#ArialMT-48\"/>\r\n       <use transform=\"translate(112.972813 70.6875)scale(0.7)\" xlink:href=\"#ArialMT-49\"/>\r\n      </g>\r\n     </g>\r\n    </g>\r\n    <g id=\"xtick_2\">\r\n     <g id=\"line2d_4\">\r\n      <path clip-path=\"url(#pf6f5f26159)\" d=\"M 103.699439 252.2685 \r\nL 103.699439 34.8285 \r\n\" style=\"fill:none;stroke:#cccccc;stroke-linecap:round;stroke-width:0.8;\"/>\r\n     </g>\r\n     <g id=\"line2d_5\"/>\r\n     <g id=\"text_2\">\r\n      <!-- $\\mathdefault{10^{2}}$ -->\r\n      <defs>\r\n       <path d=\"M 50.34375 8.453125 \r\nL 50.34375 0 \r\nL 3.03125 0 \r\nQ 2.9375 3.171875 4.046875 6.109375 \r\nQ 5.859375 10.9375 9.828125 15.625 \r\nQ 13.8125 20.3125 21.34375 26.46875 \r\nQ 33.015625 36.03125 37.109375 41.625 \r\nQ 41.21875 47.21875 41.21875 52.203125 \r\nQ 41.21875 57.421875 37.46875 61 \r\nQ 33.734375 64.59375 27.734375 64.59375 \r\nQ 21.390625 64.59375 17.578125 60.78125 \r\nQ 13.765625 56.984375 13.71875 50.25 \r\nL 4.6875 51.171875 \r\nQ 5.609375 61.28125 11.65625 66.578125 \r\nQ 17.71875 71.875 27.9375 71.875 \r\nQ 38.234375 71.875 44.234375 66.15625 \r\nQ 50.25 60.453125 50.25 52 \r\nQ 50.25 47.703125 48.484375 43.546875 \r\nQ 46.734375 39.40625 42.65625 34.8125 \r\nQ 38.578125 30.21875 29.109375 22.21875 \r\nQ 21.1875 15.578125 18.9375 13.203125 \r\nQ 16.703125 10.84375 15.234375 8.453125 \r\nz\r\n\" id=\"ArialMT-50\"/>\r\n      </defs>\r\n      <g style=\"fill:#262626;\" transform=\"translate(95.849439 266.081)scale(0.1 -0.1)\">\r\n       <use transform=\"translate(0 0.99375)\" xlink:href=\"#ArialMT-49\"/>\r\n       <use transform=\"translate(55.615234 0.99375)\" xlink:href=\"#ArialMT-48\"/>\r\n       <use transform=\"translate(112.972813 70.6875)scale(0.7)\" xlink:href=\"#ArialMT-50\"/>\r\n      </g>\r\n     </g>\r\n    </g>\r\n    <g id=\"xtick_3\">\r\n     <g id=\"line2d_6\">\r\n      <path clip-path=\"url(#pf6f5f26159)\" d=\"M 154.424977 252.2685 \r\nL 154.424977 34.8285 \r\n\" style=\"fill:none;stroke:#cccccc;stroke-linecap:round;stroke-width:0.8;\"/>\r\n     </g>\r\n     <g id=\"line2d_7\"/>\r\n     <g id=\"text_3\">\r\n      <!-- $\\mathdefault{10^{3}}$ -->\r\n      <defs>\r\n       <path d=\"M 4.203125 18.890625 \r\nL 12.984375 20.0625 \r\nQ 14.5 12.59375 18.140625 9.296875 \r\nQ 21.78125 6 27 6 \r\nQ 33.203125 6 37.46875 10.296875 \r\nQ 41.75 14.59375 41.75 20.953125 \r\nQ 41.75 27 37.796875 30.921875 \r\nQ 33.84375 34.859375 27.734375 34.859375 \r\nQ 25.25 34.859375 21.53125 33.890625 \r\nL 22.515625 41.609375 \r\nQ 23.390625 41.5 23.921875 41.5 \r\nQ 29.546875 41.5 34.03125 44.421875 \r\nQ 38.53125 47.359375 38.53125 53.46875 \r\nQ 38.53125 58.296875 35.25 61.46875 \r\nQ 31.984375 64.65625 26.8125 64.65625 \r\nQ 21.6875 64.65625 18.265625 61.421875 \r\nQ 14.84375 58.203125 13.875 51.765625 \r\nL 5.078125 53.328125 \r\nQ 6.6875 62.15625 12.390625 67.015625 \r\nQ 18.109375 71.875 26.609375 71.875 \r\nQ 32.46875 71.875 37.390625 69.359375 \r\nQ 42.328125 66.84375 44.9375 62.5 \r\nQ 47.5625 58.15625 47.5625 53.265625 \r\nQ 47.5625 48.640625 45.0625 44.828125 \r\nQ 42.578125 41.015625 37.703125 38.765625 \r\nQ 44.046875 37.3125 47.5625 32.6875 \r\nQ 51.078125 28.078125 51.078125 21.140625 \r\nQ 51.078125 11.765625 44.234375 5.25 \r\nQ 37.40625 -1.265625 26.953125 -1.265625 \r\nQ 17.53125 -1.265625 11.296875 4.34375 \r\nQ 5.078125 9.96875 4.203125 18.890625 \r\nz\r\n\" id=\"ArialMT-51\"/>\r\n      </defs>\r\n      <g style=\"fill:#262626;\" transform=\"translate(146.574977 266.081)scale(0.1 -0.1)\">\r\n       <use transform=\"translate(0 0.99375)\" xlink:href=\"#ArialMT-49\"/>\r\n       <use transform=\"translate(55.615234 0.99375)\" xlink:href=\"#ArialMT-48\"/>\r\n       <use transform=\"translate(112.972813 70.6875)scale(0.7)\" xlink:href=\"#ArialMT-51\"/>\r\n      </g>\r\n     </g>\r\n    </g>\r\n    <g id=\"xtick_4\">\r\n     <g id=\"line2d_8\">\r\n      <path clip-path=\"url(#pf6f5f26159)\" d=\"M 205.150516 252.2685 \r\nL 205.150516 34.8285 \r\n\" style=\"fill:none;stroke:#cccccc;stroke-linecap:round;stroke-width:0.8;\"/>\r\n     </g>\r\n     <g id=\"line2d_9\"/>\r\n     <g id=\"text_4\">\r\n      <!-- $\\mathdefault{10^{4}}$ -->\r\n      <defs>\r\n       <path d=\"M 32.328125 0 \r\nL 32.328125 17.140625 \r\nL 1.265625 17.140625 \r\nL 1.265625 25.203125 \r\nL 33.9375 71.578125 \r\nL 41.109375 71.578125 \r\nL 41.109375 25.203125 \r\nL 50.78125 25.203125 \r\nL 50.78125 17.140625 \r\nL 41.109375 17.140625 \r\nL 41.109375 0 \r\nz\r\nM 32.328125 25.203125 \r\nL 32.328125 57.46875 \r\nL 9.90625 25.203125 \r\nz\r\n\" id=\"ArialMT-52\"/>\r\n      </defs>\r\n      <g style=\"fill:#262626;\" transform=\"translate(197.300516 265.981)scale(0.1 -0.1)\">\r\n       <use transform=\"translate(0 0.201563)\" xlink:href=\"#ArialMT-49\"/>\r\n       <use transform=\"translate(55.615234 0.201563)\" xlink:href=\"#ArialMT-48\"/>\r\n       <use transform=\"translate(112.972813 69.895313)scale(0.7)\" xlink:href=\"#ArialMT-52\"/>\r\n      </g>\r\n     </g>\r\n    </g>\r\n    <g id=\"xtick_5\">\r\n     <g id=\"line2d_10\">\r\n      <path clip-path=\"url(#pf6f5f26159)\" d=\"M 255.876054 252.2685 \r\nL 255.876054 34.8285 \r\n\" style=\"fill:none;stroke:#cccccc;stroke-linecap:round;stroke-width:0.8;\"/>\r\n     </g>\r\n     <g id=\"line2d_11\"/>\r\n     <g id=\"text_5\">\r\n      <!-- $\\mathdefault{10^{5}}$ -->\r\n      <defs>\r\n       <path d=\"M 4.15625 18.75 \r\nL 13.375 19.53125 \r\nQ 14.40625 12.796875 18.140625 9.390625 \r\nQ 21.875 6 27.15625 6 \r\nQ 33.5 6 37.890625 10.78125 \r\nQ 42.28125 15.578125 42.28125 23.484375 \r\nQ 42.28125 31 38.0625 35.34375 \r\nQ 33.84375 39.703125 27 39.703125 \r\nQ 22.75 39.703125 19.328125 37.765625 \r\nQ 15.921875 35.84375 13.96875 32.765625 \r\nL 5.71875 33.84375 \r\nL 12.640625 70.609375 \r\nL 48.25 70.609375 \r\nL 48.25 62.203125 \r\nL 19.671875 62.203125 \r\nL 15.828125 42.96875 \r\nQ 22.265625 47.46875 29.34375 47.46875 \r\nQ 38.71875 47.46875 45.15625 40.96875 \r\nQ 51.609375 34.46875 51.609375 24.265625 \r\nQ 51.609375 14.546875 45.953125 7.46875 \r\nQ 39.0625 -1.21875 27.15625 -1.21875 \r\nQ 17.390625 -1.21875 11.203125 4.25 \r\nQ 5.03125 9.71875 4.15625 18.75 \r\nz\r\n\" id=\"ArialMT-53\"/>\r\n      </defs>\r\n      <g style=\"fill:#262626;\" transform=\"translate(248.026054 265.981)scale(0.1 -0.1)\">\r\n       <use transform=\"translate(0 0.879688)\" xlink:href=\"#ArialMT-49\"/>\r\n       <use transform=\"translate(55.615234 0.879688)\" xlink:href=\"#ArialMT-48\"/>\r\n       <use transform=\"translate(112.972813 70.573438)scale(0.7)\" xlink:href=\"#ArialMT-53\"/>\r\n      </g>\r\n     </g>\r\n    </g>\r\n    <g id=\"xtick_6\">\r\n     <g id=\"line2d_12\">\r\n      <path clip-path=\"url(#pf6f5f26159)\" d=\"M 306.601592 252.2685 \r\nL 306.601592 34.8285 \r\n\" style=\"fill:none;stroke:#cccccc;stroke-linecap:round;stroke-width:0.8;\"/>\r\n     </g>\r\n     <g id=\"line2d_13\"/>\r\n     <g id=\"text_6\">\r\n      <!-- $\\mathdefault{10^{6}}$ -->\r\n      <defs>\r\n       <path d=\"M 49.75 54.046875 \r\nL 41.015625 53.375 \r\nQ 39.84375 58.546875 37.703125 60.890625 \r\nQ 34.125 64.65625 28.90625 64.65625 \r\nQ 24.703125 64.65625 21.53125 62.3125 \r\nQ 17.390625 59.28125 14.984375 53.46875 \r\nQ 12.59375 47.65625 12.5 36.921875 \r\nQ 15.671875 41.75 20.265625 44.09375 \r\nQ 24.859375 46.4375 29.890625 46.4375 \r\nQ 38.671875 46.4375 44.84375 39.96875 \r\nQ 51.03125 33.5 51.03125 23.25 \r\nQ 51.03125 16.5 48.125 10.71875 \r\nQ 45.21875 4.9375 40.140625 1.859375 \r\nQ 35.0625 -1.21875 28.609375 -1.21875 \r\nQ 17.625 -1.21875 10.6875 6.859375 \r\nQ 3.765625 14.9375 3.765625 33.5 \r\nQ 3.765625 54.25 11.421875 63.671875 \r\nQ 18.109375 71.875 29.4375 71.875 \r\nQ 37.890625 71.875 43.28125 67.140625 \r\nQ 48.6875 62.40625 49.75 54.046875 \r\nz\r\nM 13.875 23.1875 \r\nQ 13.875 18.65625 15.796875 14.5 \r\nQ 17.71875 10.359375 21.1875 8.171875 \r\nQ 24.65625 6 28.46875 6 \r\nQ 34.03125 6 38.03125 10.484375 \r\nQ 42.046875 14.984375 42.046875 22.703125 \r\nQ 42.046875 30.125 38.078125 34.390625 \r\nQ 34.125 38.671875 28.125 38.671875 \r\nQ 22.171875 38.671875 18.015625 34.390625 \r\nQ 13.875 30.125 13.875 23.1875 \r\nz\r\n\" id=\"ArialMT-54\"/>\r\n      </defs>\r\n      <g style=\"fill:#262626;\" transform=\"translate(298.751592 266.081)scale(0.1 -0.1)\">\r\n       <use transform=\"translate(0 0.99375)\" xlink:href=\"#ArialMT-49\"/>\r\n       <use transform=\"translate(55.615234 0.99375)\" xlink:href=\"#ArialMT-48\"/>\r\n       <use transform=\"translate(112.972813 70.6875)scale(0.7)\" xlink:href=\"#ArialMT-54\"/>\r\n      </g>\r\n     </g>\r\n    </g>\r\n    <g id=\"xtick_7\">\r\n     <g id=\"line2d_14\">\r\n      <path clip-path=\"url(#pf6f5f26159)\" d=\"M 357.327131 252.2685 \r\nL 357.327131 34.8285 \r\n\" style=\"fill:none;stroke:#cccccc;stroke-linecap:round;stroke-width:0.8;\"/>\r\n     </g>\r\n     <g id=\"line2d_15\"/>\r\n     <g id=\"text_7\">\r\n      <!-- $\\mathdefault{10^{7}}$ -->\r\n      <defs>\r\n       <path d=\"M 4.734375 62.203125 \r\nL 4.734375 70.65625 \r\nL 51.078125 70.65625 \r\nL 51.078125 63.8125 \r\nQ 44.234375 56.546875 37.515625 44.484375 \r\nQ 30.8125 32.421875 27.15625 19.671875 \r\nQ 24.515625 10.6875 23.78125 0 \r\nL 14.75 0 \r\nQ 14.890625 8.453125 18.0625 20.40625 \r\nQ 21.234375 32.375 27.171875 43.484375 \r\nQ 33.109375 54.59375 39.796875 62.203125 \r\nz\r\n\" id=\"ArialMT-55\"/>\r\n      </defs>\r\n      <g style=\"fill:#262626;\" transform=\"translate(349.477131 265.981)scale(0.1 -0.1)\">\r\n       <use transform=\"translate(0 0.846875)\" xlink:href=\"#ArialMT-49\"/>\r\n       <use transform=\"translate(55.615234 0.846875)\" xlink:href=\"#ArialMT-48\"/>\r\n       <use transform=\"translate(112.972813 70.540625)scale(0.7)\" xlink:href=\"#ArialMT-55\"/>\r\n      </g>\r\n     </g>\r\n    </g>\r\n    <g id=\"xtick_8\">\r\n     <g id=\"line2d_16\"/>\r\n    </g>\r\n    <g id=\"xtick_9\">\r\n     <g id=\"line2d_17\"/>\r\n    </g>\r\n    <g id=\"xtick_10\">\r\n     <g id=\"line2d_18\"/>\r\n    </g>\r\n    <g id=\"xtick_11\">\r\n     <g id=\"line2d_19\"/>\r\n    </g>\r\n    <g id=\"xtick_12\">\r\n     <g id=\"line2d_20\"/>\r\n    </g>\r\n    <g id=\"xtick_13\">\r\n     <g id=\"line2d_21\"/>\r\n    </g>\r\n    <g id=\"xtick_14\">\r\n     <g id=\"line2d_22\"/>\r\n    </g>\r\n    <g id=\"xtick_15\">\r\n     <g id=\"line2d_23\"/>\r\n    </g>\r\n    <g id=\"xtick_16\">\r\n     <g id=\"line2d_24\"/>\r\n    </g>\r\n    <g id=\"xtick_17\">\r\n     <g id=\"line2d_25\"/>\r\n    </g>\r\n    <g id=\"xtick_18\">\r\n     <g id=\"line2d_26\"/>\r\n    </g>\r\n    <g id=\"xtick_19\">\r\n     <g id=\"line2d_27\"/>\r\n    </g>\r\n    <g id=\"xtick_20\">\r\n     <g id=\"line2d_28\"/>\r\n    </g>\r\n    <g id=\"xtick_21\">\r\n     <g id=\"line2d_29\"/>\r\n    </g>\r\n    <g id=\"xtick_22\">\r\n     <g id=\"line2d_30\"/>\r\n    </g>\r\n    <g id=\"xtick_23\">\r\n     <g id=\"line2d_31\"/>\r\n    </g>\r\n    <g id=\"xtick_24\">\r\n     <g id=\"line2d_32\"/>\r\n    </g>\r\n    <g id=\"xtick_25\">\r\n     <g id=\"line2d_33\"/>\r\n    </g>\r\n    <g id=\"xtick_26\">\r\n     <g id=\"line2d_34\"/>\r\n    </g>\r\n    <g id=\"xtick_27\">\r\n     <g id=\"line2d_35\"/>\r\n    </g>\r\n    <g id=\"xtick_28\">\r\n     <g id=\"line2d_36\"/>\r\n    </g>\r\n    <g id=\"xtick_29\">\r\n     <g id=\"line2d_37\"/>\r\n    </g>\r\n    <g id=\"xtick_30\">\r\n     <g id=\"line2d_38\"/>\r\n    </g>\r\n    <g id=\"xtick_31\">\r\n     <g id=\"line2d_39\"/>\r\n    </g>\r\n    <g id=\"xtick_32\">\r\n     <g id=\"line2d_40\"/>\r\n    </g>\r\n    <g id=\"xtick_33\">\r\n     <g id=\"line2d_41\"/>\r\n    </g>\r\n    <g id=\"xtick_34\">\r\n     <g id=\"line2d_42\"/>\r\n    </g>\r\n    <g id=\"xtick_35\">\r\n     <g id=\"line2d_43\"/>\r\n    </g>\r\n    <g id=\"xtick_36\">\r\n     <g id=\"line2d_44\"/>\r\n    </g>\r\n    <g id=\"xtick_37\">\r\n     <g id=\"line2d_45\"/>\r\n    </g>\r\n    <g id=\"xtick_38\">\r\n     <g id=\"line2d_46\"/>\r\n    </g>\r\n    <g id=\"xtick_39\">\r\n     <g id=\"line2d_47\"/>\r\n    </g>\r\n    <g id=\"xtick_40\">\r\n     <g id=\"line2d_48\"/>\r\n    </g>\r\n    <g id=\"xtick_41\">\r\n     <g id=\"line2d_49\"/>\r\n    </g>\r\n    <g id=\"xtick_42\">\r\n     <g id=\"line2d_50\"/>\r\n    </g>\r\n    <g id=\"xtick_43\">\r\n     <g id=\"line2d_51\"/>\r\n    </g>\r\n    <g id=\"xtick_44\">\r\n     <g id=\"line2d_52\"/>\r\n    </g>\r\n    <g id=\"xtick_45\">\r\n     <g id=\"line2d_53\"/>\r\n    </g>\r\n    <g id=\"xtick_46\">\r\n     <g id=\"line2d_54\"/>\r\n    </g>\r\n    <g id=\"xtick_47\">\r\n     <g id=\"line2d_55\"/>\r\n    </g>\r\n    <g id=\"xtick_48\">\r\n     <g id=\"line2d_56\"/>\r\n    </g>\r\n    <g id=\"xtick_49\">\r\n     <g id=\"line2d_57\"/>\r\n    </g>\r\n    <g id=\"xtick_50\">\r\n     <g id=\"line2d_58\"/>\r\n    </g>\r\n    <g id=\"xtick_51\">\r\n     <g id=\"line2d_59\"/>\r\n    </g>\r\n    <g id=\"xtick_52\">\r\n     <g id=\"line2d_60\"/>\r\n    </g>\r\n    <g id=\"xtick_53\">\r\n     <g id=\"line2d_61\"/>\r\n    </g>\r\n    <g id=\"xtick_54\">\r\n     <g id=\"line2d_62\"/>\r\n    </g>\r\n    <g id=\"xtick_55\">\r\n     <g id=\"line2d_63\"/>\r\n    </g>\r\n    <g id=\"xtick_56\">\r\n     <g id=\"line2d_64\"/>\r\n    </g>\r\n    <g id=\"xtick_57\">\r\n     <g id=\"line2d_65\"/>\r\n    </g>\r\n    <g id=\"xtick_58\">\r\n     <g id=\"line2d_66\"/>\r\n    </g>\r\n    <g id=\"xtick_59\">\r\n     <g id=\"line2d_67\"/>\r\n    </g>\r\n    <g id=\"text_8\">\r\n     <!-- число испытаний -->\r\n     <defs>\r\n      <path d=\"M 3.375 51.859375 \r\nL 12.15625 51.859375 \r\nL 12.15625 42.046875 \r\nQ 12.15625 35.6875 12.90625 32.828125 \r\nQ 13.671875 29.984375 16.546875 27.859375 \r\nQ 19.4375 25.734375 23.78125 25.734375 \r\nQ 28.765625 25.734375 36.671875 28.375 \r\nL 36.671875 51.859375 \r\nL 45.453125 51.859375 \r\nL 45.453125 0 \r\nL 36.671875 0 \r\nL 36.671875 20.90625 \r\nQ 28.5625 18.359375 21.53125 18.359375 \r\nQ 15.625 18.359375 11.109375 21.359375 \r\nQ 6.59375 24.359375 4.984375 28.703125 \r\nQ 3.375 33.0625 3.375 38.28125 \r\nz\r\n\" id=\"ArialMT-1095\"/>\r\n      <path d=\"M 6.59375 51.859375 \r\nL 15.375 51.859375 \r\nL 15.375 12.3125 \r\nL 39.75 51.859375 \r\nL 49.21875 51.859375 \r\nL 49.21875 0 \r\nL 40.4375 0 \r\nL 40.4375 39.3125 \r\nL 16.0625 0 \r\nL 6.59375 0 \r\nz\r\n\" id=\"ArialMT-1080\"/>\r\n      <path d=\"M 40.4375 19 \r\nL 49.078125 17.875 \r\nQ 47.65625 8.9375 41.8125 3.875 \r\nQ 35.984375 -1.171875 27.484375 -1.171875 \r\nQ 16.84375 -1.171875 10.375 5.78125 \r\nQ 3.90625 12.75 3.90625 25.734375 \r\nQ 3.90625 34.125 6.6875 40.421875 \r\nQ 9.46875 46.734375 15.15625 49.875 \r\nQ 20.84375 53.03125 27.546875 53.03125 \r\nQ 35.984375 53.03125 41.359375 48.75 \r\nQ 46.734375 44.484375 48.25 36.625 \r\nL 39.703125 35.296875 \r\nQ 38.484375 40.53125 35.375 43.15625 \r\nQ 32.28125 45.796875 27.875 45.796875 \r\nQ 21.234375 45.796875 17.078125 41.03125 \r\nQ 12.9375 36.28125 12.9375 25.984375 \r\nQ 12.9375 15.53125 16.9375 10.796875 \r\nQ 20.953125 6.0625 27.390625 6.0625 \r\nQ 32.5625 6.0625 36.03125 9.234375 \r\nQ 39.5 12.40625 40.4375 19 \r\nz\r\n\" id=\"ArialMT-1089\"/>\r\n      <path d=\"M 10.890625 51.859375 \r\nL 51.703125 51.859375 \r\nL 51.703125 0 \r\nL 42.96875 0 \r\nL 42.96875 44.578125 \r\nL 19.671875 44.578125 \r\nL 19.671875 18.75 \r\nQ 19.671875 9.71875 19.078125 6.828125 \r\nQ 18.5 3.953125 15.859375 1.796875 \r\nQ 13.234375 -0.34375 8.25 -0.34375 \r\nQ 5.171875 -0.34375 1.171875 0.046875 \r\nL 1.171875 7.375 \r\nL 5.03125 7.375 \r\nQ 7.765625 7.375 8.9375 7.9375 \r\nQ 10.109375 8.5 10.5 9.71875 \r\nQ 10.890625 10.9375 10.890625 17.671875 \r\nz\r\n\" id=\"ArialMT-1083\"/>\r\n      <path d=\"M 3.328125 25.921875 \r\nQ 3.328125 40.328125 11.328125 47.265625 \r\nQ 18.015625 53.03125 27.640625 53.03125 \r\nQ 38.328125 53.03125 45.109375 46.015625 \r\nQ 51.90625 39.015625 51.90625 26.65625 \r\nQ 51.90625 16.65625 48.90625 10.90625 \r\nQ 45.90625 5.171875 40.15625 2 \r\nQ 34.421875 -1.171875 27.640625 -1.171875 \r\nQ 16.75 -1.171875 10.03125 5.8125 \r\nQ 3.328125 12.796875 3.328125 25.921875 \r\nz\r\nM 12.359375 25.921875 \r\nQ 12.359375 15.96875 16.703125 11.015625 \r\nQ 21.046875 6.0625 27.640625 6.0625 \r\nQ 34.1875 6.0625 38.53125 11.03125 \r\nQ 42.875 16.015625 42.875 26.21875 \r\nQ 42.875 35.84375 38.5 40.796875 \r\nQ 34.125 45.75 27.640625 45.75 \r\nQ 21.046875 45.75 16.703125 40.8125 \r\nQ 12.359375 35.890625 12.359375 25.921875 \r\nz\r\n\" id=\"ArialMT-1086\"/>\r\n      <path id=\"ArialMT-32\"/>\r\n      <path d=\"M 6.640625 51.859375 \r\nL 47.5625 51.859375 \r\nL 47.5625 0 \r\nL 38.765625 0 \r\nL 38.765625 44.578125 \r\nL 15.4375 44.578125 \r\nL 15.4375 0 \r\nL 6.640625 0 \r\nz\r\n\" id=\"ArialMT-1087\"/>\r\n      <path d=\"M 55.953125 51.859375 \r\nL 64.75 51.859375 \r\nL 64.75 0 \r\nL 55.953125 0 \r\nz\r\nM 6.78125 51.859375 \r\nL 15.578125 51.859375 \r\nL 15.578125 31.59375 \r\nL 26.703125 31.59375 \r\nQ 37.59375 31.59375 43.46875 27.359375 \r\nQ 49.359375 23.140625 49.359375 15.71875 \r\nQ 49.359375 9.234375 44.453125 4.609375 \r\nQ 39.546875 0 28.765625 0 \r\nL 6.78125 0 \r\nz\r\nM 15.578125 7.234375 \r\nL 24.8125 7.234375 \r\nQ 33.15625 7.234375 36.71875 9.28125 \r\nQ 40.28125 11.328125 40.28125 15.671875 \r\nQ 40.28125 19.046875 37.640625 21.671875 \r\nQ 35.015625 24.3125 25.984375 24.3125 \r\nL 15.578125 24.3125 \r\nz\r\n\" id=\"ArialMT-1099\"/>\r\n      <path d=\"M 1.859375 51.859375 \r\nL 44 51.859375 \r\nL 44 44.578125 \r\nL 27.296875 44.578125 \r\nL 27.296875 0 \r\nL 18.5625 0 \r\nL 18.5625 44.578125 \r\nL 1.859375 44.578125 \r\nz\r\n\" id=\"ArialMT-1090\"/>\r\n      <path d=\"M 40.4375 6.390625 \r\nQ 35.546875 2.25 31.03125 0.53125 \r\nQ 26.515625 -1.171875 21.34375 -1.171875 \r\nQ 12.796875 -1.171875 8.203125 3 \r\nQ 3.609375 7.171875 3.609375 13.671875 \r\nQ 3.609375 17.484375 5.34375 20.625 \r\nQ 7.078125 23.78125 9.890625 25.6875 \r\nQ 12.703125 27.59375 16.21875 28.5625 \r\nQ 18.796875 29.25 24.03125 29.890625 \r\nQ 34.671875 31.15625 39.703125 32.90625 \r\nQ 39.75 34.71875 39.75 35.203125 \r\nQ 39.75 40.578125 37.25 42.78125 \r\nQ 33.890625 45.75 27.25 45.75 \r\nQ 21.046875 45.75 18.09375 43.578125 \r\nQ 15.140625 41.40625 13.71875 35.890625 \r\nL 5.125 37.0625 \r\nQ 6.296875 42.578125 8.984375 45.96875 \r\nQ 11.671875 49.359375 16.75 51.1875 \r\nQ 21.828125 53.03125 28.515625 53.03125 \r\nQ 35.15625 53.03125 39.296875 51.46875 \r\nQ 43.453125 49.90625 45.40625 47.53125 \r\nQ 47.359375 45.171875 48.140625 41.546875 \r\nQ 48.578125 39.3125 48.578125 33.453125 \r\nL 48.578125 21.734375 \r\nQ 48.578125 9.46875 49.140625 6.21875 \r\nQ 49.703125 2.984375 51.375 0 \r\nL 42.1875 0 \r\nQ 40.828125 2.734375 40.4375 6.390625 \r\nz\r\nM 39.703125 26.03125 \r\nQ 34.90625 24.078125 25.34375 22.703125 \r\nQ 19.921875 21.921875 17.671875 20.9375 \r\nQ 15.4375 19.96875 14.203125 18.09375 \r\nQ 12.984375 16.21875 12.984375 13.921875 \r\nQ 12.984375 10.40625 15.640625 8.0625 \r\nQ 18.3125 5.71875 23.4375 5.71875 \r\nQ 28.515625 5.71875 32.46875 7.9375 \r\nQ 36.421875 10.15625 38.28125 14.015625 \r\nQ 39.703125 17 39.703125 22.796875 \r\nz\r\n\" id=\"ArialMT-1072\"/>\r\n      <path d=\"M 6.640625 51.859375 \r\nL 15.4375 51.859375 \r\nL 15.4375 30.28125 \r\nL 39.796875 30.28125 \r\nL 39.796875 51.859375 \r\nL 48.578125 51.859375 \r\nL 48.578125 0 \r\nL 39.796875 0 \r\nL 39.796875 23 \r\nL 15.4375 23 \r\nL 15.4375 0 \r\nL 6.640625 0 \r\nz\r\n\" id=\"ArialMT-1085\"/>\r\n      <path d=\"M 6.59375 51.859375 \r\nL 15.375 51.859375 \r\nL 15.375 12.3125 \r\nL 39.75 51.859375 \r\nL 49.21875 51.859375 \r\nL 49.21875 0 \r\nL 40.4375 0 \r\nL 40.4375 39.3125 \r\nL 16.0625 0 \r\nL 6.59375 0 \r\nz\r\nM 37.109375 71.484375 \r\nL 43.109375 71.484375 \r\nQ 42.390625 65.375 38.640625 62.109375 \r\nQ 34.90625 58.84375 28.71875 58.84375 \r\nQ 22.46875 58.84375 18.71875 62.078125 \r\nQ 14.984375 65.328125 14.265625 71.484375 \r\nL 20.265625 71.484375 \r\nQ 20.953125 68.171875 22.96875 66.53125 \r\nQ 25 64.890625 28.421875 64.890625 \r\nQ 32.375 64.890625 34.390625 66.46875 \r\nQ 36.421875 68.0625 37.109375 71.484375 \r\nz\r\n\" id=\"ArialMT-1081\"/>\r\n     </defs>\r\n     <g style=\"fill:#262626;\" transform=\"translate(165.149219 279.226312)scale(0.1 -0.1)\">\r\n      <use xlink:href=\"#ArialMT-1095\"/>\r\n      <use x=\"52.099609\" xlink:href=\"#ArialMT-1080\"/>\r\n      <use x=\"107.958984\" xlink:href=\"#ArialMT-1089\"/>\r\n      <use x=\"157.958984\" xlink:href=\"#ArialMT-1083\"/>\r\n      <use x=\"216.324219\" xlink:href=\"#ArialMT-1086\"/>\r\n      <use x=\"271.939453\" xlink:href=\"#ArialMT-32\"/>\r\n      <use x=\"299.722656\" xlink:href=\"#ArialMT-1080\"/>\r\n      <use x=\"355.582031\" xlink:href=\"#ArialMT-1089\"/>\r\n      <use x=\"405.582031\" xlink:href=\"#ArialMT-1087\"/>\r\n      <use x=\"459.732422\" xlink:href=\"#ArialMT-1099\"/>\r\n      <use x=\"531.607422\" xlink:href=\"#ArialMT-1090\"/>\r\n      <use x=\"577.392578\" xlink:href=\"#ArialMT-1072\"/>\r\n      <use x=\"633.007812\" xlink:href=\"#ArialMT-1085\"/>\r\n      <use x=\"688.232422\" xlink:href=\"#ArialMT-1080\"/>\r\n      <use x=\"744.091797\" xlink:href=\"#ArialMT-1081\"/>\r\n     </g>\r\n    </g>\r\n   </g>\r\n   <g id=\"matplotlib.axis_2\">\r\n    <g id=\"ytick_1\">\r\n     <g id=\"line2d_68\">\r\n      <path clip-path=\"url(#pf6f5f26159)\" d=\"M 37.745313 239.59132 \r\nL 372.545313 239.59132 \r\n\" style=\"fill:none;stroke:#cccccc;stroke-linecap:round;stroke-width:0.8;\"/>\r\n     </g>\r\n     <g id=\"line2d_69\"/>\r\n     <g id=\"text_9\">\r\n      <!-- 0.0 -->\r\n      <defs>\r\n       <path d=\"M 9.078125 0 \r\nL 9.078125 10.015625 \r\nL 19.09375 10.015625 \r\nL 19.09375 0 \r\nz\r\n\" id=\"ArialMT-46\"/>\r\n      </defs>\r\n      <g style=\"fill:#262626;\" transform=\"translate(20.345313 243.170226)scale(0.1 -0.1)\">\r\n       <use xlink:href=\"#ArialMT-48\"/>\r\n       <use x=\"55.615234\" xlink:href=\"#ArialMT-46\"/>\r\n       <use x=\"83.398438\" xlink:href=\"#ArialMT-48\"/>\r\n      </g>\r\n     </g>\r\n    </g>\r\n    <g id=\"ytick_2\">\r\n     <g id=\"line2d_70\">\r\n      <path clip-path=\"url(#pf6f5f26159)\" d=\"M 37.745313 201.174192 \r\nL 372.545313 201.174192 \r\n\" style=\"fill:none;stroke:#cccccc;stroke-linecap:round;stroke-width:0.8;\"/>\r\n     </g>\r\n     <g id=\"line2d_71\"/>\r\n     <g id=\"text_10\">\r\n      <!-- 0.1 -->\r\n      <g style=\"fill:#262626;\" transform=\"translate(20.345313 204.753098)scale(0.1 -0.1)\">\r\n       <use xlink:href=\"#ArialMT-48\"/>\r\n       <use x=\"55.615234\" xlink:href=\"#ArialMT-46\"/>\r\n       <use x=\"83.398438\" xlink:href=\"#ArialMT-49\"/>\r\n      </g>\r\n     </g>\r\n    </g>\r\n    <g id=\"ytick_3\">\r\n     <g id=\"line2d_72\">\r\n      <path clip-path=\"url(#pf6f5f26159)\" d=\"M 37.745313 162.757064 \r\nL 372.545313 162.757064 \r\n\" style=\"fill:none;stroke:#cccccc;stroke-linecap:round;stroke-width:0.8;\"/>\r\n     </g>\r\n     <g id=\"line2d_73\"/>\r\n     <g id=\"text_11\">\r\n      <!-- 0.2 -->\r\n      <g style=\"fill:#262626;\" transform=\"translate(20.345313 166.33597)scale(0.1 -0.1)\">\r\n       <use xlink:href=\"#ArialMT-48\"/>\r\n       <use x=\"55.615234\" xlink:href=\"#ArialMT-46\"/>\r\n       <use x=\"83.398438\" xlink:href=\"#ArialMT-50\"/>\r\n      </g>\r\n     </g>\r\n    </g>\r\n    <g id=\"ytick_4\">\r\n     <g id=\"line2d_74\">\r\n      <path clip-path=\"url(#pf6f5f26159)\" d=\"M 37.745313 124.339936 \r\nL 372.545313 124.339936 \r\n\" style=\"fill:none;stroke:#cccccc;stroke-linecap:round;stroke-width:0.8;\"/>\r\n     </g>\r\n     <g id=\"line2d_75\"/>\r\n     <g id=\"text_12\">\r\n      <!-- 0.3 -->\r\n      <g style=\"fill:#262626;\" transform=\"translate(20.345313 127.918842)scale(0.1 -0.1)\">\r\n       <use xlink:href=\"#ArialMT-48\"/>\r\n       <use x=\"55.615234\" xlink:href=\"#ArialMT-46\"/>\r\n       <use x=\"83.398438\" xlink:href=\"#ArialMT-51\"/>\r\n      </g>\r\n     </g>\r\n    </g>\r\n    <g id=\"ytick_5\">\r\n     <g id=\"line2d_76\">\r\n      <path clip-path=\"url(#pf6f5f26159)\" d=\"M 37.745313 85.922808 \r\nL 372.545313 85.922808 \r\n\" style=\"fill:none;stroke:#cccccc;stroke-linecap:round;stroke-width:0.8;\"/>\r\n     </g>\r\n     <g id=\"line2d_77\"/>\r\n     <g id=\"text_13\">\r\n      <!-- 0.4 -->\r\n      <g style=\"fill:#262626;\" transform=\"translate(20.345313 89.501714)scale(0.1 -0.1)\">\r\n       <use xlink:href=\"#ArialMT-48\"/>\r\n       <use x=\"55.615234\" xlink:href=\"#ArialMT-46\"/>\r\n       <use x=\"83.398438\" xlink:href=\"#ArialMT-52\"/>\r\n      </g>\r\n     </g>\r\n    </g>\r\n    <g id=\"ytick_6\">\r\n     <g id=\"line2d_78\">\r\n      <path clip-path=\"url(#pf6f5f26159)\" d=\"M 37.745313 47.50568 \r\nL 372.545313 47.50568 \r\n\" style=\"fill:none;stroke:#cccccc;stroke-linecap:round;stroke-width:0.8;\"/>\r\n     </g>\r\n     <g id=\"line2d_79\"/>\r\n     <g id=\"text_14\">\r\n      <!-- 0.5 -->\r\n      <g style=\"fill:#262626;\" transform=\"translate(20.345313 51.084586)scale(0.1 -0.1)\">\r\n       <use xlink:href=\"#ArialMT-48\"/>\r\n       <use x=\"55.615234\" xlink:href=\"#ArialMT-46\"/>\r\n       <use x=\"83.398438\" xlink:href=\"#ArialMT-53\"/>\r\n      </g>\r\n     </g>\r\n    </g>\r\n    <g id=\"text_15\">\r\n     <!-- частота выпадения значения 3 -->\r\n     <defs>\r\n      <path d=\"M 6.640625 51.859375 \r\nL 26.90625 51.859375 \r\nQ 34.375 51.859375 38.015625 50.609375 \r\nQ 41.65625 49.359375 44.265625 46.03125 \r\nQ 46.875 42.71875 46.875 38.09375 \r\nQ 46.875 34.375 45.328125 31.609375 \r\nQ 43.796875 28.859375 40.71875 27 \r\nQ 44.390625 25.78125 46.796875 22.4375 \r\nQ 49.21875 19.09375 49.21875 14.5 \r\nQ 48.734375 7.125 43.9375 3.5625 \r\nQ 39.15625 0 30.03125 0 \r\nL 6.640625 0 \r\nz\r\nM 15.4375 30.03125 \r\nL 24.8125 30.03125 \r\nQ 30.421875 30.03125 32.515625 30.609375 \r\nQ 34.625 31.203125 36.28125 32.984375 \r\nQ 37.9375 34.765625 37.9375 37.25 \r\nQ 37.9375 41.359375 35.03125 42.96875 \r\nQ 32.125 44.578125 25.09375 44.578125 \r\nL 15.4375 44.578125 \r\nz\r\nM 15.4375 7.234375 \r\nL 27 7.234375 \r\nQ 34.46875 7.234375 37.25 8.953125 \r\nQ 40.046875 10.6875 40.1875 14.9375 \r\nQ 40.1875 17.4375 38.578125 19.5625 \r\nQ 36.96875 21.6875 34.375 22.234375 \r\nQ 31.78125 22.796875 26.078125 22.796875 \r\nL 15.4375 22.796875 \r\nz\r\n\" id=\"ArialMT-1074\"/>\r\n      <path d=\"M 13.53125 51.859375 \r\nL 49.65625 51.859375 \r\nL 49.65625 7.234375 \r\nL 55.28125 7.234375 \r\nL 55.28125 -14.703125 \r\nL 48.046875 -14.703125 \r\nL 48.046875 0 \r\nL 7.234375 0 \r\nL 7.234375 -14.703125 \r\nL 0 -14.703125 \r\nL 0 7.234375 \r\nL 4.640625 7.234375 \r\nQ 13.921875 19.828125 13.53125 51.859375 \r\nz\r\nM 20.84375 44.578125 \r\nQ 19.875 19.34375 13.03125 7.234375 \r\nL 40.921875 7.234375 \r\nL 40.921875 44.578125 \r\nz\r\n\" id=\"ArialMT-1076\"/>\r\n      <path d=\"M 42.09375 16.703125 \r\nL 51.171875 15.578125 \r\nQ 49.03125 7.625 43.21875 3.21875 \r\nQ 37.40625 -1.171875 28.375 -1.171875 \r\nQ 17 -1.171875 10.328125 5.828125 \r\nQ 3.65625 12.84375 3.65625 25.484375 \r\nQ 3.65625 38.578125 10.390625 45.796875 \r\nQ 17.140625 53.03125 27.875 53.03125 \r\nQ 38.28125 53.03125 44.875 45.953125 \r\nQ 51.46875 38.875 51.46875 26.03125 \r\nQ 51.46875 25.25 51.421875 23.6875 \r\nL 12.75 23.6875 \r\nQ 13.234375 15.140625 17.578125 10.59375 \r\nQ 21.921875 6.0625 28.421875 6.0625 \r\nQ 33.25 6.0625 36.671875 8.59375 \r\nQ 40.09375 11.140625 42.09375 16.703125 \r\nz\r\nM 13.234375 30.90625 \r\nL 42.1875 30.90625 \r\nQ 41.609375 37.453125 38.875 40.71875 \r\nQ 34.671875 45.796875 27.984375 45.796875 \r\nQ 21.921875 45.796875 17.796875 41.75 \r\nQ 13.671875 37.703125 13.234375 30.90625 \r\nz\r\n\" id=\"ArialMT-1077\"/>\r\n      <path d=\"M 47.40625 51.859375 \r\nL 47.40625 0 \r\nL 38.671875 0 \r\nL 38.671875 20.21875 \r\nL 33.59375 20.21875 \r\nQ 28.953125 20.21875 26.6875 19.015625 \r\nQ 24.421875 17.828125 20.0625 11.328125 \r\nL 12.40625 0 \r\nL 1.515625 0 \r\nL 10.984375 13.96875 \r\nQ 15.328125 20.359375 19.625 21.1875 \r\nQ 12.109375 22.21875 8.46875 26.609375 \r\nQ 4.828125 31 4.828125 36.71875 \r\nQ 4.828125 43.453125 9.59375 47.65625 \r\nQ 14.359375 51.859375 23.390625 51.859375 \r\nz\r\nM 38.671875 44.578125 \r\nL 26.171875 44.578125 \r\nQ 18.3125 44.578125 16.03125 42.140625 \r\nQ 13.765625 39.703125 13.765625 36.421875 \r\nQ 13.765625 31.78125 17.109375 29.609375 \r\nQ 20.453125 27.4375 28.953125 27.4375 \r\nL 38.671875 27.4375 \r\nz\r\n\" id=\"ArialMT-1103\"/>\r\n      <path d=\"M 18.0625 23.4375 \r\nL 18.0625 30.328125 \r\nQ 23.640625 30.375 25.65625 30.765625 \r\nQ 27.6875 31.15625 29.484375 33.109375 \r\nQ 31.296875 35.0625 31.296875 37.984375 \r\nQ 31.296875 41.546875 28.921875 43.671875 \r\nQ 26.5625 45.796875 22.796875 45.796875 \r\nQ 15.375 45.796875 12.40625 37.0625 \r\nL 4.046875 38.421875 \r\nQ 7.953125 53.03125 22.90625 53.03125 \r\nQ 31.203125 53.03125 35.90625 48.484375 \r\nQ 40.625 43.953125 40.625 37.640625 \r\nQ 40.625 31.296875 34.46875 27.546875 \r\nQ 38.375 25.4375 40.328125 22.1875 \r\nQ 42.28125 18.953125 42.28125 14.5 \r\nQ 42.28125 7.515625 37.203125 3.171875 \r\nQ 32.125 -1.171875 23 -1.171875 \r\nQ 5.28125 -1.171875 2.4375 14.59375 \r\nL 10.6875 16.359375 \r\nQ 11.8125 11.375 15.25 8.640625 \r\nQ 18.703125 5.90625 23.140625 5.90625 \r\nQ 27.59375 5.90625 30.546875 8.421875 \r\nQ 33.5 10.9375 33.5 14.84375 \r\nQ 33.5 17.875 31.640625 20.109375 \r\nQ 29.78125 22.359375 27.6875 22.921875 \r\nQ 25.59375 23.484375 20.0625 23.484375 \r\nQ 19.625 23.484375 18.0625 23.4375 \r\nz\r\n\" id=\"ArialMT-1079\"/>\r\n     </defs>\r\n     <g style=\"fill:#262626;\" transform=\"translate(14.357813 215.695375)rotate(-90)scale(0.1 -0.1)\">\r\n      <use xlink:href=\"#ArialMT-1095\"/>\r\n      <use x=\"52.099609\" xlink:href=\"#ArialMT-1072\"/>\r\n      <use x=\"107.714844\" xlink:href=\"#ArialMT-1089\"/>\r\n      <use x=\"157.714844\" xlink:href=\"#ArialMT-1090\"/>\r\n      <use x=\"203.5\" xlink:href=\"#ArialMT-1086\"/>\r\n      <use x=\"259.083984\" xlink:href=\"#ArialMT-1090\"/>\r\n      <use x=\"304.869141\" xlink:href=\"#ArialMT-1072\"/>\r\n      <use x=\"360.484375\" xlink:href=\"#ArialMT-32\"/>\r\n      <use x=\"388.267578\" xlink:href=\"#ArialMT-1074\"/>\r\n      <use x=\"441.392578\" xlink:href=\"#ArialMT-1099\"/>\r\n      <use x=\"513.267578\" xlink:href=\"#ArialMT-1087\"/>\r\n      <use x=\"567.417969\" xlink:href=\"#ArialMT-1072\"/>\r\n      <use x=\"623.033203\" xlink:href=\"#ArialMT-1076\"/>\r\n      <use x=\"681.382812\" xlink:href=\"#ArialMT-1077\"/>\r\n      <use x=\"736.998047\" xlink:href=\"#ArialMT-1085\"/>\r\n      <use x=\"792.222656\" xlink:href=\"#ArialMT-1080\"/>\r\n      <use x=\"848.082031\" xlink:href=\"#ArialMT-1103\"/>\r\n      <use x=\"902.232422\" xlink:href=\"#ArialMT-32\"/>\r\n      <use x=\"930.015625\" xlink:href=\"#ArialMT-1079\"/>\r\n      <use x=\"975.865234\" xlink:href=\"#ArialMT-1085\"/>\r\n      <use x=\"1031.089844\" xlink:href=\"#ArialMT-1072\"/>\r\n      <use x=\"1086.673828\" xlink:href=\"#ArialMT-1095\"/>\r\n      <use x=\"1138.773438\" xlink:href=\"#ArialMT-1077\"/>\r\n      <use x=\"1194.388672\" xlink:href=\"#ArialMT-1085\"/>\r\n      <use x=\"1249.613281\" xlink:href=\"#ArialMT-1080\"/>\r\n      <use x=\"1305.472656\" xlink:href=\"#ArialMT-1103\"/>\r\n      <use x=\"1359.623047\" xlink:href=\"#ArialMT-32\"/>\r\n      <use x=\"1387.40625\" xlink:href=\"#ArialMT-51\"/>\r\n     </g>\r\n    </g>\r\n   </g>\r\n   <g id=\"PathCollection_1\">\r\n    <defs>\r\n     <path d=\"M 0 1.581139 \r\nC 0.419323 1.581139 0.821528 1.41454 1.118034 1.118034 \r\nC 1.41454 0.821528 1.581139 0.419323 1.581139 0 \r\nC 1.581139 -0.419323 1.41454 -0.821528 1.118034 -1.118034 \r\nC 0.821528 -1.41454 0.419323 -1.581139 0 -1.581139 \r\nC -0.419323 -1.581139 -0.821528 -1.41454 -1.118034 -1.118034 \r\nC -1.41454 -0.821528 -1.581139 -0.419323 -1.581139 0 \r\nC -1.581139 0.419323 -1.41454 0.821528 -1.118034 1.118034 \r\nC -0.821528 1.41454 -0.419323 1.581139 0 1.581139 \r\nz\r\n\" id=\"m6333507b49\" style=\"stroke:#1f77b4;\"/>\r\n    </defs>\r\n    <g clip-path=\"url(#pf6f5f26159)\">\r\n     <use style=\"fill:#1f77b4;stroke:#1f77b4;\" x=\"52.973901\" xlink:href=\"#m6333507b49\" y=\"162.757064\"/>\r\n     <use style=\"fill:#1f77b4;stroke:#1f77b4;\" x=\"68.243809\" xlink:href=\"#m6333507b49\" y=\"239.59132\"/>\r\n     <use style=\"fill:#1f77b4;stroke:#1f77b4;\" x=\"88.42953\" xlink:href=\"#m6333507b49\" y=\"155.073638\"/>\r\n     <use style=\"fill:#1f77b4;stroke:#1f77b4;\" x=\"103.699439\" xlink:href=\"#m6333507b49\" y=\"201.174192\"/>\r\n     <use style=\"fill:#1f77b4;stroke:#1f77b4;\" x=\"118.969348\" xlink:href=\"#m6333507b49\" y=\"174.282202\"/>\r\n     <use style=\"fill:#1f77b4;stroke:#1f77b4;\" x=\"139.155069\" xlink:href=\"#m6333507b49\" y=\"171.977175\"/>\r\n     <use style=\"fill:#1f77b4;stroke:#1f77b4;\" x=\"154.424977\" xlink:href=\"#m6333507b49\" y=\"177.355573\"/>\r\n     <use style=\"fill:#1f77b4;stroke:#1f77b4;\" x=\"189.880607\" xlink:href=\"#m6333507b49\" y=\"178.738589\"/>\r\n     <use style=\"fill:#1f77b4;stroke:#1f77b4;\" x=\"205.150516\" xlink:href=\"#m6333507b49\" y=\"175.088962\"/>\r\n     <use style=\"fill:#1f77b4;stroke:#1f77b4;\" x=\"255.876054\" xlink:href=\"#m6333507b49\" y=\"175.826571\"/>\r\n     <use style=\"fill:#1f77b4;stroke:#1f77b4;\" x=\"306.601592\" xlink:href=\"#m6333507b49\" y=\"175.791996\"/>\r\n     <use style=\"fill:#1f77b4;stroke:#1f77b4;\" x=\"357.327131\" xlink:href=\"#m6333507b49\" y=\"175.553694\"/>\r\n     <use style=\"fill:#1f77b4;stroke:#1f77b4;\" x=\"52.973901\" xlink:href=\"#m6333507b49\" y=\"124.339936\"/>\r\n     <use style=\"fill:#1f77b4;stroke:#1f77b4;\" x=\"68.243809\" xlink:href=\"#m6333507b49\" y=\"220.382756\"/>\r\n     <use style=\"fill:#1f77b4;stroke:#1f77b4;\" x=\"88.42953\" xlink:href=\"#m6333507b49\" y=\"170.44049\"/>\r\n     <use style=\"fill:#1f77b4;stroke:#1f77b4;\" x=\"103.699439\" xlink:href=\"#m6333507b49\" y=\"162.757064\"/>\r\n     <use style=\"fill:#1f77b4;stroke:#1f77b4;\" x=\"118.969348\" xlink:href=\"#m6333507b49\" y=\"172.361346\"/>\r\n     <use style=\"fill:#1f77b4;stroke:#1f77b4;\" x=\"139.155069\" xlink:href=\"#m6333507b49\" y=\"185.807341\"/>\r\n     <use style=\"fill:#1f77b4;stroke:#1f77b4;\" x=\"154.424977\" xlink:href=\"#m6333507b49\" y=\"181.965628\"/>\r\n     <use style=\"fill:#1f77b4;stroke:#1f77b4;\" x=\"189.880607\" xlink:href=\"#m6333507b49\" y=\"174.359037\"/>\r\n     <use style=\"fill:#1f77b4;stroke:#1f77b4;\" x=\"205.150516\" xlink:href=\"#m6333507b49\" y=\"179.007509\"/>\r\n     <use style=\"fill:#1f77b4;stroke:#1f77b4;\" x=\"255.876054\" xlink:href=\"#m6333507b49\" y=\"176.345202\"/>\r\n     <use style=\"fill:#1f77b4;stroke:#1f77b4;\" x=\"306.601592\" xlink:href=\"#m6333507b49\" y=\"175.497336\"/>\r\n     <use style=\"fill:#1f77b4;stroke:#1f77b4;\" x=\"357.327131\" xlink:href=\"#m6333507b49\" y=\"175.645934\"/>\r\n     <use style=\"fill:#1f77b4;stroke:#1f77b4;\" x=\"52.973901\" xlink:href=\"#m6333507b49\" y=\"239.59132\"/>\r\n     <use style=\"fill:#1f77b4;stroke:#1f77b4;\" x=\"68.243809\" xlink:href=\"#m6333507b49\" y=\"162.757064\"/>\r\n     <use style=\"fill:#1f77b4;stroke:#1f77b4;\" x=\"88.42953\" xlink:href=\"#m6333507b49\" y=\"193.490766\"/>\r\n     <use style=\"fill:#1f77b4;stroke:#1f77b4;\" x=\"103.699439\" xlink:href=\"#m6333507b49\" y=\"158.915351\"/>\r\n     <use style=\"fill:#1f77b4;stroke:#1f77b4;\" x=\"118.969348\" xlink:href=\"#m6333507b49\" y=\"178.123915\"/>\r\n     <use style=\"fill:#1f77b4;stroke:#1f77b4;\" x=\"139.155069\" xlink:href=\"#m6333507b49\" y=\"172.745517\"/>\r\n     <use style=\"fill:#1f77b4;stroke:#1f77b4;\" x=\"154.424977\" xlink:href=\"#m6333507b49\" y=\"172.361346\"/>\r\n     <use style=\"fill:#1f77b4;stroke:#1f77b4;\" x=\"189.880607\" xlink:href=\"#m6333507b49\" y=\"174.973711\"/>\r\n     <use style=\"fill:#1f77b4;stroke:#1f77b4;\" x=\"205.150516\" xlink:href=\"#m6333507b49\" y=\"176.817733\"/>\r\n     <use style=\"fill:#1f77b4;stroke:#1f77b4;\" x=\"255.876054\" xlink:href=\"#m6333507b49\" y=\"175.181163\"/>\r\n     <use style=\"fill:#1f77b4;stroke:#1f77b4;\" x=\"306.601592\" xlink:href=\"#m6333507b49\" y=\"175.778165\"/>\r\n     <use style=\"fill:#1f77b4;stroke:#1f77b4;\" x=\"357.327131\" xlink:href=\"#m6333507b49\" y=\"175.558496\"/>\r\n     <use style=\"fill:#1f77b4;stroke:#1f77b4;\" x=\"52.973901\" xlink:href=\"#m6333507b49\" y=\"201.174192\"/>\r\n     <use style=\"fill:#1f77b4;stroke:#1f77b4;\" x=\"68.243809\" xlink:href=\"#m6333507b49\" y=\"201.174192\"/>\r\n     <use style=\"fill:#1f77b4;stroke:#1f77b4;\" x=\"88.42953\" xlink:href=\"#m6333507b49\" y=\"185.807341\"/>\r\n     <use style=\"fill:#1f77b4;stroke:#1f77b4;\" x=\"103.699439\" xlink:href=\"#m6333507b49\" y=\"178.123915\"/>\r\n     <use style=\"fill:#1f77b4;stroke:#1f77b4;\" x=\"118.969348\" xlink:href=\"#m6333507b49\" y=\"168.519633\"/>\r\n     <use style=\"fill:#1f77b4;stroke:#1f77b4;\" x=\"139.155069\" xlink:href=\"#m6333507b49\" y=\"175.818888\"/>\r\n     <use style=\"fill:#1f77b4;stroke:#1f77b4;\" x=\"154.424977\" xlink:href=\"#m6333507b49\" y=\"181.197285\"/>\r\n     <use style=\"fill:#1f77b4;stroke:#1f77b4;\" x=\"189.880607\" xlink:href=\"#m6333507b49\" y=\"176.817733\"/>\r\n     <use style=\"fill:#1f77b4;stroke:#1f77b4;\" x=\"205.150516\" xlink:href=\"#m6333507b49\" y=\"176.932984\"/>\r\n     <use style=\"fill:#1f77b4;stroke:#1f77b4;\" x=\"255.876054\" xlink:href=\"#m6333507b49\" y=\"175.403983\"/>\r\n     <use style=\"fill:#1f77b4;stroke:#1f77b4;\" x=\"306.601592\" xlink:href=\"#m6333507b49\" y=\"175.382085\"/>\r\n     <use style=\"fill:#1f77b4;stroke:#1f77b4;\" x=\"357.327131\" xlink:href=\"#m6333507b49\" y=\"175.552734\"/>\r\n     <use style=\"fill:#1f77b4;stroke:#1f77b4;\" x=\"52.973901\" xlink:href=\"#m6333507b49\" y=\"124.339936\"/>\r\n     <use style=\"fill:#1f77b4;stroke:#1f77b4;\" x=\"68.243809\" xlink:href=\"#m6333507b49\" y=\"201.174192\"/>\r\n     <use style=\"fill:#1f77b4;stroke:#1f77b4;\" x=\"88.42953\" xlink:href=\"#m6333507b49\" y=\"178.123915\"/>\r\n     <use style=\"fill:#1f77b4;stroke:#1f77b4;\" x=\"103.699439\" xlink:href=\"#m6333507b49\" y=\"197.332479\"/>\r\n     <use style=\"fill:#1f77b4;stroke:#1f77b4;\" x=\"118.969348\" xlink:href=\"#m6333507b49\" y=\"178.123915\"/>\r\n     <use style=\"fill:#1f77b4;stroke:#1f77b4;\" x=\"139.155069\" xlink:href=\"#m6333507b49\" y=\"173.51386\"/>\r\n     <use style=\"fill:#1f77b4;stroke:#1f77b4;\" x=\"154.424977\" xlink:href=\"#m6333507b49\" y=\"180.813114\"/>\r\n     <use style=\"fill:#1f77b4;stroke:#1f77b4;\" x=\"189.880607\" xlink:href=\"#m6333507b49\" y=\"175.665219\"/>\r\n     <use style=\"fill:#1f77b4;stroke:#1f77b4;\" x=\"205.150516\" xlink:href=\"#m6333507b49\" y=\"172.937603\"/>\r\n     <use style=\"fill:#1f77b4;stroke:#1f77b4;\" x=\"255.876054\" xlink:href=\"#m6333507b49\" y=\"176.210742\"/>\r\n     <use style=\"fill:#1f77b4;stroke:#1f77b4;\" x=\"306.601592\" xlink:href=\"#m6333507b49\" y=\"175.709399\"/>\r\n     <use style=\"fill:#1f77b4;stroke:#1f77b4;\" x=\"357.327131\" xlink:href=\"#m6333507b49\" y=\"175.633371\"/>\r\n     <use style=\"fill:#1f77b4;stroke:#1f77b4;\" x=\"52.973901\" xlink:href=\"#m6333507b49\" y=\"124.339936\"/>\r\n     <use style=\"fill:#1f77b4;stroke:#1f77b4;\" x=\"68.243809\" xlink:href=\"#m6333507b49\" y=\"201.174192\"/>\r\n     <use style=\"fill:#1f77b4;stroke:#1f77b4;\" x=\"88.42953\" xlink:href=\"#m6333507b49\" y=\"162.757064\"/>\r\n     <use style=\"fill:#1f77b4;stroke:#1f77b4;\" x=\"103.699439\" xlink:href=\"#m6333507b49\" y=\"181.965628\"/>\r\n     <use style=\"fill:#1f77b4;stroke:#1f77b4;\" x=\"118.969348\" xlink:href=\"#m6333507b49\" y=\"166.598777\"/>\r\n     <use style=\"fill:#1f77b4;stroke:#1f77b4;\" x=\"139.155069\" xlink:href=\"#m6333507b49\" y=\"171.977175\"/>\r\n     <use style=\"fill:#1f77b4;stroke:#1f77b4;\" x=\"154.424977\" xlink:href=\"#m6333507b49\" y=\"174.282202\"/>\r\n     <use style=\"fill:#1f77b4;stroke:#1f77b4;\" x=\"189.880607\" xlink:href=\"#m6333507b49\" y=\"178.738589\"/>\r\n     <use style=\"fill:#1f77b4;stroke:#1f77b4;\" x=\"205.150516\" xlink:href=\"#m6333507b49\" y=\"174.282202\"/>\r\n     <use style=\"fill:#1f77b4;stroke:#1f77b4;\" x=\"255.876054\" xlink:href=\"#m6333507b49\" y=\"175.926455\"/>\r\n     <use style=\"fill:#1f77b4;stroke:#1f77b4;\" x=\"306.601592\" xlink:href=\"#m6333507b49\" y=\"175.4351\"/>\r\n     <use style=\"fill:#1f77b4;stroke:#1f77b4;\" x=\"357.327131\" xlink:href=\"#m6333507b49\" y=\"175.645165\"/>\r\n     <use style=\"fill:#1f77b4;stroke:#1f77b4;\" x=\"52.973901\" xlink:href=\"#m6333507b49\" y=\"162.757064\"/>\r\n     <use style=\"fill:#1f77b4;stroke:#1f77b4;\" x=\"68.243809\" xlink:href=\"#m6333507b49\" y=\"162.757064\"/>\r\n     <use style=\"fill:#1f77b4;stroke:#1f77b4;\" x=\"88.42953\" xlink:href=\"#m6333507b49\" y=\"178.123915\"/>\r\n     <use style=\"fill:#1f77b4;stroke:#1f77b4;\" x=\"103.699439\" xlink:href=\"#m6333507b49\" y=\"143.5485\"/>\r\n     <use style=\"fill:#1f77b4;stroke:#1f77b4;\" x=\"118.969348\" xlink:href=\"#m6333507b49\" y=\"181.965628\"/>\r\n     <use style=\"fill:#1f77b4;stroke:#1f77b4;\" x=\"139.155069\" xlink:href=\"#m6333507b49\" y=\"169.672147\"/>\r\n     <use style=\"fill:#1f77b4;stroke:#1f77b4;\" x=\"154.424977\" xlink:href=\"#m6333507b49\" y=\"183.886484\"/>\r\n     <use style=\"fill:#1f77b4;stroke:#1f77b4;\" x=\"189.880607\" xlink:href=\"#m6333507b49\" y=\"177.355573\"/>\r\n     <use style=\"fill:#1f77b4;stroke:#1f77b4;\" x=\"205.150516\" xlink:href=\"#m6333507b49\" y=\"177.39399\"/>\r\n     <use style=\"fill:#1f77b4;stroke:#1f77b4;\" x=\"255.876054\" xlink:href=\"#m6333507b49\" y=\"176.268368\"/>\r\n     <use style=\"fill:#1f77b4;stroke:#1f77b4;\" x=\"306.601592\" xlink:href=\"#m6333507b49\" y=\"175.490037\"/>\r\n     <use style=\"fill:#1f77b4;stroke:#1f77b4;\" x=\"357.327131\" xlink:href=\"#m6333507b49\" y=\"175.570406\"/>\r\n     <use style=\"fill:#1f77b4;stroke:#1f77b4;\" x=\"52.973901\" xlink:href=\"#m6333507b49\" y=\"201.174192\"/>\r\n     <use style=\"fill:#1f77b4;stroke:#1f77b4;\" x=\"68.243809\" xlink:href=\"#m6333507b49\" y=\"181.965628\"/>\r\n     <use style=\"fill:#1f77b4;stroke:#1f77b4;\" x=\"88.42953\" xlink:href=\"#m6333507b49\" y=\"170.44049\"/>\r\n     <use style=\"fill:#1f77b4;stroke:#1f77b4;\" x=\"103.699439\" xlink:href=\"#m6333507b49\" y=\"185.807341\"/>\r\n     <use style=\"fill:#1f77b4;stroke:#1f77b4;\" x=\"118.969348\" xlink:href=\"#m6333507b49\" y=\"191.56991\"/>\r\n     <use style=\"fill:#1f77b4;stroke:#1f77b4;\" x=\"139.155069\" xlink:href=\"#m6333507b49\" y=\"177.355573\"/>\r\n     <use style=\"fill:#1f77b4;stroke:#1f77b4;\" x=\"154.424977\" xlink:href=\"#m6333507b49\" y=\"167.751291\"/>\r\n     <use style=\"fill:#1f77b4;stroke:#1f77b4;\" x=\"189.880607\" xlink:href=\"#m6333507b49\" y=\"172.207677\"/>\r\n     <use style=\"fill:#1f77b4;stroke:#1f77b4;\" x=\"205.150516\" xlink:href=\"#m6333507b49\" y=\"176.31831\"/>\r\n     <use style=\"fill:#1f77b4;stroke:#1f77b4;\" x=\"255.876054\" xlink:href=\"#m6333507b49\" y=\"175.192688\"/>\r\n     <use style=\"fill:#1f77b4;stroke:#1f77b4;\" x=\"306.601592\" xlink:href=\"#m6333507b49\" y=\"175.540748\"/>\r\n     <use style=\"fill:#1f77b4;stroke:#1f77b4;\" x=\"357.327131\" xlink:href=\"#m6333507b49\" y=\"175.556076\"/>\r\n     <use style=\"fill:#1f77b4;stroke:#1f77b4;\" x=\"52.973901\" xlink:href=\"#m6333507b49\" y=\"162.757064\"/>\r\n     <use style=\"fill:#1f77b4;stroke:#1f77b4;\" x=\"68.243809\" xlink:href=\"#m6333507b49\" y=\"162.757064\"/>\r\n     <use style=\"fill:#1f77b4;stroke:#1f77b4;\" x=\"88.42953\" xlink:href=\"#m6333507b49\" y=\"185.807341\"/>\r\n     <use style=\"fill:#1f77b4;stroke:#1f77b4;\" x=\"103.699439\" xlink:href=\"#m6333507b49\" y=\"185.807341\"/>\r\n     <use style=\"fill:#1f77b4;stroke:#1f77b4;\" x=\"118.969348\" xlink:href=\"#m6333507b49\" y=\"183.886484\"/>\r\n     <use style=\"fill:#1f77b4;stroke:#1f77b4;\" x=\"139.155069\" xlink:href=\"#m6333507b49\" y=\"168.903804\"/>\r\n     <use style=\"fill:#1f77b4;stroke:#1f77b4;\" x=\"154.424977\" xlink:href=\"#m6333507b49\" y=\"177.355573\"/>\r\n     <use style=\"fill:#1f77b4;stroke:#1f77b4;\" x=\"189.880607\" xlink:href=\"#m6333507b49\" y=\"176.894567\"/>\r\n     <use style=\"fill:#1f77b4;stroke:#1f77b4;\" x=\"205.150516\" xlink:href=\"#m6333507b49\" y=\"174.359037\"/>\r\n     <use style=\"fill:#1f77b4;stroke:#1f77b4;\" x=\"255.876054\" xlink:href=\"#m6333507b49\" y=\"175.054387\"/>\r\n     <use style=\"fill:#1f77b4;stroke:#1f77b4;\" x=\"306.601592\" xlink:href=\"#m6333507b49\" y=\"175.461224\"/>\r\n     <use style=\"fill:#1f77b4;stroke:#1f77b4;\" x=\"357.327131\" xlink:href=\"#m6333507b49\" y=\"175.584966\"/>\r\n     <use style=\"fill:#1f77b4;stroke:#1f77b4;\" x=\"52.973901\" xlink:href=\"#m6333507b49\" y=\"201.174192\"/>\r\n     <use style=\"fill:#1f77b4;stroke:#1f77b4;\" x=\"68.243809\" xlink:href=\"#m6333507b49\" y=\"201.174192\"/>\r\n     <use style=\"fill:#1f77b4;stroke:#1f77b4;\" x=\"88.42953\" xlink:href=\"#m6333507b49\" y=\"178.123915\"/>\r\n     <use style=\"fill:#1f77b4;stroke:#1f77b4;\" x=\"103.699439\" xlink:href=\"#m6333507b49\" y=\"185.807341\"/>\r\n     <use style=\"fill:#1f77b4;stroke:#1f77b4;\" x=\"118.969348\" xlink:href=\"#m6333507b49\" y=\"193.490766\"/>\r\n     <use style=\"fill:#1f77b4;stroke:#1f77b4;\" x=\"139.155069\" xlink:href=\"#m6333507b49\" y=\"169.672147\"/>\r\n     <use style=\"fill:#1f77b4;stroke:#1f77b4;\" x=\"154.424977\" xlink:href=\"#m6333507b49\" y=\"178.508086\"/>\r\n     <use style=\"fill:#1f77b4;stroke:#1f77b4;\" x=\"189.880607\" xlink:href=\"#m6333507b49\" y=\"172.284512\"/>\r\n     <use style=\"fill:#1f77b4;stroke:#1f77b4;\" x=\"205.150516\" xlink:href=\"#m6333507b49\" y=\"175.088962\"/>\r\n     <use style=\"fill:#1f77b4;stroke:#1f77b4;\" x=\"255.876054\" xlink:href=\"#m6333507b49\" y=\"175.257997\"/>\r\n     <use style=\"fill:#1f77b4;stroke:#1f77b4;\" x=\"306.601592\" xlink:href=\"#m6333507b49\" y=\"175.491189\"/>\r\n     <use style=\"fill:#1f77b4;stroke:#1f77b4;\" x=\"357.327131\" xlink:href=\"#m6333507b49\" y=\"175.592687\"/>\r\n     <use style=\"fill:#1f77b4;stroke:#1f77b4;\" x=\"52.973901\" xlink:href=\"#m6333507b49\" y=\"124.339936\"/>\r\n     <use style=\"fill:#1f77b4;stroke:#1f77b4;\" x=\"68.243809\" xlink:href=\"#m6333507b49\" y=\"201.174192\"/>\r\n     <use style=\"fill:#1f77b4;stroke:#1f77b4;\" x=\"88.42953\" xlink:href=\"#m6333507b49\" y=\"216.541043\"/>\r\n     <use style=\"fill:#1f77b4;stroke:#1f77b4;\" x=\"103.699439\" xlink:href=\"#m6333507b49\" y=\"155.073638\"/>\r\n     <use style=\"fill:#1f77b4;stroke:#1f77b4;\" x=\"118.969348\" xlink:href=\"#m6333507b49\" y=\"174.282202\"/>\r\n     <use style=\"fill:#1f77b4;stroke:#1f77b4;\" x=\"139.155069\" xlink:href=\"#m6333507b49\" y=\"174.282202\"/>\r\n     <use style=\"fill:#1f77b4;stroke:#1f77b4;\" x=\"154.424977\" xlink:href=\"#m6333507b49\" y=\"169.287976\"/>\r\n     <use style=\"fill:#1f77b4;stroke:#1f77b4;\" x=\"189.880607\" xlink:href=\"#m6333507b49\" y=\"172.43818\"/>\r\n     <use style=\"fill:#1f77b4;stroke:#1f77b4;\" x=\"205.150516\" xlink:href=\"#m6333507b49\" y=\"176.126225\"/>\r\n     <use style=\"fill:#1f77b4;stroke:#1f77b4;\" x=\"255.876054\" xlink:href=\"#m6333507b49\" y=\"175.054387\"/>\r\n     <use style=\"fill:#1f77b4;stroke:#1f77b4;\" x=\"306.601592\" xlink:href=\"#m6333507b49\" y=\"175.630259\"/>\r\n     <use style=\"fill:#1f77b4;stroke:#1f77b4;\" x=\"357.327131\" xlink:href=\"#m6333507b49\" y=\"175.54263\"/>\r\n     <use style=\"fill:#1f77b4;stroke:#1f77b4;\" x=\"52.973901\" xlink:href=\"#m6333507b49\" y=\"239.59132\"/>\r\n     <use style=\"fill:#1f77b4;stroke:#1f77b4;\" x=\"68.243809\" xlink:href=\"#m6333507b49\" y=\"201.174192\"/>\r\n     <use style=\"fill:#1f77b4;stroke:#1f77b4;\" x=\"88.42953\" xlink:href=\"#m6333507b49\" y=\"170.44049\"/>\r\n     <use style=\"fill:#1f77b4;stroke:#1f77b4;\" x=\"103.699439\" xlink:href=\"#m6333507b49\" y=\"166.598777\"/>\r\n     <use style=\"fill:#1f77b4;stroke:#1f77b4;\" x=\"118.969348\" xlink:href=\"#m6333507b49\" y=\"189.649054\"/>\r\n     <use style=\"fill:#1f77b4;stroke:#1f77b4;\" x=\"139.155069\" xlink:href=\"#m6333507b49\" y=\"166.598777\"/>\r\n     <use style=\"fill:#1f77b4;stroke:#1f77b4;\" x=\"154.424977\" xlink:href=\"#m6333507b49\" y=\"181.965628\"/>\r\n     <use style=\"fill:#1f77b4;stroke:#1f77b4;\" x=\"189.880607\" xlink:href=\"#m6333507b49\" y=\"174.820042\"/>\r\n     <use style=\"fill:#1f77b4;stroke:#1f77b4;\" x=\"205.150516\" xlink:href=\"#m6333507b49\" y=\"177.201904\"/>\r\n     <use style=\"fill:#1f77b4;stroke:#1f77b4;\" x=\"255.876054\" xlink:href=\"#m6333507b49\" y=\"175.30794\"/>\r\n     <use style=\"fill:#1f77b4;stroke:#1f77b4;\" x=\"306.601592\" xlink:href=\"#m6333507b49\" y=\"175.466987\"/>\r\n     <use style=\"fill:#1f77b4;stroke:#1f77b4;\" x=\"357.327131\" xlink:href=\"#m6333507b49\" y=\"175.574631\"/>\r\n     <use style=\"fill:#1f77b4;stroke:#1f77b4;\" x=\"52.973901\" xlink:href=\"#m6333507b49\" y=\"124.339936\"/>\r\n     <use style=\"fill:#1f77b4;stroke:#1f77b4;\" x=\"68.243809\" xlink:href=\"#m6333507b49\" y=\"181.965628\"/>\r\n     <use style=\"fill:#1f77b4;stroke:#1f77b4;\" x=\"88.42953\" xlink:href=\"#m6333507b49\" y=\"162.757064\"/>\r\n     <use style=\"fill:#1f77b4;stroke:#1f77b4;\" x=\"103.699439\" xlink:href=\"#m6333507b49\" y=\"178.123915\"/>\r\n     <use style=\"fill:#1f77b4;stroke:#1f77b4;\" x=\"118.969348\" xlink:href=\"#m6333507b49\" y=\"181.965628\"/>\r\n     <use style=\"fill:#1f77b4;stroke:#1f77b4;\" x=\"139.155069\" xlink:href=\"#m6333507b49\" y=\"164.293749\"/>\r\n     <use style=\"fill:#1f77b4;stroke:#1f77b4;\" x=\"154.424977\" xlink:href=\"#m6333507b49\" y=\"176.971401\"/>\r\n     <use style=\"fill:#1f77b4;stroke:#1f77b4;\" x=\"189.880607\" xlink:href=\"#m6333507b49\" y=\"176.203059\"/>\r\n     <use style=\"fill:#1f77b4;stroke:#1f77b4;\" x=\"205.150516\" xlink:href=\"#m6333507b49\" y=\"173.898031\"/>\r\n     <use style=\"fill:#1f77b4;stroke:#1f77b4;\" x=\"255.876054\" xlink:href=\"#m6333507b49\" y=\"175.926455\"/>\r\n     <use style=\"fill:#1f77b4;stroke:#1f77b4;\" x=\"306.601592\" xlink:href=\"#m6333507b49\" y=\"175.244167\"/>\r\n     <use style=\"fill:#1f77b4;stroke:#1f77b4;\" x=\"357.327131\" xlink:href=\"#m6333507b49\" y=\"175.624727\"/>\r\n     <use style=\"fill:#1f77b4;stroke:#1f77b4;\" x=\"52.973901\" xlink:href=\"#m6333507b49\" y=\"201.174192\"/>\r\n     <use style=\"fill:#1f77b4;stroke:#1f77b4;\" x=\"68.243809\" xlink:href=\"#m6333507b49\" y=\"143.5485\"/>\r\n     <use style=\"fill:#1f77b4;stroke:#1f77b4;\" x=\"88.42953\" xlink:href=\"#m6333507b49\" y=\"185.807341\"/>\r\n     <use style=\"fill:#1f77b4;stroke:#1f77b4;\" x=\"103.699439\" xlink:href=\"#m6333507b49\" y=\"212.69933\"/>\r\n     <use style=\"fill:#1f77b4;stroke:#1f77b4;\" x=\"118.969348\" xlink:href=\"#m6333507b49\" y=\"187.728197\"/>\r\n     <use style=\"fill:#1f77b4;stroke:#1f77b4;\" x=\"139.155069\" xlink:href=\"#m6333507b49\" y=\"181.197285\"/>\r\n     <use style=\"fill:#1f77b4;stroke:#1f77b4;\" x=\"154.424977\" xlink:href=\"#m6333507b49\" y=\"173.129689\"/>\r\n     <use style=\"fill:#1f77b4;stroke:#1f77b4;\" x=\"189.880607\" xlink:href=\"#m6333507b49\" y=\"178.738589\"/>\r\n     <use style=\"fill:#1f77b4;stroke:#1f77b4;\" x=\"205.150516\" xlink:href=\"#m6333507b49\" y=\"175.588385\"/>\r\n     <use style=\"fill:#1f77b4;stroke:#1f77b4;\" x=\"255.876054\" xlink:href=\"#m6333507b49\" y=\"176.007131\"/>\r\n     <use style=\"fill:#1f77b4;stroke:#1f77b4;\" x=\"306.601592\" xlink:href=\"#m6333507b49\" y=\"175.750889\"/>\r\n     <use style=\"fill:#1f77b4;stroke:#1f77b4;\" x=\"357.327131\" xlink:href=\"#m6333507b49\" y=\"175.612664\"/>\r\n     <use style=\"fill:#1f77b4;stroke:#1f77b4;\" x=\"52.973901\" xlink:href=\"#m6333507b49\" y=\"201.174192\"/>\r\n     <use style=\"fill:#1f77b4;stroke:#1f77b4;\" x=\"68.243809\" xlink:href=\"#m6333507b49\" y=\"181.965628\"/>\r\n     <use style=\"fill:#1f77b4;stroke:#1f77b4;\" x=\"88.42953\" xlink:href=\"#m6333507b49\" y=\"201.174192\"/>\r\n     <use style=\"fill:#1f77b4;stroke:#1f77b4;\" x=\"103.699439\" xlink:href=\"#m6333507b49\" y=\"212.69933\"/>\r\n     <use style=\"fill:#1f77b4;stroke:#1f77b4;\" x=\"118.969348\" xlink:href=\"#m6333507b49\" y=\"181.965628\"/>\r\n     <use style=\"fill:#1f77b4;stroke:#1f77b4;\" x=\"139.155069\" xlink:href=\"#m6333507b49\" y=\"170.44049\"/>\r\n     <use style=\"fill:#1f77b4;stroke:#1f77b4;\" x=\"154.424977\" xlink:href=\"#m6333507b49\" y=\"178.508086\"/>\r\n     <use style=\"fill:#1f77b4;stroke:#1f77b4;\" x=\"189.880607\" xlink:href=\"#m6333507b49\" y=\"178.431252\"/>\r\n     <use style=\"fill:#1f77b4;stroke:#1f77b4;\" x=\"205.150516\" xlink:href=\"#m6333507b49\" y=\"176.356727\"/>\r\n     <use style=\"fill:#1f77b4;stroke:#1f77b4;\" x=\"255.876054\" xlink:href=\"#m6333507b49\" y=\"175.223422\"/>\r\n     <use style=\"fill:#1f77b4;stroke:#1f77b4;\" x=\"306.601592\" xlink:href=\"#m6333507b49\" y=\"175.319081\"/>\r\n     <use style=\"fill:#1f77b4;stroke:#1f77b4;\" x=\"357.327131\" xlink:href=\"#m6333507b49\" y=\"175.543898\"/>\r\n     <use style=\"fill:#1f77b4;stroke:#1f77b4;\" x=\"52.973901\" xlink:href=\"#m6333507b49\" y=\"124.339936\"/>\r\n     <use style=\"fill:#1f77b4;stroke:#1f77b4;\" x=\"68.243809\" xlink:href=\"#m6333507b49\" y=\"162.757064\"/>\r\n     <use style=\"fill:#1f77b4;stroke:#1f77b4;\" x=\"88.42953\" xlink:href=\"#m6333507b49\" y=\"162.757064\"/>\r\n     <use style=\"fill:#1f77b4;stroke:#1f77b4;\" x=\"103.699439\" xlink:href=\"#m6333507b49\" y=\"158.915351\"/>\r\n     <use style=\"fill:#1f77b4;stroke:#1f77b4;\" x=\"118.969348\" xlink:href=\"#m6333507b49\" y=\"170.44049\"/>\r\n     <use style=\"fill:#1f77b4;stroke:#1f77b4;\" x=\"139.155069\" xlink:href=\"#m6333507b49\" y=\"176.58723\"/>\r\n     <use style=\"fill:#1f77b4;stroke:#1f77b4;\" x=\"154.424977\" xlink:href=\"#m6333507b49\" y=\"172.361346\"/>\r\n     <use style=\"fill:#1f77b4;stroke:#1f77b4;\" x=\"189.880607\" xlink:href=\"#m6333507b49\" y=\"173.206523\"/>\r\n     <use style=\"fill:#1f77b4;stroke:#1f77b4;\" x=\"205.150516\" xlink:href=\"#m6333507b49\" y=\"177.547658\"/>\r\n     <use style=\"fill:#1f77b4;stroke:#1f77b4;\" x=\"255.876054\" xlink:href=\"#m6333507b49\" y=\"175.031336\"/>\r\n     <use style=\"fill:#1f77b4;stroke:#1f77b4;\" x=\"306.601592\" xlink:href=\"#m6333507b49\" y=\"175.597221\"/>\r\n     <use style=\"fill:#1f77b4;stroke:#1f77b4;\" x=\"357.327131\" xlink:href=\"#m6333507b49\" y=\"175.534101\"/>\r\n     <use style=\"fill:#1f77b4;stroke:#1f77b4;\" x=\"52.973901\" xlink:href=\"#m6333507b49\" y=\"201.174192\"/>\r\n     <use style=\"fill:#1f77b4;stroke:#1f77b4;\" x=\"68.243809\" xlink:href=\"#m6333507b49\" y=\"201.174192\"/>\r\n     <use style=\"fill:#1f77b4;stroke:#1f77b4;\" x=\"88.42953\" xlink:href=\"#m6333507b49\" y=\"155.073638\"/>\r\n     <use style=\"fill:#1f77b4;stroke:#1f77b4;\" x=\"103.699439\" xlink:href=\"#m6333507b49\" y=\"181.965628\"/>\r\n     <use style=\"fill:#1f77b4;stroke:#1f77b4;\" x=\"118.969348\" xlink:href=\"#m6333507b49\" y=\"168.519633\"/>\r\n     <use style=\"fill:#1f77b4;stroke:#1f77b4;\" x=\"139.155069\" xlink:href=\"#m6333507b49\" y=\"183.502313\"/>\r\n     <use style=\"fill:#1f77b4;stroke:#1f77b4;\" x=\"154.424977\" xlink:href=\"#m6333507b49\" y=\"175.818888\"/>\r\n     <use style=\"fill:#1f77b4;stroke:#1f77b4;\" x=\"189.880607\" xlink:href=\"#m6333507b49\" y=\"173.898031\"/>\r\n     <use style=\"fill:#1f77b4;stroke:#1f77b4;\" x=\"205.150516\" xlink:href=\"#m6333507b49\" y=\"177.701327\"/>\r\n     <use style=\"fill:#1f77b4;stroke:#1f77b4;\" x=\"255.876054\" xlink:href=\"#m6333507b49\" y=\"175.438558\"/>\r\n     <use style=\"fill:#1f77b4;stroke:#1f77b4;\" x=\"306.601592\" xlink:href=\"#m6333507b49\" y=\"175.81082\"/>\r\n     <use style=\"fill:#1f77b4;stroke:#1f77b4;\" x=\"357.327131\" xlink:href=\"#m6333507b49\" y=\"175.544474\"/>\r\n     <use style=\"fill:#1f77b4;stroke:#1f77b4;\" x=\"52.973901\" xlink:href=\"#m6333507b49\" y=\"162.757064\"/>\r\n     <use style=\"fill:#1f77b4;stroke:#1f77b4;\" x=\"68.243809\" xlink:href=\"#m6333507b49\" y=\"143.5485\"/>\r\n     <use style=\"fill:#1f77b4;stroke:#1f77b4;\" x=\"88.42953\" xlink:href=\"#m6333507b49\" y=\"178.123915\"/>\r\n     <use style=\"fill:#1f77b4;stroke:#1f77b4;\" x=\"103.699439\" xlink:href=\"#m6333507b49\" y=\"189.649054\"/>\r\n     <use style=\"fill:#1f77b4;stroke:#1f77b4;\" x=\"118.969348\" xlink:href=\"#m6333507b49\" y=\"191.56991\"/>\r\n     <use style=\"fill:#1f77b4;stroke:#1f77b4;\" x=\"139.155069\" xlink:href=\"#m6333507b49\" y=\"179.6606\"/>\r\n     <use style=\"fill:#1f77b4;stroke:#1f77b4;\" x=\"154.424977\" xlink:href=\"#m6333507b49\" y=\"186.191512\"/>\r\n     <use style=\"fill:#1f77b4;stroke:#1f77b4;\" x=\"189.880607\" xlink:href=\"#m6333507b49\" y=\"177.048236\"/>\r\n     <use style=\"fill:#1f77b4;stroke:#1f77b4;\" x=\"205.150516\" xlink:href=\"#m6333507b49\" y=\"177.701327\"/>\r\n     <use style=\"fill:#1f77b4;stroke:#1f77b4;\" x=\"255.876054\" xlink:href=\"#m6333507b49\" y=\"175.834254\"/>\r\n     <use style=\"fill:#1f77b4;stroke:#1f77b4;\" x=\"306.601592\" xlink:href=\"#m6333507b49\" y=\"175.789306\"/>\r\n     <use style=\"fill:#1f77b4;stroke:#1f77b4;\" x=\"357.327131\" xlink:href=\"#m6333507b49\" y=\"175.643513\"/>\r\n     <use style=\"fill:#1f77b4;stroke:#1f77b4;\" x=\"52.973901\" xlink:href=\"#m6333507b49\" y=\"201.174192\"/>\r\n     <use style=\"fill:#1f77b4;stroke:#1f77b4;\" x=\"68.243809\" xlink:href=\"#m6333507b49\" y=\"201.174192\"/>\r\n     <use style=\"fill:#1f77b4;stroke:#1f77b4;\" x=\"88.42953\" xlink:href=\"#m6333507b49\" y=\"155.073638\"/>\r\n     <use style=\"fill:#1f77b4;stroke:#1f77b4;\" x=\"103.699439\" xlink:href=\"#m6333507b49\" y=\"174.282202\"/>\r\n     <use style=\"fill:#1f77b4;stroke:#1f77b4;\" x=\"118.969348\" xlink:href=\"#m6333507b49\" y=\"178.123915\"/>\r\n     <use style=\"fill:#1f77b4;stroke:#1f77b4;\" x=\"139.155069\" xlink:href=\"#m6333507b49\" y=\"168.135462\"/>\r\n     <use style=\"fill:#1f77b4;stroke:#1f77b4;\" x=\"154.424977\" xlink:href=\"#m6333507b49\" y=\"175.050545\"/>\r\n     <use style=\"fill:#1f77b4;stroke:#1f77b4;\" x=\"189.880607\" xlink:href=\"#m6333507b49\" y=\"172.207677\"/>\r\n     <use style=\"fill:#1f77b4;stroke:#1f77b4;\" x=\"205.150516\" xlink:href=\"#m6333507b49\" y=\"175.396299\"/>\r\n     <use style=\"fill:#1f77b4;stroke:#1f77b4;\" x=\"255.876054\" xlink:href=\"#m6333507b49\" y=\"175.227264\"/>\r\n     <use style=\"fill:#1f77b4;stroke:#1f77b4;\" x=\"306.601592\" xlink:href=\"#m6333507b49\" y=\"175.280279\"/>\r\n     <use style=\"fill:#1f77b4;stroke:#1f77b4;\" x=\"357.327131\" xlink:href=\"#m6333507b49\" y=\"175.532795\"/>\r\n     <use style=\"fill:#1f77b4;stroke:#1f77b4;\" x=\"52.973901\" xlink:href=\"#m6333507b49\" y=\"162.757064\"/>\r\n     <use style=\"fill:#1f77b4;stroke:#1f77b4;\" x=\"68.243809\" xlink:href=\"#m6333507b49\" y=\"162.757064\"/>\r\n     <use style=\"fill:#1f77b4;stroke:#1f77b4;\" x=\"88.42953\" xlink:href=\"#m6333507b49\" y=\"155.073638\"/>\r\n     <use style=\"fill:#1f77b4;stroke:#1f77b4;\" x=\"103.699439\" xlink:href=\"#m6333507b49\" y=\"155.073638\"/>\r\n     <use style=\"fill:#1f77b4;stroke:#1f77b4;\" x=\"118.969348\" xlink:href=\"#m6333507b49\" y=\"176.203059\"/>\r\n     <use style=\"fill:#1f77b4;stroke:#1f77b4;\" x=\"139.155069\" xlink:href=\"#m6333507b49\" y=\"185.807341\"/>\r\n     <use style=\"fill:#1f77b4;stroke:#1f77b4;\" x=\"154.424977\" xlink:href=\"#m6333507b49\" y=\"185.038998\"/>\r\n     <use style=\"fill:#1f77b4;stroke:#1f77b4;\" x=\"189.880607\" xlink:href=\"#m6333507b49\" y=\"170.747827\"/>\r\n     <use style=\"fill:#1f77b4;stroke:#1f77b4;\" x=\"205.150516\" xlink:href=\"#m6333507b49\" y=\"177.778161\"/>\r\n     <use style=\"fill:#1f77b4;stroke:#1f77b4;\" x=\"255.876054\" xlink:href=\"#m6333507b49\" y=\"175.077437\"/>\r\n     <use style=\"fill:#1f77b4;stroke:#1f77b4;\" x=\"306.601592\" xlink:href=\"#m6333507b49\" y=\"175.541132\"/>\r\n     <use style=\"fill:#1f77b4;stroke:#1f77b4;\" x=\"357.327131\" xlink:href=\"#m6333507b49\" y=\"175.538558\"/>\r\n     <use style=\"fill:#1f77b4;stroke:#1f77b4;\" x=\"52.973901\" xlink:href=\"#m6333507b49\" y=\"201.174192\"/>\r\n     <use style=\"fill:#1f77b4;stroke:#1f77b4;\" x=\"68.243809\" xlink:href=\"#m6333507b49\" y=\"162.757064\"/>\r\n     <use style=\"fill:#1f77b4;stroke:#1f77b4;\" x=\"88.42953\" xlink:href=\"#m6333507b49\" y=\"162.757064\"/>\r\n     <use style=\"fill:#1f77b4;stroke:#1f77b4;\" x=\"103.699439\" xlink:href=\"#m6333507b49\" y=\"181.965628\"/>\r\n     <use style=\"fill:#1f77b4;stroke:#1f77b4;\" x=\"118.969348\" xlink:href=\"#m6333507b49\" y=\"166.598777\"/>\r\n     <use style=\"fill:#1f77b4;stroke:#1f77b4;\" x=\"139.155069\" xlink:href=\"#m6333507b49\" y=\"165.830434\"/>\r\n     <use style=\"fill:#1f77b4;stroke:#1f77b4;\" x=\"154.424977\" xlink:href=\"#m6333507b49\" y=\"174.282202\"/>\r\n     <use style=\"fill:#1f77b4;stroke:#1f77b4;\" x=\"189.880607\" xlink:href=\"#m6333507b49\" y=\"176.817733\"/>\r\n     <use style=\"fill:#1f77b4;stroke:#1f77b4;\" x=\"205.150516\" xlink:href=\"#m6333507b49\" y=\"177.816578\"/>\r\n     <use style=\"fill:#1f77b4;stroke:#1f77b4;\" x=\"255.876054\" xlink:href=\"#m6333507b49\" y=\"175.388616\"/>\r\n     <use style=\"fill:#1f77b4;stroke:#1f77b4;\" x=\"306.601592\" xlink:href=\"#m6333507b49\" y=\"175.685196\"/>\r\n     <use style=\"fill:#1f77b4;stroke:#1f77b4;\" x=\"357.327131\" xlink:href=\"#m6333507b49\" y=\"175.542246\"/>\r\n     <use style=\"fill:#1f77b4;stroke:#1f77b4;\" x=\"52.973901\" xlink:href=\"#m6333507b49\" y=\"201.174192\"/>\r\n     <use style=\"fill:#1f77b4;stroke:#1f77b4;\" x=\"68.243809\" xlink:href=\"#m6333507b49\" y=\"162.757064\"/>\r\n     <use style=\"fill:#1f77b4;stroke:#1f77b4;\" x=\"88.42953\" xlink:href=\"#m6333507b49\" y=\"178.123915\"/>\r\n     <use style=\"fill:#1f77b4;stroke:#1f77b4;\" x=\"103.699439\" xlink:href=\"#m6333507b49\" y=\"193.490766\"/>\r\n     <use style=\"fill:#1f77b4;stroke:#1f77b4;\" x=\"118.969348\" xlink:href=\"#m6333507b49\" y=\"185.807341\"/>\r\n     <use style=\"fill:#1f77b4;stroke:#1f77b4;\" x=\"139.155069\" xlink:href=\"#m6333507b49\" y=\"168.135462\"/>\r\n     <use style=\"fill:#1f77b4;stroke:#1f77b4;\" x=\"154.424977\" xlink:href=\"#m6333507b49\" y=\"173.51386\"/>\r\n     <use style=\"fill:#1f77b4;stroke:#1f77b4;\" x=\"189.880607\" xlink:href=\"#m6333507b49\" y=\"179.583766\"/>\r\n     <use style=\"fill:#1f77b4;stroke:#1f77b4;\" x=\"205.150516\" xlink:href=\"#m6333507b49\" y=\"175.050545\"/>\r\n     <use style=\"fill:#1f77b4;stroke:#1f77b4;\" x=\"255.876054\" xlink:href=\"#m6333507b49\" y=\"176.356727\"/>\r\n     <use style=\"fill:#1f77b4;stroke:#1f77b4;\" x=\"306.601592\" xlink:href=\"#m6333507b49\" y=\"175.626034\"/>\r\n     <use style=\"fill:#1f77b4;stroke:#1f77b4;\" x=\"357.327131\" xlink:href=\"#m6333507b49\" y=\"175.555077\"/>\r\n     <use style=\"fill:#1f77b4;stroke:#1f77b4;\" x=\"52.973901\" xlink:href=\"#m6333507b49\" y=\"201.174192\"/>\r\n     <use style=\"fill:#1f77b4;stroke:#1f77b4;\" x=\"68.243809\" xlink:href=\"#m6333507b49\" y=\"201.174192\"/>\r\n     <use style=\"fill:#1f77b4;stroke:#1f77b4;\" x=\"88.42953\" xlink:href=\"#m6333507b49\" y=\"201.174192\"/>\r\n     <use style=\"fill:#1f77b4;stroke:#1f77b4;\" x=\"103.699439\" xlink:href=\"#m6333507b49\" y=\"166.598777\"/>\r\n     <use style=\"fill:#1f77b4;stroke:#1f77b4;\" x=\"118.969348\" xlink:href=\"#m6333507b49\" y=\"180.044772\"/>\r\n     <use style=\"fill:#1f77b4;stroke:#1f77b4;\" x=\"139.155069\" xlink:href=\"#m6333507b49\" y=\"178.892258\"/>\r\n     <use style=\"fill:#1f77b4;stroke:#1f77b4;\" x=\"154.424977\" xlink:href=\"#m6333507b49\" y=\"172.745517\"/>\r\n     <use style=\"fill:#1f77b4;stroke:#1f77b4;\" x=\"189.880607\" xlink:href=\"#m6333507b49\" y=\"172.745517\"/>\r\n     <use style=\"fill:#1f77b4;stroke:#1f77b4;\" x=\"205.150516\" xlink:href=\"#m6333507b49\" y=\"176.85615\"/>\r\n     <use style=\"fill:#1f77b4;stroke:#1f77b4;\" x=\"255.876054\" xlink:href=\"#m6333507b49\" y=\"175.807362\"/>\r\n     <use style=\"fill:#1f77b4;stroke:#1f77b4;\" x=\"306.601592\" xlink:href=\"#m6333507b49\" y=\"175.218044\"/>\r\n     <use style=\"fill:#1f77b4;stroke:#1f77b4;\" x=\"357.327131\" xlink:href=\"#m6333507b49\" y=\"175.595108\"/>\r\n     <use style=\"fill:#1f77b4;stroke:#1f77b4;\" x=\"52.973901\" xlink:href=\"#m6333507b49\" y=\"124.339936\"/>\r\n     <use style=\"fill:#1f77b4;stroke:#1f77b4;\" x=\"68.243809\" xlink:href=\"#m6333507b49\" y=\"181.965628\"/>\r\n     <use style=\"fill:#1f77b4;stroke:#1f77b4;\" x=\"88.42953\" xlink:href=\"#m6333507b49\" y=\"155.073638\"/>\r\n     <use style=\"fill:#1f77b4;stroke:#1f77b4;\" x=\"103.699439\" xlink:href=\"#m6333507b49\" y=\"166.598777\"/>\r\n     <use style=\"fill:#1f77b4;stroke:#1f77b4;\" x=\"118.969348\" xlink:href=\"#m6333507b49\" y=\"174.282202\"/>\r\n     <use style=\"fill:#1f77b4;stroke:#1f77b4;\" x=\"139.155069\" xlink:href=\"#m6333507b49\" y=\"171.977175\"/>\r\n     <use style=\"fill:#1f77b4;stroke:#1f77b4;\" x=\"154.424977\" xlink:href=\"#m6333507b49\" y=\"175.818888\"/>\r\n     <use style=\"fill:#1f77b4;stroke:#1f77b4;\" x=\"189.880607\" xlink:href=\"#m6333507b49\" y=\"174.820042\"/>\r\n     <use style=\"fill:#1f77b4;stroke:#1f77b4;\" x=\"205.150516\" xlink:href=\"#m6333507b49\" y=\"172.43818\"/>\r\n     <use style=\"fill:#1f77b4;stroke:#1f77b4;\" x=\"255.876054\" xlink:href=\"#m6333507b49\" y=\"175.100487\"/>\r\n     <use style=\"fill:#1f77b4;stroke:#1f77b4;\" x=\"306.601592\" xlink:href=\"#m6333507b49\" y=\"175.452004\"/>\r\n     <use style=\"fill:#1f77b4;stroke:#1f77b4;\" x=\"357.327131\" xlink:href=\"#m6333507b49\" y=\"175.550582\"/>\r\n     <use style=\"fill:#1f77b4;stroke:#1f77b4;\" x=\"52.973901\" xlink:href=\"#m6333507b49\" y=\"201.174192\"/>\r\n     <use style=\"fill:#1f77b4;stroke:#1f77b4;\" x=\"68.243809\" xlink:href=\"#m6333507b49\" y=\"105.131372\"/>\r\n     <use style=\"fill:#1f77b4;stroke:#1f77b4;\" x=\"88.42953\" xlink:href=\"#m6333507b49\" y=\"170.44049\"/>\r\n     <use style=\"fill:#1f77b4;stroke:#1f77b4;\" x=\"103.699439\" xlink:href=\"#m6333507b49\" y=\"181.965628\"/>\r\n     <use style=\"fill:#1f77b4;stroke:#1f77b4;\" x=\"118.969348\" xlink:href=\"#m6333507b49\" y=\"176.203059\"/>\r\n     <use style=\"fill:#1f77b4;stroke:#1f77b4;\" x=\"139.155069\" xlink:href=\"#m6333507b49\" y=\"178.123915\"/>\r\n     <use style=\"fill:#1f77b4;stroke:#1f77b4;\" x=\"154.424977\" xlink:href=\"#m6333507b49\" y=\"173.51386\"/>\r\n     <use style=\"fill:#1f77b4;stroke:#1f77b4;\" x=\"189.880607\" xlink:href=\"#m6333507b49\" y=\"172.745517\"/>\r\n     <use style=\"fill:#1f77b4;stroke:#1f77b4;\" x=\"205.150516\" xlink:href=\"#m6333507b49\" y=\"172.130843\"/>\r\n     <use style=\"fill:#1f77b4;stroke:#1f77b4;\" x=\"255.876054\" xlink:href=\"#m6333507b49\" y=\"175.565334\"/>\r\n     <use style=\"fill:#1f77b4;stroke:#1f77b4;\" x=\"306.601592\" xlink:href=\"#m6333507b49\" y=\"175.445473\"/>\r\n     <use style=\"fill:#1f77b4;stroke:#1f77b4;\" x=\"357.327131\" xlink:href=\"#m6333507b49\" y=\"175.584889\"/>\r\n     <use style=\"fill:#1f77b4;stroke:#1f77b4;\" x=\"52.973901\" xlink:href=\"#m6333507b49\" y=\"201.174192\"/>\r\n     <use style=\"fill:#1f77b4;stroke:#1f77b4;\" x=\"68.243809\" xlink:href=\"#m6333507b49\" y=\"162.757064\"/>\r\n     <use style=\"fill:#1f77b4;stroke:#1f77b4;\" x=\"88.42953\" xlink:href=\"#m6333507b49\" y=\"170.44049\"/>\r\n     <use style=\"fill:#1f77b4;stroke:#1f77b4;\" x=\"103.699439\" xlink:href=\"#m6333507b49\" y=\"178.123915\"/>\r\n     <use style=\"fill:#1f77b4;stroke:#1f77b4;\" x=\"118.969348\" xlink:href=\"#m6333507b49\" y=\"176.203059\"/>\r\n     <use style=\"fill:#1f77b4;stroke:#1f77b4;\" x=\"139.155069\" xlink:href=\"#m6333507b49\" y=\"172.745517\"/>\r\n     <use style=\"fill:#1f77b4;stroke:#1f77b4;\" x=\"154.424977\" xlink:href=\"#m6333507b49\" y=\"170.824661\"/>\r\n     <use style=\"fill:#1f77b4;stroke:#1f77b4;\" x=\"189.880607\" xlink:href=\"#m6333507b49\" y=\"174.282202\"/>\r\n     <use style=\"fill:#1f77b4;stroke:#1f77b4;\" x=\"205.150516\" xlink:href=\"#m6333507b49\" y=\"172.284512\"/>\r\n     <use style=\"fill:#1f77b4;stroke:#1f77b4;\" x=\"255.876054\" xlink:href=\"#m6333507b49\" y=\"175.89188\"/>\r\n     <use style=\"fill:#1f77b4;stroke:#1f77b4;\" x=\"306.601592\" xlink:href=\"#m6333507b49\" y=\"175.641016\"/>\r\n     <use style=\"fill:#1f77b4;stroke:#1f77b4;\" x=\"357.327131\" xlink:href=\"#m6333507b49\" y=\"175.603406\"/>\r\n     <use style=\"fill:#1f77b4;stroke:#1f77b4;\" x=\"52.973901\" xlink:href=\"#m6333507b49\" y=\"239.59132\"/>\r\n     <use style=\"fill:#1f77b4;stroke:#1f77b4;\" x=\"68.243809\" xlink:href=\"#m6333507b49\" y=\"181.965628\"/>\r\n     <use style=\"fill:#1f77b4;stroke:#1f77b4;\" x=\"88.42953\" xlink:href=\"#m6333507b49\" y=\"178.123915\"/>\r\n     <use style=\"fill:#1f77b4;stroke:#1f77b4;\" x=\"103.699439\" xlink:href=\"#m6333507b49\" y=\"170.44049\"/>\r\n     <use style=\"fill:#1f77b4;stroke:#1f77b4;\" x=\"118.969348\" xlink:href=\"#m6333507b49\" y=\"178.123915\"/>\r\n     <use style=\"fill:#1f77b4;stroke:#1f77b4;\" x=\"139.155069\" xlink:href=\"#m6333507b49\" y=\"179.6606\"/>\r\n     <use style=\"fill:#1f77b4;stroke:#1f77b4;\" x=\"154.424977\" xlink:href=\"#m6333507b49\" y=\"170.056318\"/>\r\n     <use style=\"fill:#1f77b4;stroke:#1f77b4;\" x=\"189.880607\" xlink:href=\"#m6333507b49\" y=\"176.894567\"/>\r\n     <use style=\"fill:#1f77b4;stroke:#1f77b4;\" x=\"205.150516\" xlink:href=\"#m6333507b49\" y=\"176.817733\"/>\r\n     <use style=\"fill:#1f77b4;stroke:#1f77b4;\" x=\"255.876054\" xlink:href=\"#m6333507b49\" y=\"175.707478\"/>\r\n     <use style=\"fill:#1f77b4;stroke:#1f77b4;\" x=\"306.601592\" xlink:href=\"#m6333507b49\" y=\"175.700179\"/>\r\n     <use style=\"fill:#1f77b4;stroke:#1f77b4;\" x=\"357.327131\" xlink:href=\"#m6333507b49\" y=\"175.605173\"/>\r\n     <use style=\"fill:#1f77b4;stroke:#1f77b4;\" x=\"52.973901\" xlink:href=\"#m6333507b49\" y=\"124.339936\"/>\r\n     <use style=\"fill:#1f77b4;stroke:#1f77b4;\" x=\"68.243809\" xlink:href=\"#m6333507b49\" y=\"124.339936\"/>\r\n     <use style=\"fill:#1f77b4;stroke:#1f77b4;\" x=\"88.42953\" xlink:href=\"#m6333507b49\" y=\"162.757064\"/>\r\n     <use style=\"fill:#1f77b4;stroke:#1f77b4;\" x=\"103.699439\" xlink:href=\"#m6333507b49\" y=\"197.332479\"/>\r\n     <use style=\"fill:#1f77b4;stroke:#1f77b4;\" x=\"118.969348\" xlink:href=\"#m6333507b49\" y=\"189.649054\"/>\r\n     <use style=\"fill:#1f77b4;stroke:#1f77b4;\" x=\"139.155069\" xlink:href=\"#m6333507b49\" y=\"176.58723\"/>\r\n     <use style=\"fill:#1f77b4;stroke:#1f77b4;\" x=\"154.424977\" xlink:href=\"#m6333507b49\" y=\"172.745517\"/>\r\n     <use style=\"fill:#1f77b4;stroke:#1f77b4;\" x=\"189.880607\" xlink:href=\"#m6333507b49\" y=\"173.974865\"/>\r\n     <use style=\"fill:#1f77b4;stroke:#1f77b4;\" x=\"205.150516\" xlink:href=\"#m6333507b49\" y=\"176.04939\"/>\r\n     <use style=\"fill:#1f77b4;stroke:#1f77b4;\" x=\"255.876054\" xlink:href=\"#m6333507b49\" y=\"174.919927\"/>\r\n     <use style=\"fill:#1f77b4;stroke:#1f77b4;\" x=\"306.601592\" xlink:href=\"#m6333507b49\" y=\"175.568792\"/>\r\n     <use style=\"fill:#1f77b4;stroke:#1f77b4;\" x=\"357.327131\" xlink:href=\"#m6333507b49\" y=\"175.535062\"/>\r\n     <use style=\"fill:#1f77b4;stroke:#1f77b4;\" x=\"52.973901\" xlink:href=\"#m6333507b49\" y=\"201.174192\"/>\r\n     <use style=\"fill:#1f77b4;stroke:#1f77b4;\" x=\"68.243809\" xlink:href=\"#m6333507b49\" y=\"201.174192\"/>\r\n     <use style=\"fill:#1f77b4;stroke:#1f77b4;\" x=\"88.42953\" xlink:href=\"#m6333507b49\" y=\"201.174192\"/>\r\n     <use style=\"fill:#1f77b4;stroke:#1f77b4;\" x=\"103.699439\" xlink:href=\"#m6333507b49\" y=\"174.282202\"/>\r\n     <use style=\"fill:#1f77b4;stroke:#1f77b4;\" x=\"118.969348\" xlink:href=\"#m6333507b49\" y=\"183.886484\"/>\r\n     <use style=\"fill:#1f77b4;stroke:#1f77b4;\" x=\"139.155069\" xlink:href=\"#m6333507b49\" y=\"171.977175\"/>\r\n     <use style=\"fill:#1f77b4;stroke:#1f77b4;\" x=\"154.424977\" xlink:href=\"#m6333507b49\" y=\"165.830434\"/>\r\n     <use style=\"fill:#1f77b4;stroke:#1f77b4;\" x=\"189.880607\" xlink:href=\"#m6333507b49\" y=\"178.277584\"/>\r\n     <use style=\"fill:#1f77b4;stroke:#1f77b4;\" x=\"205.150516\" xlink:href=\"#m6333507b49\" y=\"176.625647\"/>\r\n     <use style=\"fill:#1f77b4;stroke:#1f77b4;\" x=\"255.876054\" xlink:href=\"#m6333507b49\" y=\"174.735525\"/>\r\n     <use style=\"fill:#1f77b4;stroke:#1f77b4;\" x=\"306.601592\" xlink:href=\"#m6333507b49\" y=\"175.654462\"/>\r\n     <use style=\"fill:#1f77b4;stroke:#1f77b4;\" x=\"357.327131\" xlink:href=\"#m6333507b49\" y=\"175.622845\"/>\r\n     <use style=\"fill:#1f77b4;stroke:#1f77b4;\" x=\"52.973901\" xlink:href=\"#m6333507b49\" y=\"201.174192\"/>\r\n     <use style=\"fill:#1f77b4;stroke:#1f77b4;\" x=\"68.243809\" xlink:href=\"#m6333507b49\" y=\"105.131372\"/>\r\n     <use style=\"fill:#1f77b4;stroke:#1f77b4;\" x=\"88.42953\" xlink:href=\"#m6333507b49\" y=\"201.174192\"/>\r\n     <use style=\"fill:#1f77b4;stroke:#1f77b4;\" x=\"103.699439\" xlink:href=\"#m6333507b49\" y=\"178.123915\"/>\r\n     <use style=\"fill:#1f77b4;stroke:#1f77b4;\" x=\"118.969348\" xlink:href=\"#m6333507b49\" y=\"162.757064\"/>\r\n     <use style=\"fill:#1f77b4;stroke:#1f77b4;\" x=\"139.155069\" xlink:href=\"#m6333507b49\" y=\"163.525407\"/>\r\n     <use style=\"fill:#1f77b4;stroke:#1f77b4;\" x=\"154.424977\" xlink:href=\"#m6333507b49\" y=\"169.287976\"/>\r\n     <use style=\"fill:#1f77b4;stroke:#1f77b4;\" x=\"189.880607\" xlink:href=\"#m6333507b49\" y=\"174.205368\"/>\r\n     <use style=\"fill:#1f77b4;stroke:#1f77b4;\" x=\"205.150516\" xlink:href=\"#m6333507b49\" y=\"175.319465\"/>\r\n     <use style=\"fill:#1f77b4;stroke:#1f77b4;\" x=\"255.876054\" xlink:href=\"#m6333507b49\" y=\"175.51155\"/>\r\n     <use style=\"fill:#1f77b4;stroke:#1f77b4;\" x=\"306.601592\" xlink:href=\"#m6333507b49\" y=\"175.728991\"/>\r\n     <use style=\"fill:#1f77b4;stroke:#1f77b4;\" x=\"357.327131\" xlink:href=\"#m6333507b49\" y=\"175.562645\"/>\r\n     <use style=\"fill:#1f77b4;stroke:#1f77b4;\" x=\"52.973901\" xlink:href=\"#m6333507b49\" y=\"124.339936\"/>\r\n     <use style=\"fill:#1f77b4;stroke:#1f77b4;\" x=\"68.243809\" xlink:href=\"#m6333507b49\" y=\"162.757064\"/>\r\n     <use style=\"fill:#1f77b4;stroke:#1f77b4;\" x=\"88.42953\" xlink:href=\"#m6333507b49\" y=\"170.44049\"/>\r\n     <use style=\"fill:#1f77b4;stroke:#1f77b4;\" x=\"103.699439\" xlink:href=\"#m6333507b49\" y=\"178.123915\"/>\r\n     <use style=\"fill:#1f77b4;stroke:#1f77b4;\" x=\"118.969348\" xlink:href=\"#m6333507b49\" y=\"172.361346\"/>\r\n     <use style=\"fill:#1f77b4;stroke:#1f77b4;\" x=\"139.155069\" xlink:href=\"#m6333507b49\" y=\"179.6606\"/>\r\n     <use style=\"fill:#1f77b4;stroke:#1f77b4;\" x=\"154.424977\" xlink:href=\"#m6333507b49\" y=\"175.818888\"/>\r\n     <use style=\"fill:#1f77b4;stroke:#1f77b4;\" x=\"189.880607\" xlink:href=\"#m6333507b49\" y=\"177.816578\"/>\r\n     <use style=\"fill:#1f77b4;stroke:#1f77b4;\" x=\"205.150516\" xlink:href=\"#m6333507b49\" y=\"175.396299\"/>\r\n     <use style=\"fill:#1f77b4;stroke:#1f77b4;\" x=\"255.876054\" xlink:href=\"#m6333507b49\" y=\"175.688269\"/>\r\n     <use style=\"fill:#1f77b4;stroke:#1f77b4;\" x=\"306.601592\" xlink:href=\"#m6333507b49\" y=\"175.486964\"/>\r\n     <use style=\"fill:#1f77b4;stroke:#1f77b4;\" x=\"357.327131\" xlink:href=\"#m6333507b49\" y=\"175.552618\"/>\r\n     <use style=\"fill:#1f77b4;stroke:#1f77b4;\" x=\"52.973901\" xlink:href=\"#m6333507b49\" y=\"85.922808\"/>\r\n     <use style=\"fill:#1f77b4;stroke:#1f77b4;\" x=\"68.243809\" xlink:href=\"#m6333507b49\" y=\"181.965628\"/>\r\n     <use style=\"fill:#1f77b4;stroke:#1f77b4;\" x=\"88.42953\" xlink:href=\"#m6333507b49\" y=\"147.390213\"/>\r\n     <use style=\"fill:#1f77b4;stroke:#1f77b4;\" x=\"103.699439\" xlink:href=\"#m6333507b49\" y=\"155.073638\"/>\r\n     <use style=\"fill:#1f77b4;stroke:#1f77b4;\" x=\"118.969348\" xlink:href=\"#m6333507b49\" y=\"180.044772\"/>\r\n     <use style=\"fill:#1f77b4;stroke:#1f77b4;\" x=\"139.155069\" xlink:href=\"#m6333507b49\" y=\"180.428943\"/>\r\n     <use style=\"fill:#1f77b4;stroke:#1f77b4;\" x=\"154.424977\" xlink:href=\"#m6333507b49\" y=\"165.830434\"/>\r\n     <use style=\"fill:#1f77b4;stroke:#1f77b4;\" x=\"189.880607\" xlink:href=\"#m6333507b49\" y=\"175.050545\"/>\r\n     <use style=\"fill:#1f77b4;stroke:#1f77b4;\" x=\"205.150516\" xlink:href=\"#m6333507b49\" y=\"175.434716\"/>\r\n     <use style=\"fill:#1f77b4;stroke:#1f77b4;\" x=\"255.876054\" xlink:href=\"#m6333507b49\" y=\"174.739366\"/>\r\n     <use style=\"fill:#1f77b4;stroke:#1f77b4;\" x=\"306.601592\" xlink:href=\"#m6333507b49\" y=\"175.475438\"/>\r\n     <use style=\"fill:#1f77b4;stroke:#1f77b4;\" x=\"357.327131\" xlink:href=\"#m6333507b49\" y=\"175.546625\"/>\r\n     <use style=\"fill:#1f77b4;stroke:#1f77b4;\" x=\"52.973901\" xlink:href=\"#m6333507b49\" y=\"239.59132\"/>\r\n     <use style=\"fill:#1f77b4;stroke:#1f77b4;\" x=\"68.243809\" xlink:href=\"#m6333507b49\" y=\"162.757064\"/>\r\n     <use style=\"fill:#1f77b4;stroke:#1f77b4;\" x=\"88.42953\" xlink:href=\"#m6333507b49\" y=\"185.807341\"/>\r\n     <use style=\"fill:#1f77b4;stroke:#1f77b4;\" x=\"103.699439\" xlink:href=\"#m6333507b49\" y=\"170.44049\"/>\r\n     <use style=\"fill:#1f77b4;stroke:#1f77b4;\" x=\"118.969348\" xlink:href=\"#m6333507b49\" y=\"176.203059\"/>\r\n     <use style=\"fill:#1f77b4;stroke:#1f77b4;\" x=\"139.155069\" xlink:href=\"#m6333507b49\" y=\"168.903804\"/>\r\n     <use style=\"fill:#1f77b4;stroke:#1f77b4;\" x=\"154.424977\" xlink:href=\"#m6333507b49\" y=\"172.361346\"/>\r\n     <use style=\"fill:#1f77b4;stroke:#1f77b4;\" x=\"189.880607\" xlink:href=\"#m6333507b49\" y=\"173.206523\"/>\r\n     <use style=\"fill:#1f77b4;stroke:#1f77b4;\" x=\"205.150516\" xlink:href=\"#m6333507b49\" y=\"173.898031\"/>\r\n     <use style=\"fill:#1f77b4;stroke:#1f77b4;\" x=\"255.876054\" xlink:href=\"#m6333507b49\" y=\"176.249159\"/>\r\n     <use style=\"fill:#1f77b4;stroke:#1f77b4;\" x=\"306.601592\" xlink:href=\"#m6333507b49\" y=\"175.580701\"/>\r\n     <use style=\"fill:#1f77b4;stroke:#1f77b4;\" x=\"357.327131\" xlink:href=\"#m6333507b49\" y=\"175.49215\"/>\r\n     <use style=\"fill:#1f77b4;stroke:#1f77b4;\" x=\"52.973901\" xlink:href=\"#m6333507b49\" y=\"162.757064\"/>\r\n     <use style=\"fill:#1f77b4;stroke:#1f77b4;\" x=\"68.243809\" xlink:href=\"#m6333507b49\" y=\"181.965628\"/>\r\n     <use style=\"fill:#1f77b4;stroke:#1f77b4;\" x=\"88.42953\" xlink:href=\"#m6333507b49\" y=\"170.44049\"/>\r\n     <use style=\"fill:#1f77b4;stroke:#1f77b4;\" x=\"103.699439\" xlink:href=\"#m6333507b49\" y=\"193.490766\"/>\r\n     <use style=\"fill:#1f77b4;stroke:#1f77b4;\" x=\"118.969348\" xlink:href=\"#m6333507b49\" y=\"153.152782\"/>\r\n     <use style=\"fill:#1f77b4;stroke:#1f77b4;\" x=\"139.155069\" xlink:href=\"#m6333507b49\" y=\"181.197285\"/>\r\n     <use style=\"fill:#1f77b4;stroke:#1f77b4;\" x=\"154.424977\" xlink:href=\"#m6333507b49\" y=\"175.818888\"/>\r\n     <use style=\"fill:#1f77b4;stroke:#1f77b4;\" x=\"189.880607\" xlink:href=\"#m6333507b49\" y=\"173.590694\"/>\r\n     <use style=\"fill:#1f77b4;stroke:#1f77b4;\" x=\"205.150516\" xlink:href=\"#m6333507b49\" y=\"176.58723\"/>\r\n     <use style=\"fill:#1f77b4;stroke:#1f77b4;\" x=\"255.876054\" xlink:href=\"#m6333507b49\" y=\"175.042862\"/>\r\n     <use style=\"fill:#1f77b4;stroke:#1f77b4;\" x=\"306.601592\" xlink:href=\"#m6333507b49\" y=\"175.557267\"/>\r\n     <use style=\"fill:#1f77b4;stroke:#1f77b4;\" x=\"357.327131\" xlink:href=\"#m6333507b49\" y=\"175.586848\"/>\r\n     <use style=\"fill:#1f77b4;stroke:#1f77b4;\" x=\"52.973901\" xlink:href=\"#m6333507b49\" y=\"201.174192\"/>\r\n     <use style=\"fill:#1f77b4;stroke:#1f77b4;\" x=\"68.243809\" xlink:href=\"#m6333507b49\" y=\"201.174192\"/>\r\n     <use style=\"fill:#1f77b4;stroke:#1f77b4;\" x=\"88.42953\" xlink:href=\"#m6333507b49\" y=\"185.807341\"/>\r\n     <use style=\"fill:#1f77b4;stroke:#1f77b4;\" x=\"103.699439\" xlink:href=\"#m6333507b49\" y=\"170.44049\"/>\r\n     <use style=\"fill:#1f77b4;stroke:#1f77b4;\" x=\"118.969348\" xlink:href=\"#m6333507b49\" y=\"176.203059\"/>\r\n     <use style=\"fill:#1f77b4;stroke:#1f77b4;\" x=\"139.155069\" xlink:href=\"#m6333507b49\" y=\"171.977175\"/>\r\n     <use style=\"fill:#1f77b4;stroke:#1f77b4;\" x=\"154.424977\" xlink:href=\"#m6333507b49\" y=\"174.282202\"/>\r\n     <use style=\"fill:#1f77b4;stroke:#1f77b4;\" x=\"189.880607\" xlink:href=\"#m6333507b49\" y=\"177.816578\"/>\r\n     <use style=\"fill:#1f77b4;stroke:#1f77b4;\" x=\"205.150516\" xlink:href=\"#m6333507b49\" y=\"176.164642\"/>\r\n     <use style=\"fill:#1f77b4;stroke:#1f77b4;\" x=\"255.876054\" xlink:href=\"#m6333507b49\" y=\"175.058228\"/>\r\n     <use style=\"fill:#1f77b4;stroke:#1f77b4;\" x=\"306.601592\" xlink:href=\"#m6333507b49\" y=\"175.150045\"/>\r\n     <use style=\"fill:#1f77b4;stroke:#1f77b4;\" x=\"357.327131\" xlink:href=\"#m6333507b49\" y=\"175.551159\"/>\r\n     <use style=\"fill:#1f77b4;stroke:#1f77b4;\" x=\"52.973901\" xlink:href=\"#m6333507b49\" y=\"201.174192\"/>\r\n     <use style=\"fill:#1f77b4;stroke:#1f77b4;\" x=\"68.243809\" xlink:href=\"#m6333507b49\" y=\"162.757064\"/>\r\n     <use style=\"fill:#1f77b4;stroke:#1f77b4;\" x=\"88.42953\" xlink:href=\"#m6333507b49\" y=\"162.757064\"/>\r\n     <use style=\"fill:#1f77b4;stroke:#1f77b4;\" x=\"103.699439\" xlink:href=\"#m6333507b49\" y=\"178.123915\"/>\r\n     <use style=\"fill:#1f77b4;stroke:#1f77b4;\" x=\"118.969348\" xlink:href=\"#m6333507b49\" y=\"174.282202\"/>\r\n     <use style=\"fill:#1f77b4;stroke:#1f77b4;\" x=\"139.155069\" xlink:href=\"#m6333507b49\" y=\"175.818888\"/>\r\n     <use style=\"fill:#1f77b4;stroke:#1f77b4;\" x=\"154.424977\" xlink:href=\"#m6333507b49\" y=\"176.971401\"/>\r\n     <use style=\"fill:#1f77b4;stroke:#1f77b4;\" x=\"189.880607\" xlink:href=\"#m6333507b49\" y=\"170.286821\"/>\r\n     <use style=\"fill:#1f77b4;stroke:#1f77b4;\" x=\"205.150516\" xlink:href=\"#m6333507b49\" y=\"177.355573\"/>\r\n     <use style=\"fill:#1f77b4;stroke:#1f77b4;\" x=\"255.876054\" xlink:href=\"#m6333507b49\" y=\"175.615277\"/>\r\n     <use style=\"fill:#1f77b4;stroke:#1f77b4;\" x=\"306.601592\" xlink:href=\"#m6333507b49\" y=\"175.471597\"/>\r\n     <use style=\"fill:#1f77b4;stroke:#1f77b4;\" x=\"357.327131\" xlink:href=\"#m6333507b49\" y=\"175.561762\"/>\r\n     <use style=\"fill:#1f77b4;stroke:#1f77b4;\" x=\"52.973901\" xlink:href=\"#m6333507b49\" y=\"47.50568\"/>\r\n     <use style=\"fill:#1f77b4;stroke:#1f77b4;\" x=\"68.243809\" xlink:href=\"#m6333507b49\" y=\"201.174192\"/>\r\n     <use style=\"fill:#1f77b4;stroke:#1f77b4;\" x=\"88.42953\" xlink:href=\"#m6333507b49\" y=\"116.65651\"/>\r\n     <use style=\"fill:#1f77b4;stroke:#1f77b4;\" x=\"103.699439\" xlink:href=\"#m6333507b49\" y=\"151.231926\"/>\r\n     <use style=\"fill:#1f77b4;stroke:#1f77b4;\" x=\"118.969348\" xlink:href=\"#m6333507b49\" y=\"172.361346\"/>\r\n     <use style=\"fill:#1f77b4;stroke:#1f77b4;\" x=\"139.155069\" xlink:href=\"#m6333507b49\" y=\"174.282202\"/>\r\n     <use style=\"fill:#1f77b4;stroke:#1f77b4;\" x=\"154.424977\" xlink:href=\"#m6333507b49\" y=\"173.898031\"/>\r\n     <use style=\"fill:#1f77b4;stroke:#1f77b4;\" x=\"189.880607\" xlink:href=\"#m6333507b49\" y=\"174.666374\"/>\r\n     <use style=\"fill:#1f77b4;stroke:#1f77b4;\" x=\"205.150516\" xlink:href=\"#m6333507b49\" y=\"177.009818\"/>\r\n     <use style=\"fill:#1f77b4;stroke:#1f77b4;\" x=\"255.876054\" xlink:href=\"#m6333507b49\" y=\"175.653694\"/>\r\n     <use style=\"fill:#1f77b4;stroke:#1f77b4;\" x=\"306.601592\" xlink:href=\"#m6333507b49\" y=\"175.504251\"/>\r\n     <use style=\"fill:#1f77b4;stroke:#1f77b4;\" x=\"357.327131\" xlink:href=\"#m6333507b49\" y=\"175.531374\"/>\r\n     <use style=\"fill:#1f77b4;stroke:#1f77b4;\" x=\"52.973901\" xlink:href=\"#m6333507b49\" y=\"201.174192\"/>\r\n     <use style=\"fill:#1f77b4;stroke:#1f77b4;\" x=\"68.243809\" xlink:href=\"#m6333507b49\" y=\"181.965628\"/>\r\n     <use style=\"fill:#1f77b4;stroke:#1f77b4;\" x=\"88.42953\" xlink:href=\"#m6333507b49\" y=\"155.073638\"/>\r\n     <use style=\"fill:#1f77b4;stroke:#1f77b4;\" x=\"103.699439\" xlink:href=\"#m6333507b49\" y=\"158.915351\"/>\r\n     <use style=\"fill:#1f77b4;stroke:#1f77b4;\" x=\"118.969348\" xlink:href=\"#m6333507b49\" y=\"189.649054\"/>\r\n     <use style=\"fill:#1f77b4;stroke:#1f77b4;\" x=\"139.155069\" xlink:href=\"#m6333507b49\" y=\"171.977175\"/>\r\n     <use style=\"fill:#1f77b4;stroke:#1f77b4;\" x=\"154.424977\" xlink:href=\"#m6333507b49\" y=\"173.898031\"/>\r\n     <use style=\"fill:#1f77b4;stroke:#1f77b4;\" x=\"189.880607\" xlink:href=\"#m6333507b49\" y=\"174.435871\"/>\r\n     <use style=\"fill:#1f77b4;stroke:#1f77b4;\" x=\"205.150516\" xlink:href=\"#m6333507b49\" y=\"178.239167\"/>\r\n     <use style=\"fill:#1f77b4;stroke:#1f77b4;\" x=\"255.876054\" xlink:href=\"#m6333507b49\" y=\"176.076282\"/>\r\n     <use style=\"fill:#1f77b4;stroke:#1f77b4;\" x=\"306.601592\" xlink:href=\"#m6333507b49\" y=\"175.387847\"/>\r\n     <use style=\"fill:#1f77b4;stroke:#1f77b4;\" x=\"357.327131\" xlink:href=\"#m6333507b49\" y=\"175.481355\"/>\r\n     <use style=\"fill:#1f77b4;stroke:#1f77b4;\" x=\"52.973901\" xlink:href=\"#m6333507b49\" y=\"124.339936\"/>\r\n     <use style=\"fill:#1f77b4;stroke:#1f77b4;\" x=\"68.243809\" xlink:href=\"#m6333507b49\" y=\"66.714244\"/>\r\n     <use style=\"fill:#1f77b4;stroke:#1f77b4;\" x=\"88.42953\" xlink:href=\"#m6333507b49\" y=\"170.44049\"/>\r\n     <use style=\"fill:#1f77b4;stroke:#1f77b4;\" x=\"103.699439\" xlink:href=\"#m6333507b49\" y=\"170.44049\"/>\r\n     <use style=\"fill:#1f77b4;stroke:#1f77b4;\" x=\"118.969348\" xlink:href=\"#m6333507b49\" y=\"191.56991\"/>\r\n     <use style=\"fill:#1f77b4;stroke:#1f77b4;\" x=\"139.155069\" xlink:href=\"#m6333507b49\" y=\"168.903804\"/>\r\n     <use style=\"fill:#1f77b4;stroke:#1f77b4;\" x=\"154.424977\" xlink:href=\"#m6333507b49\" y=\"177.739744\"/>\r\n     <use style=\"fill:#1f77b4;stroke:#1f77b4;\" x=\"189.880607\" xlink:href=\"#m6333507b49\" y=\"180.505777\"/>\r\n     <use style=\"fill:#1f77b4;stroke:#1f77b4;\" x=\"205.150516\" xlink:href=\"#m6333507b49\" y=\"176.433562\"/>\r\n     <use style=\"fill:#1f77b4;stroke:#1f77b4;\" x=\"255.876054\" xlink:href=\"#m6333507b49\" y=\"175.450083\"/>\r\n     <use style=\"fill:#1f77b4;stroke:#1f77b4;\" x=\"306.601592\" xlink:href=\"#m6333507b49\" y=\"175.339058\"/>\r\n     <use style=\"fill:#1f77b4;stroke:#1f77b4;\" x=\"357.327131\" xlink:href=\"#m6333507b49\" y=\"175.64117\"/>\r\n     <use style=\"fill:#1f77b4;stroke:#1f77b4;\" x=\"52.973901\" xlink:href=\"#m6333507b49\" y=\"162.757064\"/>\r\n     <use style=\"fill:#1f77b4;stroke:#1f77b4;\" x=\"68.243809\" xlink:href=\"#m6333507b49\" y=\"162.757064\"/>\r\n     <use style=\"fill:#1f77b4;stroke:#1f77b4;\" x=\"88.42953\" xlink:href=\"#m6333507b49\" y=\"185.807341\"/>\r\n     <use style=\"fill:#1f77b4;stroke:#1f77b4;\" x=\"103.699439\" xlink:href=\"#m6333507b49\" y=\"174.282202\"/>\r\n     <use style=\"fill:#1f77b4;stroke:#1f77b4;\" x=\"118.969348\" xlink:href=\"#m6333507b49\" y=\"180.044772\"/>\r\n     <use style=\"fill:#1f77b4;stroke:#1f77b4;\" x=\"139.155069\" xlink:href=\"#m6333507b49\" y=\"191.185739\"/>\r\n     <use style=\"fill:#1f77b4;stroke:#1f77b4;\" x=\"154.424977\" xlink:href=\"#m6333507b49\" y=\"170.824661\"/>\r\n     <use style=\"fill:#1f77b4;stroke:#1f77b4;\" x=\"189.880607\" xlink:href=\"#m6333507b49\" y=\"174.820042\"/>\r\n     <use style=\"fill:#1f77b4;stroke:#1f77b4;\" x=\"205.150516\" xlink:href=\"#m6333507b49\" y=\"174.781625\"/>\r\n     <use style=\"fill:#1f77b4;stroke:#1f77b4;\" x=\"255.876054\" xlink:href=\"#m6333507b49\" y=\"175.918772\"/>\r\n     <use style=\"fill:#1f77b4;stroke:#1f77b4;\" x=\"306.601592\" xlink:href=\"#m6333507b49\" y=\"175.868061\"/>\r\n     <use style=\"fill:#1f77b4;stroke:#1f77b4;\" x=\"357.327131\" xlink:href=\"#m6333507b49\" y=\"175.537981\"/>\r\n     <use style=\"fill:#1f77b4;stroke:#1f77b4;\" x=\"52.973901\" xlink:href=\"#m6333507b49\" y=\"124.339936\"/>\r\n     <use style=\"fill:#1f77b4;stroke:#1f77b4;\" x=\"68.243809\" xlink:href=\"#m6333507b49\" y=\"124.339936\"/>\r\n     <use style=\"fill:#1f77b4;stroke:#1f77b4;\" x=\"88.42953\" xlink:href=\"#m6333507b49\" y=\"139.706787\"/>\r\n     <use style=\"fill:#1f77b4;stroke:#1f77b4;\" x=\"103.699439\" xlink:href=\"#m6333507b49\" y=\"189.649054\"/>\r\n     <use style=\"fill:#1f77b4;stroke:#1f77b4;\" x=\"118.969348\" xlink:href=\"#m6333507b49\" y=\"172.361346\"/>\r\n     <use style=\"fill:#1f77b4;stroke:#1f77b4;\" x=\"139.155069\" xlink:href=\"#m6333507b49\" y=\"177.355573\"/>\r\n     <use style=\"fill:#1f77b4;stroke:#1f77b4;\" x=\"154.424977\" xlink:href=\"#m6333507b49\" y=\"180.428943\"/>\r\n     <use style=\"fill:#1f77b4;stroke:#1f77b4;\" x=\"189.880607\" xlink:href=\"#m6333507b49\" y=\"179.276429\"/>\r\n     <use style=\"fill:#1f77b4;stroke:#1f77b4;\" x=\"205.150516\" xlink:href=\"#m6333507b49\" y=\"176.164642\"/>\r\n     <use style=\"fill:#1f77b4;stroke:#1f77b4;\" x=\"255.876054\" xlink:href=\"#m6333507b49\" y=\"175.73437\"/>\r\n     <use style=\"fill:#1f77b4;stroke:#1f77b4;\" x=\"306.601592\" xlink:href=\"#m6333507b49\" y=\"175.721692\"/>\r\n     <use style=\"fill:#1f77b4;stroke:#1f77b4;\" x=\"357.327131\" xlink:href=\"#m6333507b49\" y=\"175.568792\"/>\r\n     <use style=\"fill:#1f77b4;stroke:#1f77b4;\" x=\"52.973901\" xlink:href=\"#m6333507b49\" y=\"201.174192\"/>\r\n     <use style=\"fill:#1f77b4;stroke:#1f77b4;\" x=\"68.243809\" xlink:href=\"#m6333507b49\" y=\"201.174192\"/>\r\n     <use style=\"fill:#1f77b4;stroke:#1f77b4;\" x=\"88.42953\" xlink:href=\"#m6333507b49\" y=\"216.541043\"/>\r\n     <use style=\"fill:#1f77b4;stroke:#1f77b4;\" x=\"103.699439\" xlink:href=\"#m6333507b49\" y=\"158.915351\"/>\r\n     <use style=\"fill:#1f77b4;stroke:#1f77b4;\" x=\"118.969348\" xlink:href=\"#m6333507b49\" y=\"187.728197\"/>\r\n     <use style=\"fill:#1f77b4;stroke:#1f77b4;\" x=\"139.155069\" xlink:href=\"#m6333507b49\" y=\"178.123915\"/>\r\n     <use style=\"fill:#1f77b4;stroke:#1f77b4;\" x=\"154.424977\" xlink:href=\"#m6333507b49\" y=\"175.050545\"/>\r\n     <use style=\"fill:#1f77b4;stroke:#1f77b4;\" x=\"189.880607\" xlink:href=\"#m6333507b49\" y=\"175.127379\"/>\r\n     <use style=\"fill:#1f77b4;stroke:#1f77b4;\" x=\"205.150516\" xlink:href=\"#m6333507b49\" y=\"175.895722\"/>\r\n     <use style=\"fill:#1f77b4;stroke:#1f77b4;\" x=\"255.876054\" xlink:href=\"#m6333507b49\" y=\"175.296415\"/>\r\n     <use style=\"fill:#1f77b4;stroke:#1f77b4;\" x=\"306.601592\" xlink:href=\"#m6333507b49\" y=\"175.846932\"/>\r\n     <use style=\"fill:#1f77b4;stroke:#1f77b4;\" x=\"357.327131\" xlink:href=\"#m6333507b49\" y=\"175.562338\"/>\r\n     <use style=\"fill:#1f77b4;stroke:#1f77b4;\" x=\"52.973901\" xlink:href=\"#m6333507b49\" y=\"124.339936\"/>\r\n     <use style=\"fill:#1f77b4;stroke:#1f77b4;\" x=\"68.243809\" xlink:href=\"#m6333507b49\" y=\"124.339936\"/>\r\n     <use style=\"fill:#1f77b4;stroke:#1f77b4;\" x=\"88.42953\" xlink:href=\"#m6333507b49\" y=\"178.123915\"/>\r\n     <use style=\"fill:#1f77b4;stroke:#1f77b4;\" x=\"103.699439\" xlink:href=\"#m6333507b49\" y=\"174.282202\"/>\r\n     <use style=\"fill:#1f77b4;stroke:#1f77b4;\" x=\"118.969348\" xlink:href=\"#m6333507b49\" y=\"168.519633\"/>\r\n     <use style=\"fill:#1f77b4;stroke:#1f77b4;\" x=\"139.155069\" xlink:href=\"#m6333507b49\" y=\"171.977175\"/>\r\n     <use style=\"fill:#1f77b4;stroke:#1f77b4;\" x=\"154.424977\" xlink:href=\"#m6333507b49\" y=\"173.898031\"/>\r\n     <use style=\"fill:#1f77b4;stroke:#1f77b4;\" x=\"189.880607\" xlink:href=\"#m6333507b49\" y=\"174.0517\"/>\r\n     <use style=\"fill:#1f77b4;stroke:#1f77b4;\" x=\"205.150516\" xlink:href=\"#m6333507b49\" y=\"176.04939\"/>\r\n     <use style=\"fill:#1f77b4;stroke:#1f77b4;\" x=\"255.876054\" xlink:href=\"#m6333507b49\" y=\"176.779316\"/>\r\n     <use style=\"fill:#1f77b4;stroke:#1f77b4;\" x=\"306.601592\" xlink:href=\"#m6333507b49\" y=\"175.460456\"/>\r\n     <use style=\"fill:#1f77b4;stroke:#1f77b4;\" x=\"357.327131\" xlink:href=\"#m6333507b49\" y=\"175.555231\"/>\r\n     <use style=\"fill:#1f77b4;stroke:#1f77b4;\" x=\"52.973901\" xlink:href=\"#m6333507b49\" y=\"239.59132\"/>\r\n     <use style=\"fill:#1f77b4;stroke:#1f77b4;\" x=\"68.243809\" xlink:href=\"#m6333507b49\" y=\"220.382756\"/>\r\n     <use style=\"fill:#1f77b4;stroke:#1f77b4;\" x=\"88.42953\" xlink:href=\"#m6333507b49\" y=\"201.174192\"/>\r\n     <use style=\"fill:#1f77b4;stroke:#1f77b4;\" x=\"103.699439\" xlink:href=\"#m6333507b49\" y=\"185.807341\"/>\r\n     <use style=\"fill:#1f77b4;stroke:#1f77b4;\" x=\"118.969348\" xlink:href=\"#m6333507b49\" y=\"158.915351\"/>\r\n     <use style=\"fill:#1f77b4;stroke:#1f77b4;\" x=\"139.155069\" xlink:href=\"#m6333507b49\" y=\"162.757064\"/>\r\n     <use style=\"fill:#1f77b4;stroke:#1f77b4;\" x=\"154.424977\" xlink:href=\"#m6333507b49\" y=\"174.666374\"/>\r\n     <use style=\"fill:#1f77b4;stroke:#1f77b4;\" x=\"189.880607\" xlink:href=\"#m6333507b49\" y=\"172.207677\"/>\r\n     <use style=\"fill:#1f77b4;stroke:#1f77b4;\" x=\"205.150516\" xlink:href=\"#m6333507b49\" y=\"173.821197\"/>\r\n     <use style=\"fill:#1f77b4;stroke:#1f77b4;\" x=\"255.876054\" xlink:href=\"#m6333507b49\" y=\"175.407824\"/>\r\n     <use style=\"fill:#1f77b4;stroke:#1f77b4;\" x=\"306.601592\" xlink:href=\"#m6333507b49\" y=\"175.511935\"/>\r\n     <use style=\"fill:#1f77b4;stroke:#1f77b4;\" x=\"357.327131\" xlink:href=\"#m6333507b49\" y=\"175.526034\"/>\r\n     <use style=\"fill:#1f77b4;stroke:#1f77b4;\" x=\"52.973901\" xlink:href=\"#m6333507b49\" y=\"239.59132\"/>\r\n     <use style=\"fill:#1f77b4;stroke:#1f77b4;\" x=\"68.243809\" xlink:href=\"#m6333507b49\" y=\"239.59132\"/>\r\n     <use style=\"fill:#1f77b4;stroke:#1f77b4;\" x=\"88.42953\" xlink:href=\"#m6333507b49\" y=\"178.123915\"/>\r\n     <use style=\"fill:#1f77b4;stroke:#1f77b4;\" x=\"103.699439\" xlink:href=\"#m6333507b49\" y=\"170.44049\"/>\r\n     <use style=\"fill:#1f77b4;stroke:#1f77b4;\" x=\"118.969348\" xlink:href=\"#m6333507b49\" y=\"166.598777\"/>\r\n     <use style=\"fill:#1f77b4;stroke:#1f77b4;\" x=\"139.155069\" xlink:href=\"#m6333507b49\" y=\"181.965628\"/>\r\n     <use style=\"fill:#1f77b4;stroke:#1f77b4;\" x=\"154.424977\" xlink:href=\"#m6333507b49\" y=\"177.355573\"/>\r\n     <use style=\"fill:#1f77b4;stroke:#1f77b4;\" x=\"189.880607\" xlink:href=\"#m6333507b49\" y=\"177.12507\"/>\r\n     <use style=\"fill:#1f77b4;stroke:#1f77b4;\" x=\"205.150516\" xlink:href=\"#m6333507b49\" y=\"173.974865\"/>\r\n     <use style=\"fill:#1f77b4;stroke:#1f77b4;\" x=\"255.876054\" xlink:href=\"#m6333507b49\" y=\"175.64601\"/>\r\n     <use style=\"fill:#1f77b4;stroke:#1f77b4;\" x=\"306.601592\" xlink:href=\"#m6333507b49\" y=\"175.563414\"/>\r\n     <use style=\"fill:#1f77b4;stroke:#1f77b4;\" x=\"357.327131\" xlink:href=\"#m6333507b49\" y=\"175.47102\"/>\r\n     <use style=\"fill:#1f77b4;stroke:#1f77b4;\" x=\"52.973901\" xlink:href=\"#m6333507b49\" y=\"201.174192\"/>\r\n     <use style=\"fill:#1f77b4;stroke:#1f77b4;\" x=\"68.243809\" xlink:href=\"#m6333507b49\" y=\"220.382756\"/>\r\n     <use style=\"fill:#1f77b4;stroke:#1f77b4;\" x=\"88.42953\" xlink:href=\"#m6333507b49\" y=\"170.44049\"/>\r\n     <use style=\"fill:#1f77b4;stroke:#1f77b4;\" x=\"103.699439\" xlink:href=\"#m6333507b49\" y=\"170.44049\"/>\r\n     <use style=\"fill:#1f77b4;stroke:#1f77b4;\" x=\"118.969348\" xlink:href=\"#m6333507b49\" y=\"181.965628\"/>\r\n     <use style=\"fill:#1f77b4;stroke:#1f77b4;\" x=\"139.155069\" xlink:href=\"#m6333507b49\" y=\"175.050545\"/>\r\n     <use style=\"fill:#1f77b4;stroke:#1f77b4;\" x=\"154.424977\" xlink:href=\"#m6333507b49\" y=\"176.971401\"/>\r\n     <use style=\"fill:#1f77b4;stroke:#1f77b4;\" x=\"189.880607\" xlink:href=\"#m6333507b49\" y=\"175.281048\"/>\r\n     <use style=\"fill:#1f77b4;stroke:#1f77b4;\" x=\"205.150516\" xlink:href=\"#m6333507b49\" y=\"175.357882\"/>\r\n     <use style=\"fill:#1f77b4;stroke:#1f77b4;\" x=\"255.876054\" xlink:href=\"#m6333507b49\" y=\"176.606439\"/>\r\n     <use style=\"fill:#1f77b4;stroke:#1f77b4;\" x=\"306.601592\" xlink:href=\"#m6333507b49\" y=\"175.803521\"/>\r\n     <use style=\"fill:#1f77b4;stroke:#1f77b4;\" x=\"357.327131\" xlink:href=\"#m6333507b49\" y=\"175.544897\"/>\r\n     <use style=\"fill:#1f77b4;stroke:#1f77b4;\" x=\"52.973901\" xlink:href=\"#m6333507b49\" y=\"162.757064\"/>\r\n     <use style=\"fill:#1f77b4;stroke:#1f77b4;\" x=\"68.243809\" xlink:href=\"#m6333507b49\" y=\"201.174192\"/>\r\n     <use style=\"fill:#1f77b4;stroke:#1f77b4;\" x=\"88.42953\" xlink:href=\"#m6333507b49\" y=\"162.757064\"/>\r\n     <use style=\"fill:#1f77b4;stroke:#1f77b4;\" x=\"103.699439\" xlink:href=\"#m6333507b49\" y=\"174.282202\"/>\r\n     <use style=\"fill:#1f77b4;stroke:#1f77b4;\" x=\"118.969348\" xlink:href=\"#m6333507b49\" y=\"164.67792\"/>\r\n     <use style=\"fill:#1f77b4;stroke:#1f77b4;\" x=\"139.155069\" xlink:href=\"#m6333507b49\" y=\"181.965628\"/>\r\n     <use style=\"fill:#1f77b4;stroke:#1f77b4;\" x=\"154.424977\" xlink:href=\"#m6333507b49\" y=\"168.903804\"/>\r\n     <use style=\"fill:#1f77b4;stroke:#1f77b4;\" x=\"189.880607\" xlink:href=\"#m6333507b49\" y=\"175.204213\"/>\r\n     <use style=\"fill:#1f77b4;stroke:#1f77b4;\" x=\"205.150516\" xlink:href=\"#m6333507b49\" y=\"175.972556\"/>\r\n     <use style=\"fill:#1f77b4;stroke:#1f77b4;\" x=\"255.876054\" xlink:href=\"#m6333507b49\" y=\"175.968714\"/>\r\n     <use style=\"fill:#1f77b4;stroke:#1f77b4;\" x=\"306.601592\" xlink:href=\"#m6333507b49\" y=\"175.939133\"/>\r\n     <use style=\"fill:#1f77b4;stroke:#1f77b4;\" x=\"357.327131\" xlink:href=\"#m6333507b49\" y=\"175.524574\"/>\r\n     <use style=\"fill:#1f77b4;stroke:#1f77b4;\" x=\"52.973901\" xlink:href=\"#m6333507b49\" y=\"239.59132\"/>\r\n     <use style=\"fill:#1f77b4;stroke:#1f77b4;\" x=\"68.243809\" xlink:href=\"#m6333507b49\" y=\"201.174192\"/>\r\n     <use style=\"fill:#1f77b4;stroke:#1f77b4;\" x=\"88.42953\" xlink:href=\"#m6333507b49\" y=\"193.490766\"/>\r\n     <use style=\"fill:#1f77b4;stroke:#1f77b4;\" x=\"103.699439\" xlink:href=\"#m6333507b49\" y=\"178.123915\"/>\r\n     <use style=\"fill:#1f77b4;stroke:#1f77b4;\" x=\"118.969348\" xlink:href=\"#m6333507b49\" y=\"153.152782\"/>\r\n     <use style=\"fill:#1f77b4;stroke:#1f77b4;\" x=\"139.155069\" xlink:href=\"#m6333507b49\" y=\"162.757064\"/>\r\n     <use style=\"fill:#1f77b4;stroke:#1f77b4;\" x=\"154.424977\" xlink:href=\"#m6333507b49\" y=\"171.977175\"/>\r\n     <use style=\"fill:#1f77b4;stroke:#1f77b4;\" x=\"189.880607\" xlink:href=\"#m6333507b49\" y=\"179.967937\"/>\r\n     <use style=\"fill:#1f77b4;stroke:#1f77b4;\" x=\"205.150516\" xlink:href=\"#m6333507b49\" y=\"174.359037\"/>\r\n     <use style=\"fill:#1f77b4;stroke:#1f77b4;\" x=\"255.876054\" xlink:href=\"#m6333507b49\" y=\"175.073595\"/>\r\n     <use style=\"fill:#1f77b4;stroke:#1f77b4;\" x=\"306.601592\" xlink:href=\"#m6333507b49\" y=\"175.531143\"/>\r\n     <use style=\"fill:#1f77b4;stroke:#1f77b4;\" x=\"357.327131\" xlink:href=\"#m6333507b49\" y=\"175.491689\"/>\r\n     <use style=\"fill:#1f77b4;stroke:#1f77b4;\" x=\"52.973901\" xlink:href=\"#m6333507b49\" y=\"201.174192\"/>\r\n     <use style=\"fill:#1f77b4;stroke:#1f77b4;\" x=\"68.243809\" xlink:href=\"#m6333507b49\" y=\"181.965628\"/>\r\n     <use style=\"fill:#1f77b4;stroke:#1f77b4;\" x=\"88.42953\" xlink:href=\"#m6333507b49\" y=\"178.123915\"/>\r\n     <use style=\"fill:#1f77b4;stroke:#1f77b4;\" x=\"103.699439\" xlink:href=\"#m6333507b49\" y=\"170.44049\"/>\r\n     <use style=\"fill:#1f77b4;stroke:#1f77b4;\" x=\"118.969348\" xlink:href=\"#m6333507b49\" y=\"189.649054\"/>\r\n     <use style=\"fill:#1f77b4;stroke:#1f77b4;\" x=\"139.155069\" xlink:href=\"#m6333507b49\" y=\"168.903804\"/>\r\n     <use style=\"fill:#1f77b4;stroke:#1f77b4;\" x=\"154.424977\" xlink:href=\"#m6333507b49\" y=\"172.361346\"/>\r\n     <use style=\"fill:#1f77b4;stroke:#1f77b4;\" x=\"189.880607\" xlink:href=\"#m6333507b49\" y=\"175.818888\"/>\r\n     <use style=\"fill:#1f77b4;stroke:#1f77b4;\" x=\"205.150516\" xlink:href=\"#m6333507b49\" y=\"175.473133\"/>\r\n     <use style=\"fill:#1f77b4;stroke:#1f77b4;\" x=\"255.876054\" xlink:href=\"#m6333507b49\" y=\"175.185005\"/>\r\n     <use style=\"fill:#1f77b4;stroke:#1f77b4;\" x=\"306.601592\" xlink:href=\"#m6333507b49\" y=\"175.696721\"/>\r\n     <use style=\"fill:#1f77b4;stroke:#1f77b4;\" x=\"357.327131\" xlink:href=\"#m6333507b49\" y=\"175.59165\"/>\r\n     <use style=\"fill:#1f77b4;stroke:#1f77b4;\" x=\"52.973901\" xlink:href=\"#m6333507b49\" y=\"124.339936\"/>\r\n     <use style=\"fill:#1f77b4;stroke:#1f77b4;\" x=\"68.243809\" xlink:href=\"#m6333507b49\" y=\"143.5485\"/>\r\n     <use style=\"fill:#1f77b4;stroke:#1f77b4;\" x=\"88.42953\" xlink:href=\"#m6333507b49\" y=\"162.757064\"/>\r\n     <use style=\"fill:#1f77b4;stroke:#1f77b4;\" x=\"103.699439\" xlink:href=\"#m6333507b49\" y=\"189.649054\"/>\r\n     <use style=\"fill:#1f77b4;stroke:#1f77b4;\" x=\"118.969348\" xlink:href=\"#m6333507b49\" y=\"174.282202\"/>\r\n     <use style=\"fill:#1f77b4;stroke:#1f77b4;\" x=\"139.155069\" xlink:href=\"#m6333507b49\" y=\"181.197285\"/>\r\n     <use style=\"fill:#1f77b4;stroke:#1f77b4;\" x=\"154.424977\" xlink:href=\"#m6333507b49\" y=\"172.361346\"/>\r\n     <use style=\"fill:#1f77b4;stroke:#1f77b4;\" x=\"189.880607\" xlink:href=\"#m6333507b49\" y=\"175.281048\"/>\r\n     <use style=\"fill:#1f77b4;stroke:#1f77b4;\" x=\"205.150516\" xlink:href=\"#m6333507b49\" y=\"174.666374\"/>\r\n     <use style=\"fill:#1f77b4;stroke:#1f77b4;\" x=\"255.876054\" xlink:href=\"#m6333507b49\" y=\"175.158113\"/>\r\n     <use style=\"fill:#1f77b4;stroke:#1f77b4;\" x=\"306.601592\" xlink:href=\"#m6333507b49\" y=\"175.569176\"/>\r\n     <use style=\"fill:#1f77b4;stroke:#1f77b4;\" x=\"357.327131\" xlink:href=\"#m6333507b49\" y=\"175.59626\"/>\r\n    </g>\r\n   </g>\r\n   <g id=\"patch_3\">\r\n    <path d=\"M 37.745313 252.2685 \r\nL 37.745313 34.8285 \r\n\" style=\"fill:none;stroke:#cccccc;stroke-linecap:square;stroke-linejoin:miter;\"/>\r\n   </g>\r\n   <g id=\"patch_4\">\r\n    <path d=\"M 372.545313 252.2685 \r\nL 372.545313 34.8285 \r\n\" style=\"fill:none;stroke:#cccccc;stroke-linecap:square;stroke-linejoin:miter;\"/>\r\n   </g>\r\n   <g id=\"patch_5\">\r\n    <path d=\"M 37.745313 252.2685 \r\nL 372.545312 252.2685 \r\n\" style=\"fill:none;stroke:#cccccc;stroke-linecap:square;stroke-linejoin:miter;\"/>\r\n   </g>\r\n   <g id=\"patch_6\">\r\n    <path d=\"M 37.745313 34.8285 \r\nL 372.545312 34.8285 \r\n\" style=\"fill:none;stroke:#cccccc;stroke-linecap:square;stroke-linejoin:miter;\"/>\r\n   </g>\r\n   <g id=\"text_16\">\r\n    <!-- Частота выпадения значения 3 на кубике -->\r\n    <defs>\r\n     <path d=\"M 58.796875 0 \r\nL 49.3125 0 \r\nL 49.3125 28.859375 \r\nQ 36.578125 24.125 27 24.125 \r\nQ 19.53125 24.125 13.8125 27.609375 \r\nQ 8.109375 31.109375 6.171875 36.46875 \r\nQ 4.25 41.84375 4.25 50.53125 \r\nL 4.25 71.578125 \r\nL 13.71875 71.578125 \r\nL 13.71875 51.421875 \r\nQ 13.71875 39.703125 17.984375 36.015625 \r\nQ 22.265625 32.328125 28.265625 32.328125 \r\nQ 38.28125 32.328125 49.3125 36.765625 \r\nL 49.3125 71.578125 \r\nL 58.796875 71.578125 \r\nz\r\n\" id=\"ArialMT-1063\"/>\r\n     <path d=\"M 6.546875 51.859375 \r\nL 15.328125 51.859375 \r\nL 15.328125 29.4375 \r\nQ 19.53125 29.4375 21.21875 31.046875 \r\nQ 22.90625 32.671875 26.171875 40.4375 \r\nQ 28.765625 46.578125 30.375 48.53125 \r\nQ 31.984375 50.484375 34.078125 51.171875 \r\nQ 36.1875 51.859375 40.828125 51.859375 \r\nL 42.578125 51.859375 \r\nL 42.578125 44.578125 \r\nL 40.140625 44.625 \r\nQ 36.671875 44.625 35.6875 43.609375 \r\nQ 34.671875 42.53125 32.5625 37.203125 \r\nQ 30.5625 32.125 28.90625 30.171875 \r\nQ 27.25 28.21875 23.78125 26.609375 \r\nQ 29.4375 25.09375 34.90625 16.0625 \r\nL 44.53125 0 \r\nL 34.859375 0 \r\nL 25.484375 16.0625 \r\nQ 22.609375 20.90625 20.453125 22.4375 \r\nQ 18.3125 23.96875 15.328125 23.96875 \r\nL 15.328125 0 \r\nL 6.546875 0 \r\nz\r\n\" id=\"ArialMT-1082\"/>\r\n     <path d=\"M 6.203125 -19.96875 \r\nL 5.21875 -11.71875 \r\nQ 8.109375 -12.5 10.25 -12.5 \r\nQ 13.1875 -12.5 14.9375 -11.515625 \r\nQ 16.703125 -10.546875 17.828125 -8.796875 \r\nQ 18.65625 -7.46875 20.515625 -2.25 \r\nQ 20.75 -1.515625 21.296875 -0.09375 \r\nL 1.609375 51.859375 \r\nL 11.078125 51.859375 \r\nL 21.875 21.828125 \r\nQ 23.96875 16.109375 25.640625 9.8125 \r\nQ 27.15625 15.875 29.25 21.625 \r\nL 40.328125 51.859375 \r\nL 49.125 51.859375 \r\nL 29.390625 -0.875 \r\nQ 26.21875 -9.421875 24.46875 -12.640625 \r\nQ 22.125 -17 19.09375 -19.015625 \r\nQ 16.0625 -21.046875 11.859375 -21.046875 \r\nQ 9.328125 -21.046875 6.203125 -19.96875 \r\nz\r\n\" id=\"ArialMT-1091\"/>\r\n     <path d=\"M 44.578125 73.296875 \r\nL 52.34375 73.1875 \r\nQ 51.8125 67.96875 50.03125 65.921875 \r\nQ 48.25 63.875 45.4375 63.28125 \r\nQ 42.625 62.703125 34.421875 62.703125 \r\nQ 23.53125 62.703125 19.578125 60.59375 \r\nQ 15.625 58.5 13.890625 53.875 \r\nQ 12.15625 49.265625 11.96875 42 \r\nQ 15.28125 46.921875 19.71875 49.390625 \r\nQ 24.171875 51.859375 29.734375 51.859375 \r\nQ 39.9375 51.859375 46.625 44.84375 \r\nQ 53.328125 37.84375 53.328125 25.875 \r\nQ 53.328125 16.796875 49.953125 10.984375 \r\nQ 46.578125 5.171875 41.96875 2 \r\nQ 37.359375 -1.171875 29.390625 -1.171875 \r\nQ 20.171875 -1.171875 15.03125 3.046875 \r\nQ 9.90625 7.28125 7.171875 13.859375 \r\nQ 4.4375 20.453125 4.4375 36.8125 \r\nQ 4.4375 57.375 11.390625 64.5 \r\nQ 18.359375 71.625 32.8125 71.625 \r\nQ 41.796875 71.625 43.015625 71.921875 \r\nQ 44.234375 72.21875 44.578125 73.296875 \r\nz\r\nM 44.140625 26.125 \r\nQ 44.140625 34.234375 40.296875 39.40625 \r\nQ 36.46875 44.578125 29.5 44.578125 \r\nQ 22.21875 44.578125 18.265625 39.109375 \r\nQ 14.3125 33.640625 14.3125 24.515625 \r\nQ 14.3125 15.484375 18.671875 10.6875 \r\nQ 23.046875 5.90625 29.4375 5.90625 \r\nQ 35.984375 5.90625 40.0625 11.453125 \r\nQ 44.140625 17 44.140625 26.125 \r\nz\r\n\" id=\"ArialMT-1073\"/>\r\n    </defs>\r\n    <g style=\"fill:#262626;\" transform=\"translate(89.334063 15.995625)scale(0.12 -0.12)\">\r\n     <use xlink:href=\"#ArialMT-1063\"/>\r\n     <use x=\"66.650391\" xlink:href=\"#ArialMT-1072\"/>\r\n     <use x=\"122.265625\" xlink:href=\"#ArialMT-1089\"/>\r\n     <use x=\"172.265625\" xlink:href=\"#ArialMT-1090\"/>\r\n     <use x=\"218.050781\" xlink:href=\"#ArialMT-1086\"/>\r\n     <use x=\"273.634766\" xlink:href=\"#ArialMT-1090\"/>\r\n     <use x=\"319.419922\" xlink:href=\"#ArialMT-1072\"/>\r\n     <use x=\"375.035156\" xlink:href=\"#ArialMT-32\"/>\r\n     <use x=\"402.818359\" xlink:href=\"#ArialMT-1074\"/>\r\n     <use x=\"455.943359\" xlink:href=\"#ArialMT-1099\"/>\r\n     <use x=\"527.818359\" xlink:href=\"#ArialMT-1087\"/>\r\n     <use x=\"581.96875\" xlink:href=\"#ArialMT-1072\"/>\r\n     <use x=\"637.583984\" xlink:href=\"#ArialMT-1076\"/>\r\n     <use x=\"695.933594\" xlink:href=\"#ArialMT-1077\"/>\r\n     <use x=\"751.548828\" xlink:href=\"#ArialMT-1085\"/>\r\n     <use x=\"806.773438\" xlink:href=\"#ArialMT-1080\"/>\r\n     <use x=\"862.632812\" xlink:href=\"#ArialMT-1103\"/>\r\n     <use x=\"916.783203\" xlink:href=\"#ArialMT-32\"/>\r\n     <use x=\"944.566406\" xlink:href=\"#ArialMT-1079\"/>\r\n     <use x=\"990.416016\" xlink:href=\"#ArialMT-1085\"/>\r\n     <use x=\"1045.640625\" xlink:href=\"#ArialMT-1072\"/>\r\n     <use x=\"1101.224609\" xlink:href=\"#ArialMT-1095\"/>\r\n     <use x=\"1153.324219\" xlink:href=\"#ArialMT-1077\"/>\r\n     <use x=\"1208.939453\" xlink:href=\"#ArialMT-1085\"/>\r\n     <use x=\"1264.164062\" xlink:href=\"#ArialMT-1080\"/>\r\n     <use x=\"1320.023438\" xlink:href=\"#ArialMT-1103\"/>\r\n     <use x=\"1374.173828\" xlink:href=\"#ArialMT-32\"/>\r\n     <use x=\"1401.957031\" xlink:href=\"#ArialMT-51\"/>\r\n     <use x=\"1457.572266\" xlink:href=\"#ArialMT-32\"/>\r\n     <use x=\"1485.355469\" xlink:href=\"#ArialMT-1085\"/>\r\n     <use x=\"1540.580078\" xlink:href=\"#ArialMT-1072\"/>\r\n     <use x=\"1596.195312\" xlink:href=\"#ArialMT-32\"/>\r\n     <use x=\"1623.978516\" xlink:href=\"#ArialMT-1082\"/>\r\n     <use x=\"1667.744141\" xlink:href=\"#ArialMT-1091\"/>\r\n     <use x=\"1717.759766\" xlink:href=\"#ArialMT-1073\"/>\r\n     <use x=\"1775.035156\" xlink:href=\"#ArialMT-1080\"/>\r\n     <use x=\"1830.894531\" xlink:href=\"#ArialMT-1082\"/>\r\n     <use x=\"1874.660156\" xlink:href=\"#ArialMT-1077\"/>\r\n    </g>\r\n    <!-- при разном числе испытаний -->\r\n    <defs>\r\n     <path d=\"M 6.59375 -19.875 \r\nL 6.59375 51.859375 \r\nL 14.59375 51.859375 \r\nL 14.59375 45.125 \r\nQ 17.4375 49.078125 21 51.046875 \r\nQ 24.5625 53.03125 29.640625 53.03125 \r\nQ 36.28125 53.03125 41.359375 49.609375 \r\nQ 46.4375 46.1875 49.015625 39.953125 \r\nQ 51.609375 33.734375 51.609375 26.3125 \r\nQ 51.609375 18.359375 48.75 11.984375 \r\nQ 45.90625 5.609375 40.453125 2.21875 \r\nQ 35.015625 -1.171875 29 -1.171875 \r\nQ 24.609375 -1.171875 21.109375 0.6875 \r\nQ 17.625 2.546875 15.375 5.375 \r\nL 15.375 -19.875 \r\nz\r\nM 14.546875 25.640625 \r\nQ 14.546875 15.625 18.59375 10.84375 \r\nQ 22.65625 6.0625 28.421875 6.0625 \r\nQ 34.28125 6.0625 38.453125 11.015625 \r\nQ 42.625 15.96875 42.625 26.375 \r\nQ 42.625 36.28125 38.546875 41.203125 \r\nQ 34.46875 46.140625 28.8125 46.140625 \r\nQ 23.1875 46.140625 18.859375 40.890625 \r\nQ 14.546875 35.640625 14.546875 25.640625 \r\nz\r\n\" id=\"ArialMT-1088\"/>\r\n     <path d=\"M 6.84375 51.859375 \r\nL 20.515625 51.859375 \r\nL 34.125 10.359375 \r\nL 49.265625 51.859375 \r\nL 61.921875 51.859375 \r\nL 61.921875 0 \r\nL 53.125 0 \r\nL 53.125 41.75 \r\nL 37.796875 0 \r\nL 29.9375 0 \r\nL 15.4375 43.75 \r\nL 15.4375 0 \r\nL 6.84375 0 \r\nz\r\n\" id=\"ArialMT-1084\"/>\r\n    </defs>\r\n    <g style=\"fill:#262626;\" transform=\"translate(123.682188 28.8285)scale(0.12 -0.12)\">\r\n     <use xlink:href=\"#ArialMT-1087\"/>\r\n     <use x=\"54.150391\" xlink:href=\"#ArialMT-1088\"/>\r\n     <use x=\"109.765625\" xlink:href=\"#ArialMT-1080\"/>\r\n     <use x=\"165.625\" xlink:href=\"#ArialMT-32\"/>\r\n     <use x=\"193.408203\" xlink:href=\"#ArialMT-1088\"/>\r\n     <use x=\"249.023438\" xlink:href=\"#ArialMT-1072\"/>\r\n     <use x=\"304.623047\" xlink:href=\"#ArialMT-1079\"/>\r\n     <use x=\"350.472656\" xlink:href=\"#ArialMT-1085\"/>\r\n     <use x=\"405.697266\" xlink:href=\"#ArialMT-1086\"/>\r\n     <use x=\"461.3125\" xlink:href=\"#ArialMT-1084\"/>\r\n     <use x=\"530.0625\" xlink:href=\"#ArialMT-32\"/>\r\n     <use x=\"557.845703\" xlink:href=\"#ArialMT-1095\"/>\r\n     <use x=\"609.945312\" xlink:href=\"#ArialMT-1080\"/>\r\n     <use x=\"665.804688\" xlink:href=\"#ArialMT-1089\"/>\r\n     <use x=\"715.804688\" xlink:href=\"#ArialMT-1083\"/>\r\n     <use x=\"774.154297\" xlink:href=\"#ArialMT-1077\"/>\r\n     <use x=\"829.769531\" xlink:href=\"#ArialMT-32\"/>\r\n     <use x=\"857.552734\" xlink:href=\"#ArialMT-1080\"/>\r\n     <use x=\"913.412109\" xlink:href=\"#ArialMT-1089\"/>\r\n     <use x=\"963.412109\" xlink:href=\"#ArialMT-1087\"/>\r\n     <use x=\"1017.5625\" xlink:href=\"#ArialMT-1099\"/>\r\n     <use x=\"1089.4375\" xlink:href=\"#ArialMT-1090\"/>\r\n     <use x=\"1135.222656\" xlink:href=\"#ArialMT-1072\"/>\r\n     <use x=\"1190.837891\" xlink:href=\"#ArialMT-1085\"/>\r\n     <use x=\"1246.0625\" xlink:href=\"#ArialMT-1080\"/>\r\n     <use x=\"1301.921875\" xlink:href=\"#ArialMT-1081\"/>\r\n    </g>\r\n   </g>\r\n  </g>\r\n </g>\r\n <defs>\r\n  <clipPath id=\"pf6f5f26159\">\r\n   <rect height=\"217.44\" width=\"334.8\" x=\"37.745313\" y=\"34.8285\"/>\r\n  </clipPath>\r\n </defs>\r\n</svg>\r\n"
     },
     "metadata": {}
    }
   ],
   "source": [
    "ns = [10, 20, 50, 100, 200, 500, 1000, 5000, 10 ** 4, 10 ** 5, 10 ** 6, 10 ** 7]\n",
    "\n",
    "x = []\n",
    "y = []\n",
    "\n",
    "for _ in trange(50):\n",
    "    for n in ns:\n",
    "        x.append(n)\n",
    "        y.append(dice_frequency(n))\n",
    "\n",
    "plt.scatter(x, y, s=10)\n",
    "    \n",
    "plt.axhline(y=1 / 6, c='black', ls='dashed', lw=1).set_zorder(0)\n",
    "    \n",
    "plt.xscale('log')\n",
    "\n",
    "plt.title('Частота выпадения значения 3 на кубике\\nпри разном числе испытаний')\n",
    "plt.xlabel('число испытаний')\n",
    "plt.ylabel('частота выпадения значения 3')\n",
    "\n",
    "plt.show()"
   ]
  },
  {
   "cell_type": "markdown",
   "metadata": {},
   "source": [
    "__Статистической вероятностью__ события $A$ называется его относительная частота при достаточно большом («бесконечном») количестве опытов. Вероятность события $A$ обозначается $P(A)$.\n",
    "\n",
    "Например, при многократном повторении бросков монеты относительная частота выпадения орла может различаться, однако, вероятность выпадения орла равна $0.5$."
   ]
  },
  {
   "cell_type": "markdown",
   "metadata": {},
   "source": [
    "Свойства вероятности:\n",
    "\n",
    "* $0 \\leq P(A) \\leq 1$ для любого события $A$.\n",
    "* $P(\\varnothing) = 0$, $P(\\Omega) = 1$, где $\\varnothing$ — невозможное событие, $\\Omega$ — достоверное событие.\n",
    "* $P(A + B) = P(A) + P(B) - P(AB)$, где $A + B$ — объединение событий (происходит хотя бы одно), а $AB$ — совместное событие (происходят оба).\n",
    "* В частности, __для несовместных событий__ $P(A + B) = P(A) + P(B)$.\n",
    "* $P(A) + P \\left( \\overline{A} \\right) = 1$ для любого события $A$.\n",
    "\n",
    "_Замечание_. Ещё раз подчеркнём, что __вероятности произвольных событий суммировать нельзя__, сперва необходимо установить несовместность событий."
   ]
  },
  {
   "cell_type": "markdown",
   "metadata": {},
   "source": [
    "### Комбинаторика\n",
    "\n",
    "__Комбинаторика__ — раздел математики, в котором изучаются задачи выбора элементов из заданного множества и расположения их в группы по заданным правилам.\n",
    "\n",
    "Мы изучим:\n",
    "1. размещения,\n",
    "2. перестановки,\n",
    "3. сочетания."
   ]
  },
  {
   "cell_type": "markdown",
   "metadata": {
    "colab_type": "text",
    "id": "dWGTf84XsFKA"
   },
   "source": [
    "__Размещение из $n$ элементов по $k$ элементов__ — это упорядоченный набор из $k$ элементов, выбранных из множества, содержащего $n$ элементов.\n",
    "\n",
    "_Замечание_: здесь $k$ и $n$ — натуральные числа и $0 \\leq k \\leq n$.\n",
    "\n",
    "Например, набор $(1, 3, 5)$ является размещением из множества $\\{ 1, 2, 3, 4, 5 \\}$.\n",
    "\n",
    "В размещениях важен порядок. Так, $(1, 3, 5)$ и $(5, 1, 3)$ — разные размещения.\n",
    "\n",
    "_Договорённость_: будем обозначать _круглыми_ скобками _упорядоченные_ наборы, а _фигурными_ — _неупорядоченные_."
   ]
  },
  {
   "cell_type": "markdown",
   "metadata": {},
   "source": [
    "Посчитаем количество размещений из $n$ по $k$. Представим себе $k$ пустых ячеек. В первой ячейке может быть любой из $n$ элементов. Во второй ячейке может быть что угодно кроме элемента из первой ячейки, т.е. всего $n - 1$ элементов. В третьей ячейке, аналогично, может быть любой из $n - 2$ элементов, и т.д.\n",
    "\n",
    "Теперь чтобы получить число всевозможных размещений, нужно перемножить все эти числа. Итак, __количество размещений из $n$ по $k$__:\n",
    "$$A_n^k = n \\cdot (n - 1) \\cdot (n - 2) \\cdots (n - k + 1) = \\dfrac{n!}{(n - k)!},$$\n",
    "где $n! = n \\cdot (n - 1) \\cdot (n - 2) \\cdots 2 \\cdot 1$ — факториал."
   ]
  },
  {
   "cell_type": "code",
   "execution_count": 39,
   "metadata": {
    "colab": {},
    "colab_type": "code",
    "id": "aRmxVO1vwvEY"
   },
   "outputs": [],
   "source": [
    "def arrangements(n: int, k: int) -> int:\n",
    "    \"\"\"Число размещений.\n",
    "    \"\"\"\n",
    "    \n",
    "    return np.math.factorial(n) // np.math.factorial(n - k)"
   ]
  },
  {
   "cell_type": "markdown",
   "metadata": {
    "colab_type": "text",
    "id": "1K0UMRiisFKG"
   },
   "source": [
    "__Перестановкой из $n$ элементов__ называется размещение из $n$ элементов по $n$ элементов.\n",
    "\n",
    "Чтобы посчитать количество перестановок, достаточно знать, что $0! = 1$. Итак, __количество перестановок из $n$ элементов__:\n",
    "$$P_n = \\dfrac{n!}{0!} =  n!$$"
   ]
  },
  {
   "cell_type": "code",
   "execution_count": 40,
   "metadata": {
    "colab": {},
    "colab_type": "code",
    "id": "ktyYJlBLPfP5"
   },
   "outputs": [],
   "source": [
    "def permutations(n: int) -> int:\n",
    "    \"\"\"Число перестановок.\n",
    "    \"\"\"\n",
    "    \n",
    "    return np.math.factorial(n)"
   ]
  },
  {
   "cell_type": "markdown",
   "metadata": {
    "colab_type": "text",
    "id": "zjQq1-wrsFKC"
   },
   "source": [
    "__Сочетание из $n$ элементов по $k$ элементов__ — это __не__ упорядоченный набор из $k$ элементов, выбранных из множества, содержащего $n$ элементов.\n",
    "\n",
    "Например, набор $\\{ 1, 3, 5 \\}$ является размещением из множества $\\{ 1, 2, 3, 4, 5 \\}$. При этом, $\\{ 1, 3, 5 \\}$ и $\\{ 5, 1, 3 \\}$ — одно и то же сочетание.\n",
    "\n",
    "Сочетаний из $n$ по $k$ меньше, чем размещений. Насколько меньше? Из каждого сочетания размера $k$ можно получить ровно $k!$ различных размещений (переставляя элементы из сочетания всевозможными способами). Итак, __число сочетаний из $n$ по $k$__:\n",
    "$$C_n^k = \\dfrac{A_n^k}{P_k} =  \\dfrac{n!}{k! (n - k)!}$$"
   ]
  },
  {
   "cell_type": "code",
   "execution_count": 41,
   "metadata": {
    "colab": {},
    "colab_type": "code",
    "id": "XqmC5AY8I_Ie"
   },
   "outputs": [],
   "source": []
  },
  {
   "cell_type": "markdown",
   "metadata": {
    "colab_type": "text",
    "id": "aRbqU8vBsFKJ"
   },
   "source": [
    "__Пример 4__\n",
    "\n",
    "Сколькими способами можно выбрать из колоды, состоящей из $36$ карт, $4$ карты?\n",
    "\n",
    "Поскольку здесь важен не порядок, а лишь содержание, воспользуемся формулой сочетаний:\n",
    "$$C_{36}^4 = \\frac{36!}{4! \\: (36 - 4)!} = \\frac{36!}{4! \\: 32!} = \\frac{33 \\cdot 34 \\cdot 35 \\cdot 36}{4!} = \\frac{33 \\cdot 34 \\cdot 35 \\cdot 36}{2 \\cdot 3 \\cdot 4} = 58905$$"
   ]
  },
  {
   "cell_type": "code",
   "execution_count": 42,
   "metadata": {
    "colab": {
     "base_uri": "https://localhost:8080/",
     "height": 35
    },
    "colab_type": "code",
    "executionInfo": {
     "elapsed": 915,
     "status": "ok",
     "timestamp": 1541495297480,
     "user": {
      "displayName": "Виолетта Гайдак",
      "photoUrl": "",
      "userId": "16983940382840418244"
     },
     "user_tz": -420
    },
    "id": "vCudU0J8PnJv",
    "outputId": "c736c037-f7d1-44e3-d100-855b144d85fb"
   },
   "outputs": [
    {
     "output_type": "execute_result",
     "data": {
      "text/plain": [
       "58905"
      ]
     },
     "metadata": {},
     "execution_count": 42
    }
   ],
   "source": [
    "combinations(36, 4)"
   ]
  },
  {
   "cell_type": "markdown",
   "metadata": {
    "colab_type": "text",
    "id": "WXfKNhFGsFKQ"
   },
   "source": [
    "__Пример 5__\n",
    "\n",
    "В магазине $20$ покупателей. Сколькими способами они могут образовать очередь из $5$ человек?\n",
    "\n",
    "В этом примере важен порядок, в котором покупатели будут стоять в очереди, поэтому применим формулу размещений:"
   ]
  },
  {
   "cell_type": "code",
   "execution_count": 43,
   "metadata": {
    "colab": {
     "base_uri": "https://localhost:8080/",
     "height": 35
    },
    "colab_type": "code",
    "executionInfo": {
     "elapsed": 999,
     "status": "ok",
     "timestamp": 1541495298528,
     "user": {
      "displayName": "Виолетта Гайдак",
      "photoUrl": "",
      "userId": "16983940382840418244"
     },
     "user_tz": -420
    },
    "id": "gKsM5aeoP32n",
    "outputId": "a36f1388-4b49-4f4a-dfa4-be18b9fd5325"
   },
   "outputs": [
    {
     "output_type": "execute_result",
     "data": {
      "text/plain": [
       "1860480"
      ]
     },
     "metadata": {},
     "execution_count": 43
    }
   ],
   "source": [
    "arrangements(20, 5)"
   ]
  },
  {
   "cell_type": "markdown",
   "metadata": {
    "colab_type": "text",
    "id": "aFeIzgkQsFKR"
   },
   "source": [
    "__Пример 6__\n",
    "\n",
    "Сколькими способами $5$ покупателей могут образовать очередь?\n",
    "\n",
    "Этот пример похож на предыдущий, но есть важное отличие: не нужно выбирать $5$ покупателей из $20$. Здесь их всего $5$, и все должны присутствовать в очереди, поэтому нам нужно число перестановок:"
   ]
  },
  {
   "cell_type": "code",
   "execution_count": 44,
   "metadata": {
    "colab": {
     "base_uri": "https://localhost:8080/",
     "height": 35
    },
    "colab_type": "code",
    "executionInfo": {
     "elapsed": 926,
     "status": "ok",
     "timestamp": 1541495299570,
     "user": {
      "displayName": "Виолетта Гайдак",
      "photoUrl": "",
      "userId": "16983940382840418244"
     },
     "user_tz": -420
    },
    "id": "SGljzgzEW-Pz",
    "outputId": "fa4d0994-b727-4a5f-dd3b-c9e0b7d52423"
   },
   "outputs": [
    {
     "output_type": "execute_result",
     "data": {
      "text/plain": [
       "120"
      ]
     },
     "metadata": {},
     "execution_count": 44
    }
   ],
   "source": [
    "permutations(5)"
   ]
  },
  {
   "cell_type": "code",
   "execution_count": 45,
   "metadata": {},
   "outputs": [
    {
     "output_type": "execute_result",
     "data": {
      "text/plain": [
       "120"
      ]
     },
     "metadata": {},
     "execution_count": 45
    }
   ],
   "source": [
    "arrangements(5, 5)"
   ]
  },
  {
   "cell_type": "markdown",
   "metadata": {},
   "source": [
    "__Пример 7__\n",
    "\n",
    "Сколькими способами можно из колоды, состоящей из $36$ карт, выбрать $5$ так, чтобы среди них оказалось $2$ туза?"
   ]
  },
  {
   "cell_type": "markdown",
   "metadata": {},
   "source": [
    "Для решения разделим мысленно колоду на две части: в первой будут лежать только тузы ($4$ штуки), а во второй — всё кроме этих тузов ($32$ штуки). Если в «руке» $5$ карт, среди которых $2$ туза, то такую руку можно получить, вытащив $2$ карты из части с тузами и $3$ карты из части с остальными картами.\n",
    "\n",
    "Итак, если мы хотим перебрать все такие «руки», то достаточно найти число способов вытащить $2$ туза из $4$, $3$ не-туза из $32$, а затем перемножить результаты:\n",
    "$$a = C_4^2 \\cdot C_{32}^3 = 29760$$"
   ]
  },
  {
   "cell_type": "code",
   "execution_count": 47,
   "metadata": {},
   "outputs": [
    {
     "output_type": "execute_result",
     "data": {
      "text/plain": [
       "29760"
      ]
     },
     "metadata": {},
     "execution_count": 47
    }
   ],
   "source": [
    "a = combinations(4, 2) * combinations(32, 3)\n",
    "a"
   ]
  },
  {
   "cell_type": "markdown",
   "metadata": {
    "colab_type": "text",
    "id": "wzEHNWr1sFKU"
   },
   "source": [
    "__Пример 8__\n",
    "\n",
    "Сколькими способами можно из колоды, состоящей из $36$ карт, выбрать $5$ так, чтобы среди них оказалось от $2$ до $3$ тузов?\n",
    "\n",
    "В чём отличие этой задачи от предыдущей? В предыдущей считались только наборы из $5$ карт с двумя тузами. Здесь же тузов может быть как $2$, так и $3$.\n",
    "\n",
    "Удобнее всего эту задачу решать по частям. Мы уже нашли число $a$ способов достать $5$ карт, среди которых ровно $2$ туза. Найдём аналогичным образом число $b$ способов достать $5$ карт, среди которых ровно $3$ туза."
   ]
  },
  {
   "cell_type": "code",
   "execution_count": 48,
   "metadata": {
    "colab": {
     "base_uri": "https://localhost:8080/",
     "height": 35
    },
    "colab_type": "code",
    "executionInfo": {
     "elapsed": 818,
     "status": "ok",
     "timestamp": 1541495305340,
     "user": {
      "displayName": "Виолетта Гайдак",
      "photoUrl": "",
      "userId": "16983940382840418244"
     },
     "user_tz": -420
    },
    "id": "CALKLpyyYPyU",
    "outputId": "2e65039e-664f-48f6-f6aa-ec7ad24d4328"
   },
   "outputs": [
    {
     "output_type": "execute_result",
     "data": {
      "text/plain": [
       "1984"
      ]
     },
     "metadata": {},
     "execution_count": 48
    }
   ],
   "source": [
    "b = combinations(4, 3) * combinations(32, 2)\n",
    "b"
   ]
  },
  {
   "cell_type": "markdown",
   "metadata": {
    "colab_type": "text",
    "id": "yi6iylD_sFKd"
   },
   "source": [
    "Наконец, отметим, что в первом списке комбинаций карт ($2$ туза) и втором списке ($3$ туза) нет одинаковых комбинаций, поскольку в одной «руке» не может быть одновременно и ровно $2$, и ровно $3$ туза. Это означает, что для получения ответа числа $a$ и $b$ достаточно сложить:"
   ]
  },
  {
   "cell_type": "code",
   "execution_count": 49,
   "metadata": {
    "colab": {
     "base_uri": "https://localhost:8080/",
     "height": 35
    },
    "colab_type": "code",
    "executionInfo": {
     "elapsed": 1050,
     "status": "ok",
     "timestamp": 1541495306445,
     "user": {
      "displayName": "Виолетта Гайдак",
      "photoUrl": "",
      "userId": "16983940382840418244"
     },
     "user_tz": -420
    },
    "id": "VKo6iTmLYR-b",
    "outputId": "6e6f62d9-de4b-4d36-fe01-8696a9f50f69"
   },
   "outputs": [
    {
     "output_type": "execute_result",
     "data": {
      "text/plain": [
       "31744"
      ]
     },
     "metadata": {},
     "execution_count": 49
    }
   ],
   "source": [
    "a + b"
   ]
  },
  {
   "cell_type": "markdown",
   "metadata": {},
   "source": [
    "### Классическое определение вероятности\n",
    "\n",
    "Итак, зачем всё это нужно?\n",
    "\n",
    "Сформулируем __классическое определение вероятности__. Предположим, проводится опыт с $n$ возможными исходами, причём все эти исходы равновозможны и несовместны. Такие исходы называются __элементарными событиями__.\n",
    "\n",
    "Например, \n",
    "* Игральный кубик бросается однажды. Его выпадение каждой из $6$ сторон — все элементарные события.\n",
    "* Кубик бросается дважды. Элементарные события — все пары его значений."
   ]
  },
  {
   "cell_type": "markdown",
   "metadata": {},
   "source": [
    "Рассмотрим событие $A$, которое можно «собрать» из элементарных событий (т.е. указать, какие элементарные события повлекут за собой событие $A$, а какие — нет).\n",
    "\n",
    "Например, выпадение кубика стороной, значение которой не превышает $3$, включает в себя три элементарных события: $1$, $2$ и $3$.\n",
    "\n",
    "__Вероятность__ события $A$:\n",
    "$$P(A) = \\dfrac{m}{n}$$\n",
    "\n",
    "Здесь $n$ — общее число исходов, а $m$ — число исходов, которые влекут за собой событие $A$."
   ]
  },
  {
   "cell_type": "markdown",
   "metadata": {},
   "source": [
    "__Пример 9__\n",
    "\n",
    "Вычислим вероятность того, что на игральной кости выпадет число $3$. Известно, что у кости шесть граней с числами от $1$ до $6$ и каждая может выпасть с равной вероятностью. По классической формуле вероятности получаем результат:\n",
    "$$P(A) = \\frac{m}{n} = \\frac{1}{6}$$"
   ]
  },
  {
   "cell_type": "markdown",
   "metadata": {},
   "source": [
    "__Пример 10__\n",
    "\n",
    "Бросаются одновременно три игральных кубика. Какова вероятность того, что все три значения будут одинаковыми?\n",
    "\n",
    "Всего есть $6 \\cdot 6 \\cdot 6$ исходов, поскольку каждый из кубиков может выпасть любой из $6$ сторон. Нас интересуют исходы, при которых все три значения совпали. Таких событий $6$. Итак,\n",
    "$$P(A) = \\dfrac{6}{6^3} = \\dfrac{1}{36}$$"
   ]
  },
  {
   "cell_type": "markdown",
   "metadata": {},
   "source": [
    "### Условная вероятность. Независимые события\n",
    "\n",
    "Наступление одного события может влиять на наступление другого. Например, вероятность того, что за день хоть раз выпадет снег, выше зимой.\n",
    "\n",
    "__Условная вероятность__ $P(A|B)$ — это вероятность наступления события $A$ при условии, что произошло событие $B$.\n",
    "$$P(A | B) = \\dfrac{P(AB)}{P(B)}$$\n",
    "\n",
    "_Замечание_. Такое определение интуитивно напоминает классическое определение вероятности, данное выше: «доля» вероятности совместного события $AB$ относительно вероятности события $B$."
   ]
  },
  {
   "cell_type": "markdown",
   "metadata": {},
   "source": [
    "События $A$ и $B$ называются __независимыми__, если $P(A|B) = P(A)$, т.е. если наступление события $B$ не влияет на вероятность события $A$, и наоборот. Например, при многократном броске кубика результаты одного броска никак не влияют на результаты других бросков. Напротив, события «зима» и «снег» из примера выше, являются зависимыми.\n",
    "\n",
    "_Замечание_. Зависимость событий не означает, что одно гарантированно влечёт другое. Она лишь означает, что наступление одного __меняет вероятность__ наступления другого.\n",
    "\n",
    "__Для независимых событий__:\n",
    "$$P(AB) = P(A) \\cdot P(B)$$\n",
    "\n",
    "_Замечание_. Аналогично суммированию, __вероятности произвольных событий перемножать нельзя__, сперва необходимо установить независимость событий."
   ]
  },
  {
   "cell_type": "markdown",
   "metadata": {},
   "source": [
    "__Пример 11__\n",
    "\n",
    "Наугад выбирается точка с круглой мишени. Пусть событие $A$ заключается в выборе точки из правой половины, а событие $B$ — выбор точки из нижней половины. Являются ли эти события зависимыми?\n",
    "\n",
    "Считаем, что $P(A) = P(B) = 1/2$. Посчитаем совместную вероятность $P(AB)$. Событие $AB$ соответствует выбору точки из правой нижней четверти, т.е. $P(AB) = 1/4$. Следовательно, \n",
    "$$P(A|B) = \\dfrac{P(AB)}{P(B)} = \\dfrac{\\frac{1}{4}}{\\frac{1}{2}} = \\dfrac{1}{2}.$$\n",
    "\n",
    "Поскольку $P(A|B) = P(A)$, заключаем, что события $A$ и $B$ независимы."
   ]
  },
  {
   "cell_type": "markdown",
   "metadata": {},
   "source": [
    "### Формула полной вероятности. Формула Байеса\n",
    "\n",
    "Говорят, что события $H_1$, $H_2$, $\\dots$, $H_n$ образуют __полную группу событий__, если они несовместны, и в ходе любого испытания одно из этих событий обязательно произойдёт.\n",
    "\n",
    "__Формула полной вероятности__ для таких событий и произвольного события $A$:\n",
    "$$P(A) = P(A | H_1) \\cdot P(H_1) + P(A | H_2) \\cdot P(H_2) + \\dots + P(A | H_n) \\cdot P(H_n).$$\n",
    "\n",
    "В частности, для любых событий $A$ и $B$:\n",
    "$$P(A) = P(A | B) \\cdot P(B) + P \\left( A | \\overline{B} \\right) \\cdot P \\left(  \\right)$$"
   ]
  },
  {
   "cell_type": "markdown",
   "metadata": {},
   "source": [
    "__Пример 12__\n",
    "\n",
    "Есть три одинаковые корзины. В первой лежат три красных и пять зелёных мячей, во второй — только красные, а в третьей — только зелёные мячи. Случайно выбирается одна корзина, и из неё случайным образом извлекается мяч. \n",
    "\n",
    "_Вопрос_: Какова вероятность того, что этот мяч — зелёный? "
   ]
  },
  {
   "cell_type": "markdown",
   "metadata": {},
   "source": [
    "Решим эту задачу с помощью формулы полной вероятности. Событием $A$ будем считать то, что достали зелёный мяч, а событием $H_i$ — что выбрали $i$-ю корзину. Будем считать, что ни одной из корзин не делается предпочтение. Другими словами, вероятность выбрать каждую корзину равна $P(H_i) = 1/3$."
   ]
  },
  {
   "cell_type": "markdown",
   "metadata": {},
   "source": [
    "Вероятность достать зелёный мяч при условии, что выбрана первая корзина, равен $P(A | H_1) = \\dfrac{5}{3 + 5} = \\dfrac{5}{8}$. При выборе второй корзины вероятность вынуть зелёный мяч равна $P(A | H_2) = 0$. В случае с третьей корзиной вероятность равна $P(A | H_3) = 1$, так как все мячи в ней — зелёные.\n",
    "\n",
    "Подставим данные значения в формулу полной вероятности и получим ответ:\n",
    "$$P(A) = \\frac{5}{8} \\cdot \\frac{1}{3} + 0 \\cdot \\frac{1}{3} + 1 \\cdot \\frac{1}{3} = \\frac{5}{24} + 0 + \\frac{1}{3} = \\frac{13}{24} \\approx 0.5417$$"
   ]
  },
  {
   "cell_type": "code",
   "execution_count": 50,
   "metadata": {},
   "outputs": [
    {
     "output_type": "execute_result",
     "data": {
      "text/plain": [
       "0.5416666666666666"
      ]
     },
     "metadata": {},
     "execution_count": 50
    }
   ],
   "source": [
    "13 / 24"
   ]
  },
  {
   "cell_type": "markdown",
   "metadata": {},
   "source": [
    "__Формула Байеса__ позволяет «развернуть» условную вероятность $P(A|B)$, т.е. выразить её через $P(B|A)$. По определению условной вероятности:\n",
    "$$P(A|B) = \\dfrac{P(AB)}{P(B)}$$\n",
    "Совместную вероятность $P(AB)$ можно теперь выразить в обратном порядке:\n",
    "$P(AB) = P(B|A) \\cdot P(A)$\n",
    "\n",
    "Итак, формула Байеса:\n",
    "$$P(A|B) = \\dfrac{P(B|A) \\cdot P(A)}{P(B)}$$"
   ]
  },
  {
   "cell_type": "markdown",
   "metadata": {},
   "source": [
    "__Пример 13__\n",
    "\n",
    "Продолжим пример 12: таким же образом выбирается наугад корзина, и из неё случайным образом извлекается мяч. Допустим, мяч оказался зелёным. Какова вероятность, что он извлекался: а) из первой корзины, б) из второй корзины? в) из третьей корзины?"
   ]
  },
  {
   "cell_type": "markdown",
   "metadata": {},
   "source": [
    "Будем использовать те же обозначения, что и в примере 12. В этих обозначениях от нас требуется найти три вероятности:\n",
    "$$P(H_i \\mid A),$$\n",
    "где $i \\in \\{1, 2, 3\\}$. Каждую из них можно раскрыть по формуле Байеса:\n",
    "$$P(H_i \\mid A) = \\dfrac{P(A \\mid H_i ) \\cdot P(H_i)}{P(A)}$$"
   ]
  },
  {
   "cell_type": "markdown",
   "metadata": {},
   "source": [
    "Как мы уже установили, $P(H_i) = 1/3$ для всех $i$. Кроме того, $P(A)$ уже посчитана в предыдущем примере с использованием формулы полной вероятности: $P(A) = \\dfrac{13}{24}$. Наконец, условные вероятности $P(A \\mid H_i)$ нам даны. Они равны, соответственно, $5/8$, $0$ и $1$."
   ]
  },
  {
   "cell_type": "markdown",
   "metadata": {},
   "source": [
    "Итак, искомые вероятности:\n",
    "$$P(H_1 \\mid A) = \\dfrac{P(A \\mid H_1 ) \\cdot P(H_1)}{P(A)} = \\dfrac{5/8 \\cdot 1/3}{13/24} \\approx 0.3846$$\n",
    "\n",
    "$$P(H_2 \\mid A) = \\dfrac{0 \\cdot 1/3}{13/24} = 0$$\n",
    "\n",
    "$$P(H_3 \\mid A) = \\dfrac{1 \\cdot 1/3}{13/24} \\approx 0.6154$$"
   ]
  },
  {
   "cell_type": "markdown",
   "metadata": {
    "colab_type": "text",
    "id": "7euBINZMsFKw"
   },
   "source": [
    "__Пример 14__\n",
    "\n",
    "Соревнования по биатлону. Один из трёх спортсменов стреляет и попадает в мишень. Вероятность такого события для первого спортсмена равна $0.2$, для второго — $0.4$, для третьего — $0.7$.\n",
    "\n",
    "_Задача_: найти вероятность того, что стрелял третий спортсмен."
   ]
  },
  {
   "cell_type": "markdown",
   "metadata": {},
   "source": [
    "Сразу же определимся с тем, какие события мы здесь рассматриваем. Пусть событие $A$ заключается в том, что произошло попадание в мишень. Кроме того, пусть для каждого $i \\in \\{ 1, 2, 3 \\}$ событие $B_i$ заключается в том, что выстрелил $i$-й спортсмен.\n",
    "\n",
    "В такой формулировке наша задача — найти вероятность $P(B_3 | A)$. По формуле Байеса:\n",
    "$$P(B_3|A) = \\frac{P(A|B_3) \\cdot P(B_3)}{P(A)}.$$"
   ]
  },
  {
   "cell_type": "markdown",
   "metadata": {},
   "source": [
    "Мы можем считать, что каждому спортсмену были даны одинаковые возможности выстрелить. Поэтому можно предположить, что вероятность каждого события $B_i$ равна $P(B_i) =  1/3$.\n",
    "\n",
    "Кроме того, нам даны вероятности попадания в мишень для каждого из спортсменов:\n",
    "$$P(A|B_1) = 0.2$$\n",
    "$$P(A|B_2) = 0.4$$\n",
    "$$P(A|B_3) = 0.7$$"
   ]
  },
  {
   "cell_type": "markdown",
   "metadata": {},
   "source": [
    "Остаётся лишь оценить безусловную вероятность попадания в мишень — $P(A)$. Для этого воспользуемся формулой полной вероятности, считая, что кроме наших трёх спортсменов выстрелить никто не мог. В таком случае\n",
    "$$P(A) = P(A | B_1) \\cdot P(B_1) + P(A | B_2) \\cdot P(B_2) + P(A | B_3) \\cdot P(B_3).$$\n",
    "\n",
    "Имеем:\n",
    "$$P(A) = 0.2 \\cdot \\dfrac{1}{3} + 0.4 \\cdot \\dfrac{1}{3} + 0.7 \\cdot \\dfrac{1}{3} = \\dfrac{13}{30}$$"
   ]
  },
  {
   "cell_type": "markdown",
   "metadata": {},
   "source": [
    "Итак, искомая вероятность:\n",
    "$$P(B_3|A) = \\dfrac{0.7 \\cdot \\frac{1}{3}}{\\frac{13}{30}} = \\frac{7}{13} \\approx 0.5385$$"
   ]
  },
  {
   "cell_type": "code",
   "execution_count": 40,
   "metadata": {},
   "outputs": [
    {
     "data": {
      "text/plain": [
       "0.5384615384615384"
      ]
     },
     "execution_count": 40,
     "metadata": {},
     "output_type": "execute_result"
    }
   ],
   "source": [
    "7 / 13"
   ]
  },
  {
   "cell_type": "markdown",
   "metadata": {},
   "source": [
    "Формула Байеса является основой для одной из моделей машинного обучения, решающих задачу классификации — __Наивного Байесовского классификатора__ (__Naive Bayes classifier__).\n",
    "\n",
    "Как работает эта модель — читайте в дополнительных материалах к уроку."
   ]
  },
  {
   "cell_type": "code",
   "execution_count": null,
   "metadata": {},
   "outputs": [],
   "source": []
  }
 ],
 "metadata": {
  "colab": {
   "name": "Матстат - Урок 1.ipynb",
   "provenance": [],
   "version": "0.3.2"
  },
  "kernelspec": {
   "display_name": "Python 3",
   "language": "python",
   "name": "python3"
  },
  "language_info": {
   "codemirror_mode": {
    "name": "ipython",
    "version": 3
   },
   "file_extension": ".py",
   "mimetype": "text/x-python",
   "name": "python",
   "nbconvert_exporter": "python",
   "pygments_lexer": "ipython3",
   "version": "3.7.3-final"
  }
 },
 "nbformat": 4,
 "nbformat_minor": 4
}